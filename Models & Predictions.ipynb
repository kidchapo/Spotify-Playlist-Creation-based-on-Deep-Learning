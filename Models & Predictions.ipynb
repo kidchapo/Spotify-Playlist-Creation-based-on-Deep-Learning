{
 "cells": [
  {
   "cell_type": "markdown",
   "id": "3bd05b59",
   "metadata": {
    "id": "3bd05b59"
   },
   "source": [
    "# Machine Learning And Content Analysis\n",
    "\n",
    "## Get Spotify playlist based on a given input text\n",
    "\n",
    "By the end of this assignment, the user will be able to give a text as an input, and have a playlist created in his __Spotify__ account, expressing the input text the user gave. \n"
   ]
  },
  {
   "cell_type": "markdown",
   "id": "501e31cb",
   "metadata": {
    "id": "501e31cb"
   },
   "source": [
    "### Loading packages"
   ]
  },
  {
   "cell_type": "code",
   "execution_count": 1,
   "id": "a347a74a",
   "metadata": {
    "id": "a347a74a"
   },
   "outputs": [],
   "source": [
    "import pandas as pd\n",
    "import numpy as np\n",
    "from collections import Counter\n",
    "import os\n",
    "import datetime\n",
    "import time\n",
    "\n",
    "os.chdir(r'C:\\Users\\kosta\\OneDrive\\MSCBA\\ML_Assignment')"
   ]
  },
  {
   "cell_type": "markdown",
   "id": "08b8028b",
   "metadata": {
    "id": "08b8028b"
   },
   "source": [
    "### Read the data collected in the other notebooks\n",
    "\n",
    "- The _lyricsdf_ dataframe contains .., through the process that took place in the __Get Lyrics__ Notebook\n",
    "- The _pool_ DataFrame contains.."
   ]
  },
  {
   "cell_type": "code",
   "execution_count": 2,
   "id": "b29ce73f",
   "metadata": {},
   "outputs": [],
   "source": [
    "lyricsdf = pd.read_csv('lyrics-b.csv')"
   ]
  },
  {
   "cell_type": "code",
   "execution_count": 3,
   "id": "5cce3a99",
   "metadata": {},
   "outputs": [],
   "source": [
    "pool = pd.read_csv('tracks-c.csv')\n",
    "\n",
    "pool = pool[['release_date','id','name','artists','energy','popularity','danceability','valence','acousticness','liveness']]\n",
    "pool['comp'] = pool.iloc[:,4:10].values.tolist()\n",
    "\n",
    "pool['Y'] = pd.to_datetime(pool['release_date']).dt.year"
   ]
  },
  {
   "cell_type": "code",
   "execution_count": null,
   "id": "719120e5",
   "metadata": {
    "id": "719120e5"
   },
   "outputs": [],
   "source": []
  },
  {
   "cell_type": "markdown",
   "id": "16608053",
   "metadata": {
    "id": "16608053"
   },
   "source": [
    "# Scaling Data\n",
    "\n",
    "- The data on the dataset appear to be in different scales\n",
    "- To combat this we are going to use Min Max Scaler, to scale the data"
   ]
  },
  {
   "cell_type": "code",
   "execution_count": 4,
   "id": "22acad71",
   "metadata": {
    "id": "22acad71"
   },
   "outputs": [],
   "source": [
    "lyricsdf  = lyricsdf[['track_name', 'artist', 'genre', 'track_id', 'lyrics','energy','popularity','danceability','valence','acousticness','liveness']] "
   ]
  },
  {
   "cell_type": "markdown",
   "id": "3d8a330c",
   "metadata": {
    "id": "3d8a330c"
   },
   "source": [
    "Since we deal with unscaled data, and we are going to use distance later on, scaling is needed to acquire proper results"
   ]
  },
  {
   "cell_type": "code",
   "execution_count": 5,
   "id": "9bfaccfe",
   "metadata": {
    "colab": {
     "base_uri": "https://localhost:8080/"
    },
    "id": "9bfaccfe",
    "outputId": "e054dc1b-32cc-4dca-aa18-6c3a7a5e929a"
   },
   "outputs": [],
   "source": [
    "from sklearn.preprocessing import MinMaxScaler\n",
    "\n",
    "scaler = MinMaxScaler()\n",
    "\n",
    "lyricsdf[['energy','popularity','danceability','valence','acousticness','liveness']] =scaler.fit_transform(lyricsdf[['energy','popularity','danceability','valence','acousticness','liveness']])\n",
    "pool[['energy','popularity','danceability','valence','acousticness','liveness']] =scaler.fit_transform(pool[['energy','popularity','danceability','valence','acousticness','liveness']])"
   ]
  },
  {
   "cell_type": "markdown",
   "id": "f1a0318d",
   "metadata": {
    "id": "f1a0318d"
   },
   "source": [
    "# Text processing"
   ]
  },
  {
   "cell_type": "markdown",
   "id": "af7c0796",
   "metadata": {
    "id": "af7c0796"
   },
   "source": [
    "In this part, we are going to adress the 'lyrics' column, take care of the text in order for it to be ready to be tokenized later via TF-IDF"
   ]
  },
  {
   "cell_type": "code",
   "execution_count": 6,
   "id": "24fbd7a5",
   "metadata": {
    "id": "24fbd7a5"
   },
   "outputs": [],
   "source": [
    "from sklearn.feature_extraction.text import TfidfVectorizer\n",
    "\n",
    "import re\n",
    "import nltk\n",
    "import string\n",
    "\n",
    "from matplotlib import pyplot as plt"
   ]
  },
  {
   "cell_type": "code",
   "execution_count": 7,
   "id": "c990cb7d",
   "metadata": {
    "colab": {
     "base_uri": "https://localhost:8080/"
    },
    "id": "c990cb7d",
    "outputId": "3e4d697d-8e1a-47ca-843f-e42c8be18bc5"
   },
   "outputs": [
    {
     "name": "stderr",
     "output_type": "stream",
     "text": [
      "[nltk_data] Downloading package stopwords to\n",
      "[nltk_data]     C:\\Users\\kosta\\AppData\\Roaming\\nltk_data...\n",
      "[nltk_data]   Package stopwords is already up-to-date!\n"
     ]
    }
   ],
   "source": [
    "nltk.download('stopwords')\n",
    "stopwords = nltk.corpus.stopwords.words(\"english\")"
   ]
  },
  {
   "cell_type": "code",
   "execution_count": 8,
   "id": "c4e1222e",
   "metadata": {
    "id": "c4e1222e"
   },
   "outputs": [],
   "source": [
    "def text_clean(x):\n",
    "    word = 'lyrics'\n",
    "    pattern  = \".*\" + word\n",
    "    x  = re.sub(pattern, '', x)\n",
    "    x = x.lower() \n",
    "    x = x.encode('ascii', 'ignore').decode() \n",
    "    x = re.sub(r'\\'\\w+', '', x) \n",
    "    x = re.sub(r'\\w*\\d+\\w*', '', x)\n",
    "    x = re.sub(r'\\s{2,}', ' ', x)\n",
    "    x = re.sub(r'\\s[^\\w\\s]\\s', '', x)\n",
    "    x = ' '.join([word for word in x.split(' ') if word not in stopwords])\n",
    "    return x"
   ]
  },
  {
   "cell_type": "code",
   "execution_count": 9,
   "id": "4f8a49d6",
   "metadata": {
    "id": "4f8a49d6"
   },
   "outputs": [],
   "source": [
    "lyricsdf['lyrics'] = lyricsdf.lyrics.apply(text_clean)"
   ]
  },
  {
   "cell_type": "code",
   "execution_count": 10,
   "id": "a20e9b76",
   "metadata": {
    "colab": {
     "base_uri": "https://localhost:8080/"
    },
    "id": "a20e9b76",
    "outputId": "33f0aaca-612d-4e8a-b3df-da732c5b9462"
   },
   "outputs": [
    {
     "name": "stdout",
     "output_type": "stream",
     "text": [
      "funeral lyrics\n",
      "i went funeral, could feel something\n",
      "don know living feel nothing\n",
      "and without now? see head\n",
      "getting high nature girl, wish best oh, time think you, empty-hearted\n",
      "oh, tell got far started welcome funeral, nice came\n",
      "here final eulogy us name\n",
      "oh, could love right, know right?\n",
      "you know yourself\n",
      "love eternal light ours, died (oh)\n",
      "oh, anytime think you, empty-hearted\n",
      "oh, tell got far started\n",
      "oh, anytime think you, empty-hearted\n",
      "oh, tell got far started welcome funeral, nice cameembed distress lyricsheard favorite song radio\n",
      "i get tired know\n",
      "is whole life coming me\n",
      "or problem anxiety\n",
      "she said\n",
      "spent last days wide awake\n",
      "and know much take\n",
      "i one life live\n",
      "and want give can\n",
      "even though something right\n",
      "we really want fatal fever got feeling tonight\n",
      "i want know\n",
      "i wanna go\n",
      "i wanna take far away\n",
      "i say night night time gonna friend know\n",
      "half past two stepped into\n",
      "the place want be\n",
      "oooh might lay head\n",
      "i trying find sleep\n",
      "well three days since good meal\n",
      "i without beer four\n",
      "and know wake \n"
     ]
    }
   ],
   "source": [
    "lyrics = lyricsdf['lyrics']\n",
    "corpora = \" \".join(lyrics)\n",
    "\n",
    "print(corpora[:1000])"
   ]
  },
  {
   "cell_type": "code",
   "execution_count": 11,
   "id": "ef47fef7",
   "metadata": {
    "id": "ef47fef7"
   },
   "outputs": [],
   "source": [
    "X = lyricsdf['lyrics']"
   ]
  },
  {
   "cell_type": "code",
   "execution_count": 12,
   "id": "3513cdc9",
   "metadata": {
    "id": "3513cdc9"
   },
   "outputs": [],
   "source": [
    "yenergy = lyricsdf['energy']\n",
    "ypopularity = lyricsdf['popularity']\n",
    "ydanceability = lyricsdf['danceability']\n",
    "yvalence = lyricsdf['valence']\n",
    "yacousticness = lyricsdf['acousticness']\n",
    "yliveness = lyricsdf['liveness']"
   ]
  },
  {
   "cell_type": "markdown",
   "id": "1260306c",
   "metadata": {
    "id": "1260306c"
   },
   "source": [
    "# Train - Test Splits"
   ]
  },
  {
   "cell_type": "code",
   "execution_count": 13,
   "id": "8eb87b61",
   "metadata": {
    "id": "8eb87b61"
   },
   "outputs": [],
   "source": [
    "from sklearn.model_selection import train_test_split"
   ]
  },
  {
   "cell_type": "code",
   "execution_count": 14,
   "id": "c2678eb9",
   "metadata": {
    "id": "c2678eb9"
   },
   "outputs": [],
   "source": [
    "X_train_val, X_test, y_train_val_energy, y_test_energy = train_test_split(X,\n",
    "                                                            yenergy,\n",
    "                                                            test_size=0.20,\n",
    "                                                            random_state=42)"
   ]
  },
  {
   "cell_type": "code",
   "execution_count": 15,
   "id": "1f6c19bb",
   "metadata": {
    "id": "1f6c19bb"
   },
   "outputs": [],
   "source": [
    "X_train, X_val, y_train_energy, y_val_energy = train_test_split(X_train_val,\n",
    "                                                  y_train_val_energy,\n",
    "                                                  test_size=0.20, \n",
    "                                                  random_state=42)"
   ]
  },
  {
   "cell_type": "markdown",
   "id": "f462c944",
   "metadata": {
    "id": "f462c944"
   },
   "source": [
    "Now we want to recreate the same split for the rest of Ys"
   ]
  },
  {
   "cell_type": "code",
   "execution_count": 16,
   "id": "4629c330",
   "metadata": {
    "id": "4629c330"
   },
   "outputs": [],
   "source": [
    "y_train_val_popularity = ypopularity[y_train_val_energy.index]\n",
    "y_train_popularity = ypopularity[y_train_energy.index]\n",
    "y_val_popularity = ypopularity[y_val_energy.index]\n",
    "y_test_popularity = ypopularity[y_test_energy.index]"
   ]
  },
  {
   "cell_type": "code",
   "execution_count": 17,
   "id": "713ce8f7",
   "metadata": {
    "id": "713ce8f7"
   },
   "outputs": [],
   "source": [
    "y_train_val_danceability = ydanceability[y_train_val_energy.index]\n",
    "y_train_danceability = ydanceability[y_train_energy.index]\n",
    "y_val_danceability = ydanceability[y_val_energy.index]\n",
    "y_test_danceability = ydanceability[y_test_energy.index]"
   ]
  },
  {
   "cell_type": "code",
   "execution_count": 18,
   "id": "7a6e9250",
   "metadata": {
    "id": "7a6e9250"
   },
   "outputs": [],
   "source": [
    "y_train_val_valence = yvalence[y_train_val_energy.index]\n",
    "y_train_valence = yvalence[y_train_energy.index]\n",
    "y_val_valence = yvalence[y_val_energy.index]\n",
    "y_test_valence = yvalence[y_test_energy.index]"
   ]
  },
  {
   "cell_type": "code",
   "execution_count": 19,
   "id": "2c5d4043",
   "metadata": {
    "id": "2c5d4043"
   },
   "outputs": [],
   "source": [
    "y_train_val_acousticness = yacousticness[y_train_val_energy.index]\n",
    "y_train_acousticness = yacousticness[y_train_energy.index]\n",
    "y_val_acousticness = yacousticness[y_val_energy.index]\n",
    "y_test_acousticness = yacousticness[y_test_energy.index]"
   ]
  },
  {
   "cell_type": "code",
   "execution_count": 20,
   "id": "46490ffe",
   "metadata": {
    "id": "46490ffe"
   },
   "outputs": [],
   "source": [
    "y_train_val_liveness = yliveness[y_train_val_energy.index]\n",
    "y_train_liveness = yliveness[y_train_energy.index]\n",
    "y_val_liveness = yliveness[y_val_energy.index]\n",
    "y_test_liveness = yliveness[y_test_energy.index]"
   ]
  },
  {
   "cell_type": "code",
   "execution_count": 21,
   "id": "2760dd8e",
   "metadata": {
    "colab": {
     "base_uri": "https://localhost:8080/"
    },
    "id": "2760dd8e",
    "outputId": "00c0f0f0-a20a-4573-8c0a-d6430f4e0cf9",
    "scrolled": false
   },
   "outputs": [
    {
     "name": "stdout",
     "output_type": "stream",
     "text": [
      "Train - Validations Shapes\n",
      "----------------------------------------\n",
      "\n",
      "X_train_val shape: (14902,)\n",
      "y_train_val_energy shape: (14902,)\n",
      "y_train_val_popularity shape: (14902,)\n",
      "y_train_val_danceability shape: (14902,)\n",
      "y_train_val_valence shape: (14902,)\n",
      "y_train_val_acousticness shape: (14902,)\n",
      "y_train_val_liveness shape: (14902,)\n",
      "----------------------------------------\n",
      "\n",
      "Train Shapes\n",
      "----------------------------------------\n",
      "\n",
      "X_train shape: (11921,)\n",
      "y_train_energy shape: (11921,)\n",
      "y_train_popularity shape: (11921,)\n",
      "y_train_danceability shape: (11921,)\n",
      "y_train_valence shape: (11921,)\n",
      "y_train_acousticness shape: (11921,)\n",
      "y_train_liveness shape: (11921,)\n",
      "----------------------------------------\n",
      "\n",
      "Validation Shapes\n",
      "----------------------------------------\n",
      "\n",
      "X_val shape: (2981,)\n",
      "y_val_energy shape: (2981,)\n",
      "y_val_popularity shape: (2981,)\n",
      "y_val_danceability shape: (2981,)\n",
      "y_val_valence shape: (2981,)\n",
      "y_val_acousticness shape: (2981,)\n",
      "y_val_liveness shape: (2981,)\n",
      "----------------------------------------\n",
      "\n",
      "Test Shapes\n",
      "----------------------------------------\n",
      "\n",
      "X_test shape: (3726,)\n",
      "y_test_energy shape: (3726,)\n",
      "y_test_popularity shape: (3726,)\n",
      "y_test_danceability shape: (3726,)\n",
      "y_test_valence shape: (3726,)\n",
      "y_test_acousticness shape: (3726,)\n",
      "y_test_liveness shape: (3726,)\n",
      "----------------------------------------\n",
      "\n"
     ]
    }
   ],
   "source": [
    "print('Train - Validations Shapes')\n",
    "print(40*'-')\n",
    "print()\n",
    "print(f'X_train_val shape: {X_train_val.shape}')\n",
    "print(f'y_train_val_energy shape: {y_train_val_energy.shape}')\n",
    "print(f'y_train_val_popularity shape: {y_train_val_popularity.shape}')\n",
    "print(f'y_train_val_danceability shape: {y_train_val_danceability.shape}')\n",
    "print(f'y_train_val_valence shape: {y_train_val_valence.shape}')\n",
    "print(f'y_train_val_acousticness shape: {y_train_val_acousticness.shape}')\n",
    "print(f'y_train_val_liveness shape: {y_train_val_liveness.shape}')\n",
    "print(40*'-')\n",
    "print()\n",
    "\n",
    "print('Train Shapes')\n",
    "print(40*'-')\n",
    "print()\n",
    "print(f'X_train shape: {X_train.shape}')\n",
    "print(f'y_train_energy shape: {y_train_energy.shape}')\n",
    "print(f'y_train_popularity shape: {y_train_popularity.shape}')\n",
    "print(f'y_train_danceability shape: {y_train_danceability.shape}')\n",
    "print(f'y_train_valence shape: {y_train_valence.shape}')\n",
    "print(f'y_train_acousticness shape: {y_train_acousticness.shape}')\n",
    "print(f'y_train_liveness shape: {y_train_liveness.shape}')\n",
    "print(40*'-')\n",
    "print()\n",
    "\n",
    "print('Validation Shapes')\n",
    "print(40*'-')\n",
    "print()\n",
    "print(f'X_val shape: {X_val.shape}')\n",
    "print(f'y_val_energy shape: {y_val_energy.shape}')\n",
    "print(f'y_val_popularity shape: {y_val_popularity.shape}')\n",
    "print(f'y_val_danceability shape: {y_val_danceability.shape}')\n",
    "print(f'y_val_valence shape: {y_val_valence.shape}')\n",
    "print(f'y_val_acousticness shape: {y_val_acousticness.shape}')\n",
    "print(f'y_val_liveness shape: {y_val_liveness.shape}')\n",
    "print(40*'-')\n",
    "print()\n",
    "\n",
    "print('Test Shapes')\n",
    "print(40*'-')\n",
    "print()\n",
    "print(f'X_test shape: {X_test.shape}')\n",
    "print(f'y_test_energy shape: {y_test_energy.shape}')\n",
    "print(f'y_test_popularity shape: {y_test_popularity.shape}')\n",
    "print(f'y_test_danceability shape: {y_test_danceability.shape}')\n",
    "print(f'y_test_valence shape: {y_test_valence.shape}')\n",
    "print(f'y_test_acousticness shape: {y_test_acousticness.shape}')\n",
    "print(f'y_test_liveness shape: {y_test_liveness.shape}')\n",
    "print(40*'-')\n",
    "print()"
   ]
  },
  {
   "cell_type": "markdown",
   "id": "42f52e4d",
   "metadata": {
    "id": "42f52e4d"
   },
   "source": [
    "# Tokenization with TF-IDF"
   ]
  },
  {
   "cell_type": "code",
   "execution_count": 22,
   "id": "f950a895",
   "metadata": {
    "id": "f950a895"
   },
   "outputs": [],
   "source": [
    "max_words = 4000"
   ]
  },
  {
   "cell_type": "code",
   "execution_count": 23,
   "id": "7f71a679",
   "metadata": {
    "id": "7f71a679"
   },
   "outputs": [],
   "source": [
    "vectorizer = TfidfVectorizer(\n",
    "    encoding ='utf-8',\n",
    "    strip_accents ='unicode',\n",
    "    lowercase = True,\n",
    "    stop_words = stopwords,\n",
    "    ngram_range =(1, 1),\n",
    "    max_features = max_words\n",
    ")"
   ]
  },
  {
   "cell_type": "code",
   "execution_count": 24,
   "id": "gfzZuDKBLWKG",
   "metadata": {
    "id": "gfzZuDKBLWKG"
   },
   "outputs": [],
   "source": [
    "import pickle\n",
    "pickle.dump(vectorizer, open(\"vectorizer.pickle\", \"wb\"))"
   ]
  },
  {
   "cell_type": "code",
   "execution_count": 25,
   "id": "dd416fd3",
   "metadata": {
    "id": "dd416fd3"
   },
   "outputs": [],
   "source": [
    "X_train_enc = vectorizer.fit_transform(X_train)\n",
    "X_val_enc = vectorizer.transform(X_val)\n",
    "X_test_enc = vectorizer.transform(X_test)"
   ]
  },
  {
   "cell_type": "code",
   "execution_count": 26,
   "id": "8cfaa60b",
   "metadata": {
    "colab": {
     "base_uri": "https://localhost:8080/"
    },
    "id": "8cfaa60b",
    "outputId": "afce6892-772b-4fc8-876e-2682d02ecb89"
   },
   "outputs": [
    {
     "name": "stdout",
     "output_type": "stream",
     "text": [
      "X_train encoded shape: (11921, 4000)\n",
      "X_val encoded shape: (2981, 4000)\n",
      "X_test encoded shape: (3726, 4000)\n"
     ]
    }
   ],
   "source": [
    "print(f'X_train encoded shape: {X_train_enc.shape}')\n",
    "print(f'X_val encoded shape: {X_val_enc.shape}')\n",
    "print(f'X_test encoded shape: {X_test_enc.shape}')"
   ]
  },
  {
   "cell_type": "code",
   "execution_count": 27,
   "id": "f1500e2d",
   "metadata": {
    "id": "f1500e2d"
   },
   "outputs": [],
   "source": [
    "y_train_energy = y_train_energy.values.reshape(-1, 1)\n",
    "y_val_energy = y_val_energy.values.reshape(-1, 1)\n",
    "y_test_energy = y_test_energy.values.reshape(-1, 1)"
   ]
  },
  {
   "cell_type": "code",
   "execution_count": 28,
   "id": "2cb3bdd2",
   "metadata": {
    "id": "2cb3bdd2"
   },
   "outputs": [],
   "source": [
    "y_train_popularity = y_train_popularity.values.reshape(-1, 1)\n",
    "y_val_popularity = y_val_popularity.values.reshape(-1, 1)\n",
    "y_test_popularity = y_test_popularity.values.reshape(-1, 1)"
   ]
  },
  {
   "cell_type": "code",
   "execution_count": 29,
   "id": "1437a4b9",
   "metadata": {
    "id": "1437a4b9"
   },
   "outputs": [],
   "source": [
    "y_train_danceability = y_train_danceability.values.reshape(-1, 1)\n",
    "y_val_danceability = y_val_danceability.values.reshape(-1, 1)\n",
    "y_test_danceability = y_test_danceability.values.reshape(-1, 1)"
   ]
  },
  {
   "cell_type": "code",
   "execution_count": 30,
   "id": "b492d31e",
   "metadata": {
    "id": "b492d31e"
   },
   "outputs": [],
   "source": [
    "y_train_valence = y_train_valence.values.reshape(-1, 1)\n",
    "y_val_valence = y_val_valence.values.reshape(-1, 1)\n",
    "y_test_valence = y_test_valence.values.reshape(-1, 1)"
   ]
  },
  {
   "cell_type": "code",
   "execution_count": 31,
   "id": "df52dd96",
   "metadata": {
    "id": "df52dd96"
   },
   "outputs": [],
   "source": [
    "y_train_acousticness = y_train_acousticness.values.reshape(-1, 1)\n",
    "y_val_acousticness = y_val_acousticness.values.reshape(-1, 1)\n",
    "y_test_acousticness = y_test_acousticness.values.reshape(-1, 1)"
   ]
  },
  {
   "cell_type": "code",
   "execution_count": 32,
   "id": "1c0dae16",
   "metadata": {
    "id": "1c0dae16"
   },
   "outputs": [],
   "source": [
    "y_train_liveness = y_train_liveness.values.reshape(-1, 1)\n",
    "y_val_liveness = y_val_liveness.values.reshape(-1, 1)\n",
    "y_test_liveness = y_test_liveness.values.reshape(-1, 1)"
   ]
  },
  {
   "cell_type": "markdown",
   "id": "c427e819",
   "metadata": {
    "id": "c427e819"
   },
   "source": [
    "# MODELS\n",
    "\n",
    "We are going to train 12 RNN models half of them using the _Adam_ optimizer and the other half using the _Stochastic Gradient Descent(SGD)_ optimizer, with the help of Keras.\n",
    "Then, we are going to fit each audio feature to these models to get predictions of audio features."
   ]
  },
  {
   "cell_type": "code",
   "execution_count": 33,
   "id": "091ab3d6",
   "metadata": {
    "id": "091ab3d6"
   },
   "outputs": [],
   "source": [
    "from tensorflow.keras.models import Sequential\n",
    "from tensorflow.keras.layers import Dense, Dropout, Activation\n",
    "from tensorflow.keras import metrics\n",
    "from tensorflow.keras.utils import plot_model\n",
    "import pydot\n",
    "\n",
    "import time"
   ]
  },
  {
   "cell_type": "code",
   "execution_count": 34,
   "id": "a6f05127",
   "metadata": {
    "id": "a6f05127"
   },
   "outputs": [],
   "source": [
    "nb_epoch = 30\n",
    "batch_size = 32 \n",
    "dropout_rate = 0.2"
   ]
  },
  {
   "cell_type": "code",
   "execution_count": 35,
   "id": "MsCNm-qGy-Ze",
   "metadata": {
    "id": "MsCNm-qGy-Ze"
   },
   "outputs": [],
   "source": [
    "# We are going to use this function to plot history of the models and assess their training loss/accuracy\n",
    "\n",
    "def plot_keras_history(history):\n",
    "    \"\"\"\n",
    "    \n",
    "    :param history: \n",
    "    :return: \n",
    "    \"\"\"\n",
    "    # the history object gives the metrics keys. \n",
    "    # we will store the metrics keys that are from the training sesion.\n",
    "    metrics_names = [key for key in history.history.keys() if not key.startswith('val_')]\n",
    "\n",
    "    for i, metric in enumerate(metrics_names):\n",
    "        \n",
    "        # getting the training values\n",
    "        metric_train_values = history.history.get(metric, [])\n",
    "        \n",
    "        # getting the validation values\n",
    "        metric_val_values = history.history.get(\"val_{}\".format(metric), [])\n",
    "\n",
    "        # As loss always exists as a metric we use it to find the \n",
    "        epochs = range(1, len(metric_train_values) + 1)\n",
    "        \n",
    "        # leaving extra spaces to allign with the validation text\n",
    "        training_text = \"   Training {}: {:.5f}\".format(metric,\n",
    "                                                        metric_train_values[-1])\n",
    "\n",
    "        # metric\n",
    "        plt.figure(i, figsize=(12, 6))\n",
    "\n",
    "        plt.plot(epochs,\n",
    "                 metric_train_values,\n",
    "                 'b',\n",
    "                 label=training_text)\n",
    "        \n",
    "        # if we validation metric exists, then plot that as well\n",
    "        if metric_val_values:\n",
    "            validation_text = \"Validation {}: {:.5f}\".format(metric,\n",
    "                                                             metric_val_values[-1])\n",
    "\n",
    "            plt.plot(epochs,\n",
    "                     metric_val_values,\n",
    "                     'g',\n",
    "                     label=validation_text)\n",
    "        \n",
    "        # add title, xlabel, ylabe, and legend\n",
    "        plt.title('Model Metric: {}'.format(metric))\n",
    "        plt.xlabel('Epochs')\n",
    "        plt.ylabel(metric.title())\n",
    "        plt.legend()\n",
    "\n",
    "    plt.show()"
   ]
  },
  {
   "cell_type": "markdown",
   "id": "82985fb0",
   "metadata": {
    "id": "82985fb0"
   },
   "source": [
    "# Energy Model"
   ]
  },
  {
   "cell_type": "code",
   "execution_count": 36,
   "id": "28bb136d",
   "metadata": {
    "colab": {
     "base_uri": "https://localhost:8080/"
    },
    "id": "28bb136d",
    "outputId": "2429ab09-9de8-431d-dd62-932e0561119b",
    "scrolled": false
   },
   "outputs": [
    {
     "name": "stdout",
     "output_type": "stream",
     "text": [
      "Building Energy Model with Adam optimizer..\n",
      "Epoch 1/30\n",
      "373/373 - 6s - loss: 0.0538 - accuracy: 0.0000e+00 - val_loss: 0.0459 - val_accuracy: 3.3546e-04 - 6s/epoch - 17ms/step\n",
      "Epoch 2/30\n",
      "373/373 - 2s - loss: 0.0363 - accuracy: 8.3886e-05 - val_loss: 0.0476 - val_accuracy: 3.3546e-04 - 2s/epoch - 7ms/step\n",
      "Epoch 3/30\n",
      "373/373 - 2s - loss: 0.0235 - accuracy: 8.3886e-05 - val_loss: 0.0517 - val_accuracy: 3.3546e-04 - 2s/epoch - 6ms/step\n",
      "Epoch 4/30\n",
      "373/373 - 2s - loss: 0.0157 - accuracy: 8.3886e-05 - val_loss: 0.0526 - val_accuracy: 3.3546e-04 - 2s/epoch - 6ms/step\n",
      "Epoch 5/30\n",
      "373/373 - 2s - loss: 0.0122 - accuracy: 8.3886e-05 - val_loss: 0.0520 - val_accuracy: 3.3546e-04 - 2s/epoch - 7ms/step\n",
      "Epoch 6/30\n",
      "373/373 - 3s - loss: 0.0102 - accuracy: 8.3886e-05 - val_loss: 0.0523 - val_accuracy: 3.3546e-04 - 3s/epoch - 7ms/step\n",
      "Epoch 7/30\n",
      "373/373 - 3s - loss: 0.0093 - accuracy: 8.3886e-05 - val_loss: 0.0521 - val_accuracy: 3.3546e-04 - 3s/epoch - 7ms/step\n",
      "Epoch 8/30\n",
      "373/373 - 2s - loss: 0.0086 - accuracy: 8.3886e-05 - val_loss: 0.0503 - val_accuracy: 3.3546e-04 - 2s/epoch - 7ms/step\n",
      "Epoch 9/30\n",
      "373/373 - 3s - loss: 0.0081 - accuracy: 8.3886e-05 - val_loss: 0.0519 - val_accuracy: 3.3546e-04 - 3s/epoch - 7ms/step\n",
      "Epoch 10/30\n",
      "373/373 - 3s - loss: 0.0080 - accuracy: 8.3886e-05 - val_loss: 0.0510 - val_accuracy: 3.3546e-04 - 3s/epoch - 7ms/step\n",
      "Epoch 11/30\n",
      "373/373 - 3s - loss: 0.0077 - accuracy: 8.3886e-05 - val_loss: 0.0509 - val_accuracy: 3.3546e-04 - 3s/epoch - 7ms/step\n",
      "Epoch 12/30\n",
      "373/373 - 2s - loss: 0.0076 - accuracy: 8.3886e-05 - val_loss: 0.0519 - val_accuracy: 3.3546e-04 - 2s/epoch - 7ms/step\n",
      "Epoch 13/30\n",
      "373/373 - 3s - loss: 0.0075 - accuracy: 8.3886e-05 - val_loss: 0.0510 - val_accuracy: 3.3546e-04 - 3s/epoch - 7ms/step\n",
      "Epoch 14/30\n",
      "373/373 - 3s - loss: 0.0072 - accuracy: 8.3886e-05 - val_loss: 0.0529 - val_accuracy: 3.3546e-04 - 3s/epoch - 7ms/step\n",
      "Epoch 15/30\n",
      "373/373 - 2s - loss: 0.0071 - accuracy: 8.3886e-05 - val_loss: 0.0520 - val_accuracy: 3.3546e-04 - 2s/epoch - 7ms/step\n",
      "Epoch 16/30\n",
      "373/373 - 3s - loss: 0.0068 - accuracy: 8.3886e-05 - val_loss: 0.0515 - val_accuracy: 3.3546e-04 - 3s/epoch - 7ms/step\n",
      "Epoch 17/30\n",
      "373/373 - 3s - loss: 0.0068 - accuracy: 8.3886e-05 - val_loss: 0.0516 - val_accuracy: 3.3546e-04 - 3s/epoch - 7ms/step\n",
      "Epoch 18/30\n",
      "373/373 - 2s - loss: 0.0066 - accuracy: 8.3886e-05 - val_loss: 0.0509 - val_accuracy: 3.3546e-04 - 2s/epoch - 7ms/step\n",
      "Epoch 19/30\n",
      "373/373 - 3s - loss: 0.0065 - accuracy: 8.3886e-05 - val_loss: 0.0504 - val_accuracy: 3.3546e-04 - 3s/epoch - 7ms/step\n",
      "Epoch 20/30\n",
      "373/373 - 3s - loss: 0.0065 - accuracy: 8.3886e-05 - val_loss: 0.0511 - val_accuracy: 3.3546e-04 - 3s/epoch - 7ms/step\n",
      "Epoch 21/30\n",
      "373/373 - 3s - loss: 0.0064 - accuracy: 8.3886e-05 - val_loss: 0.0508 - val_accuracy: 3.3546e-04 - 3s/epoch - 7ms/step\n",
      "Epoch 22/30\n",
      "373/373 - 2s - loss: 0.0063 - accuracy: 8.3886e-05 - val_loss: 0.0512 - val_accuracy: 3.3546e-04 - 2s/epoch - 7ms/step\n",
      "Epoch 23/30\n",
      "373/373 - 3s - loss: 0.0062 - accuracy: 8.3886e-05 - val_loss: 0.0511 - val_accuracy: 3.3546e-04 - 3s/epoch - 7ms/step\n",
      "Epoch 24/30\n",
      "373/373 - 2s - loss: 0.0062 - accuracy: 8.3886e-05 - val_loss: 0.0514 - val_accuracy: 3.3546e-04 - 2s/epoch - 6ms/step\n",
      "Epoch 25/30\n",
      "373/373 - 2s - loss: 0.0061 - accuracy: 8.3886e-05 - val_loss: 0.0506 - val_accuracy: 3.3546e-04 - 2s/epoch - 7ms/step\n",
      "Epoch 26/30\n",
      "373/373 - 2s - loss: 0.0060 - accuracy: 8.3886e-05 - val_loss: 0.0506 - val_accuracy: 3.3546e-04 - 2s/epoch - 6ms/step\n",
      "Epoch 27/30\n",
      "373/373 - 2s - loss: 0.0060 - accuracy: 8.3886e-05 - val_loss: 0.0501 - val_accuracy: 3.3546e-04 - 2s/epoch - 6ms/step\n",
      "Epoch 28/30\n",
      "373/373 - 2s - loss: 0.0060 - accuracy: 8.3886e-05 - val_loss: 0.0509 - val_accuracy: 3.3546e-04 - 2s/epoch - 7ms/step\n",
      "Epoch 29/30\n",
      "373/373 - 3s - loss: 0.0059 - accuracy: 8.3886e-05 - val_loss: 0.0512 - val_accuracy: 3.3546e-04 - 3s/epoch - 7ms/step\n",
      "Epoch 30/30\n",
      "373/373 - 2s - loss: 0.0058 - accuracy: 8.3886e-05 - val_loss: 0.0503 - val_accuracy: 3.3546e-04 - 2s/epoch - 6ms/step\n",
      "Wall time: 1min 25s\n"
     ]
    }
   ],
   "source": [
    "%%time\n",
    "\n",
    "print('Building Energy Model with Adam optimizer..')\n",
    "\n",
    "energymodel = Sequential()\n",
    "\n",
    "energymodel.add(Dense(256, input_shape=(max_words,), activation='relu'))\n",
    "\n",
    "energymodel.add(Dense(256, activation='relu'))\n",
    "\n",
    "energymodel.add(Dense(1, activation='linear'))\n",
    "\n",
    "energymodel.compile(loss='mse', optimizer='adam', metrics=['accuracy'])\n",
    "\n",
    "historyenergy = energymodel.fit(x=X_train_enc.todense(),           \n",
    "    y=y_train_energy, epochs=nb_epoch,batch_size=batch_size, verbose=2,\n",
    "    validation_data=(       \n",
    "    X_val_enc.todense(),\n",
    "    y_val_energy))\n",
    "\n",
    "energy_scores = energymodel.evaluate(X_test_enc.todense(),y_test_energy, verbose=0)"
   ]
  },
  {
   "cell_type": "code",
   "execution_count": 37,
   "id": "bbd2873b",
   "metadata": {
    "colab": {
     "base_uri": "https://localhost:8080/",
     "height": 791
    },
    "id": "bbd2873b",
    "outputId": "8b471c52-af24-4b40-89c1-f2a7d7fe10d8"
   },
   "outputs": [
    {
     "data": {
      "image/png": "[encoded data removed]",
      "text/plain": [
       "<Figure size 864x432 with 1 Axes>"
      ]
     },
     "metadata": {
      "needs_background": "light"
     },
     "output_type": "display_data"
    },
    {
     "data": {
      "image/png": "[encoded data removed]",
      "text/plain": [
       "<Figure size 864x432 with 1 Axes>"
      ]
     },
     "metadata": {
      "needs_background": "light"
     },
     "output_type": "display_data"
    }
   ],
   "source": [
    "plot_keras_history(historyenergy)"
   ]
  },
  {
   "cell_type": "code",
   "execution_count": 38,
   "id": "75de7cac",
   "metadata": {
    "colab": {
     "base_uri": "https://localhost:8080/"
    },
    "id": "75de7cac",
    "outputId": "1e60cc18-a337-40ca-d1f4-7ee6a410f66d"
   },
   "outputs": [
    {
     "name": "stdout",
     "output_type": "stream",
     "text": [
      "Building Energy Model with SGD Optimizer..\n",
      "Epoch 1/30\n",
      "373/373 - 3s - loss: 0.0655 - accuracy: 0.0000e+00 - val_loss: 0.0513 - val_accuracy: 3.3546e-04 - 3s/epoch - 7ms/step\n",
      "Epoch 2/30\n",
      "373/373 - 2s - loss: 0.0513 - accuracy: 0.0000e+00 - val_loss: 0.0510 - val_accuracy: 3.3546e-04 - 2s/epoch - 6ms/step\n",
      "Epoch 3/30\n",
      "373/373 - 2s - loss: 0.0509 - accuracy: 0.0000e+00 - val_loss: 0.0506 - val_accuracy: 3.3546e-04 - 2s/epoch - 6ms/step\n",
      "Epoch 4/30\n",
      "373/373 - 2s - loss: 0.0506 - accuracy: 0.0000e+00 - val_loss: 0.0503 - val_accuracy: 3.3546e-04 - 2s/epoch - 6ms/step\n",
      "Epoch 5/30\n",
      "373/373 - 2s - loss: 0.0503 - accuracy: 0.0000e+00 - val_loss: 0.0501 - val_accuracy: 3.3546e-04 - 2s/epoch - 6ms/step\n",
      "Epoch 6/30\n",
      "373/373 - 2s - loss: 0.0500 - accuracy: 0.0000e+00 - val_loss: 0.0498 - val_accuracy: 3.3546e-04 - 2s/epoch - 6ms/step\n",
      "Epoch 7/30\n",
      "373/373 - 2s - loss: 0.0498 - accuracy: 0.0000e+00 - val_loss: 0.0497 - val_accuracy: 3.3546e-04 - 2s/epoch - 6ms/step\n",
      "Epoch 8/30\n",
      "373/373 - 2s - loss: 0.0496 - accuracy: 0.0000e+00 - val_loss: 0.0495 - val_accuracy: 3.3546e-04 - 2s/epoch - 6ms/step\n",
      "Epoch 9/30\n",
      "373/373 - 2s - loss: 0.0493 - accuracy: 0.0000e+00 - val_loss: 0.0494 - val_accuracy: 3.3546e-04 - 2s/epoch - 6ms/step\n",
      "Epoch 10/30\n",
      "373/373 - 2s - loss: 0.0491 - accuracy: 0.0000e+00 - val_loss: 0.0491 - val_accuracy: 3.3546e-04 - 2s/epoch - 6ms/step\n",
      "Epoch 11/30\n",
      "373/373 - 2s - loss: 0.0489 - accuracy: 0.0000e+00 - val_loss: 0.0490 - val_accuracy: 3.3546e-04 - 2s/epoch - 6ms/step\n",
      "Epoch 12/30\n",
      "373/373 - 2s - loss: 0.0487 - accuracy: 0.0000e+00 - val_loss: 0.0488 - val_accuracy: 3.3546e-04 - 2s/epoch - 6ms/step\n",
      "Epoch 13/30\n",
      "373/373 - 2s - loss: 0.0485 - accuracy: 0.0000e+00 - val_loss: 0.0487 - val_accuracy: 3.3546e-04 - 2s/epoch - 6ms/step\n",
      "Epoch 14/30\n",
      "373/373 - 2s - loss: 0.0483 - accuracy: 0.0000e+00 - val_loss: 0.0485 - val_accuracy: 3.3546e-04 - 2s/epoch - 5ms/step\n",
      "Epoch 15/30\n",
      "373/373 - 2s - loss: 0.0481 - accuracy: 0.0000e+00 - val_loss: 0.0484 - val_accuracy: 3.3546e-04 - 2s/epoch - 6ms/step\n",
      "Epoch 16/30\n",
      "373/373 - 2s - loss: 0.0479 - accuracy: 0.0000e+00 - val_loss: 0.0483 - val_accuracy: 3.3546e-04 - 2s/epoch - 6ms/step\n",
      "Epoch 17/30\n",
      "373/373 - 2s - loss: 0.0477 - accuracy: 0.0000e+00 - val_loss: 0.0482 - val_accuracy: 3.3546e-04 - 2s/epoch - 6ms/step\n",
      "Epoch 18/30\n",
      "373/373 - 3s - loss: 0.0474 - accuracy: 0.0000e+00 - val_loss: 0.0481 - val_accuracy: 3.3546e-04 - 3s/epoch - 7ms/step\n",
      "Epoch 19/30\n",
      "373/373 - 2s - loss: 0.0473 - accuracy: 0.0000e+00 - val_loss: 0.0479 - val_accuracy: 3.3546e-04 - 2s/epoch - 6ms/step\n",
      "Epoch 20/30\n",
      "373/373 - 2s - loss: 0.0471 - accuracy: 0.0000e+00 - val_loss: 0.0480 - val_accuracy: 3.3546e-04 - 2s/epoch - 6ms/step\n",
      "Epoch 21/30\n",
      "373/373 - 2s - loss: 0.0469 - accuracy: 0.0000e+00 - val_loss: 0.0479 - val_accuracy: 3.3546e-04 - 2s/epoch - 6ms/step\n",
      "Epoch 22/30\n",
      "373/373 - 2s - loss: 0.0467 - accuracy: 0.0000e+00 - val_loss: 0.0476 - val_accuracy: 3.3546e-04 - 2s/epoch - 6ms/step\n",
      "Epoch 23/30\n",
      "373/373 - 2s - loss: 0.0466 - accuracy: 0.0000e+00 - val_loss: 0.0475 - val_accuracy: 3.3546e-04 - 2s/epoch - 6ms/step\n",
      "Epoch 24/30\n",
      "373/373 - 2s - loss: 0.0464 - accuracy: 0.0000e+00 - val_loss: 0.0474 - val_accuracy: 3.3546e-04 - 2s/epoch - 5ms/step\n",
      "Epoch 25/30\n",
      "373/373 - 2s - loss: 0.0462 - accuracy: 0.0000e+00 - val_loss: 0.0473 - val_accuracy: 3.3546e-04 - 2s/epoch - 6ms/step\n",
      "Epoch 26/30\n",
      "373/373 - 2s - loss: 0.0460 - accuracy: 0.0000e+00 - val_loss: 0.0474 - val_accuracy: 3.3546e-04 - 2s/epoch - 6ms/step\n",
      "Epoch 27/30\n",
      "373/373 - 2s - loss: 0.0458 - accuracy: 0.0000e+00 - val_loss: 0.0471 - val_accuracy: 3.3546e-04 - 2s/epoch - 5ms/step\n",
      "Epoch 28/30\n",
      "373/373 - 2s - loss: 0.0457 - accuracy: 0.0000e+00 - val_loss: 0.0471 - val_accuracy: 3.3546e-04 - 2s/epoch - 5ms/step\n",
      "Epoch 29/30\n",
      "373/373 - 2s - loss: 0.0455 - accuracy: 0.0000e+00 - val_loss: 0.0471 - val_accuracy: 3.3546e-04 - 2s/epoch - 6ms/step\n",
      "Epoch 30/30\n",
      "373/373 - 2s - loss: 0.0453 - accuracy: 0.0000e+00 - val_loss: 0.0469 - val_accuracy: 3.3546e-04 - 2s/epoch - 6ms/step\n",
      "Wall time: 1min 6s\n"
     ]
    }
   ],
   "source": [
    "%%time\n",
    "\n",
    "print('Building Energy Model with SGD Optimizer..')\n",
    "\n",
    "energymodelSGD = Sequential()\n",
    "\n",
    "energymodelSGD.add(Dense(256, input_shape=(max_words,), activation='relu'))\n",
    "\n",
    "energymodelSGD.add(Dense(256, activation='relu'))\n",
    "\n",
    "energymodelSGD.add(Dense(1, activation='linear'))\n",
    "\n",
    "energymodelSGD.compile(loss='mse', optimizer='sgd', metrics=['accuracy'])\n",
    "\n",
    "historyenergySGD = energymodelSGD.fit(x=X_train_enc.todense(),           \n",
    "    y=y_train_energy, epochs=nb_epoch,batch_size=batch_size, verbose=2,\n",
    "    validation_data=(       \n",
    "    X_val_enc.todense(),\n",
    "    y_val_energy))\n",
    "\n",
    "energy_scores_SGD = energymodelSGD.evaluate(X_test_enc.todense(),y_test_energy, verbose=0)"
   ]
  },
  {
   "cell_type": "code",
   "execution_count": 39,
   "id": "29190e3f",
   "metadata": {
    "colab": {
     "base_uri": "https://localhost:8080/",
     "height": 791
    },
    "id": "29190e3f",
    "outputId": "f10dbab3-f724-444d-9e15-aa5844de8f22"
   },
   "outputs": [
    {
     "data": {
      "image/png": "[encoded data removed]",
      "text/plain": [
       "<Figure size 864x432 with 1 Axes>"
      ]
     },
     "metadata": {
      "needs_background": "light"
     },
     "output_type": "display_data"
    },
    {
     "data": {
      "image/png": "[encoded data removed]",
      "text/plain": [
       "<Figure size 864x432 with 1 Axes>"
      ]
     },
     "metadata": {
      "needs_background": "light"
     },
     "output_type": "display_data"
    }
   ],
   "source": [
    "plot_keras_history(historyenergySGD)"
   ]
  },
  {
   "cell_type": "markdown",
   "id": "726eca4b",
   "metadata": {
    "id": "726eca4b"
   },
   "source": [
    "# Popularity Model\n"
   ]
  },
  {
   "cell_type": "code",
   "execution_count": 40,
   "id": "d527c830",
   "metadata": {
    "colab": {
     "base_uri": "https://localhost:8080/"
    },
    "id": "d527c830",
    "outputId": "81238c08-9eec-491e-933c-b351b53b211b"
   },
   "outputs": [
    {
     "name": "stdout",
     "output_type": "stream",
     "text": [
      "Building Popularity Model with Adam Optimizer..\n",
      "Epoch 1/30\n",
      "373/373 - 3s - loss: 0.0247 - accuracy: 0.0145 - val_loss: 0.0212 - val_accuracy: 0.0154 - 3s/epoch - 9ms/step\n",
      "Epoch 2/30\n",
      "373/373 - 5s - loss: 0.0159 - accuracy: 0.0155 - val_loss: 0.0220 - val_accuracy: 0.0154 - 5s/epoch - 12ms/step\n",
      "Epoch 3/30\n",
      "373/373 - 5s - loss: 0.0103 - accuracy: 0.0158 - val_loss: 0.0225 - val_accuracy: 0.0154 - 5s/epoch - 12ms/step\n",
      "Epoch 4/30\n",
      "373/373 - 5s - loss: 0.0069 - accuracy: 0.0158 - val_loss: 0.0218 - val_accuracy: 0.0151 - 5s/epoch - 13ms/step\n",
      "Epoch 5/30\n",
      "373/373 - 4s - loss: 0.0054 - accuracy: 0.0159 - val_loss: 0.0225 - val_accuracy: 0.0151 - 4s/epoch - 11ms/step\n",
      "Epoch 6/30\n",
      "373/373 - 5s - loss: 0.0045 - accuracy: 0.0159 - val_loss: 0.0223 - val_accuracy: 0.0151 - 5s/epoch - 12ms/step\n",
      "Epoch 7/30\n",
      "373/373 - 4s - loss: 0.0040 - accuracy: 0.0159 - val_loss: 0.0224 - val_accuracy: 0.0158 - 4s/epoch - 11ms/step\n",
      "Epoch 8/30\n",
      "373/373 - 4s - loss: 0.0038 - accuracy: 0.0159 - val_loss: 0.0226 - val_accuracy: 0.0148 - 4s/epoch - 12ms/step\n",
      "Epoch 9/30\n",
      "373/373 - 5s - loss: 0.0035 - accuracy: 0.0158 - val_loss: 0.0230 - val_accuracy: 0.0151 - 5s/epoch - 12ms/step\n",
      "Epoch 10/30\n",
      "373/373 - 5s - loss: 0.0034 - accuracy: 0.0158 - val_loss: 0.0229 - val_accuracy: 0.0151 - 5s/epoch - 12ms/step\n",
      "Epoch 11/30\n",
      "373/373 - 4s - loss: 0.0032 - accuracy: 0.0158 - val_loss: 0.0224 - val_accuracy: 0.0151 - 4s/epoch - 12ms/step\n",
      "Epoch 12/30\n",
      "373/373 - 4s - loss: 0.0032 - accuracy: 0.0159 - val_loss: 0.0222 - val_accuracy: 0.0151 - 4s/epoch - 12ms/step\n",
      "Epoch 13/30\n",
      "373/373 - 4s - loss: 0.0030 - accuracy: 0.0158 - val_loss: 0.0228 - val_accuracy: 0.0148 - 4s/epoch - 11ms/step\n",
      "Epoch 14/30\n",
      "373/373 - 5s - loss: 0.0029 - accuracy: 0.0159 - val_loss: 0.0230 - val_accuracy: 0.0151 - 5s/epoch - 12ms/step\n",
      "Epoch 15/30\n",
      "373/373 - 4s - loss: 0.0029 - accuracy: 0.0159 - val_loss: 0.0226 - val_accuracy: 0.0158 - 4s/epoch - 10ms/step\n",
      "Epoch 16/30\n",
      "373/373 - 4s - loss: 0.0029 - accuracy: 0.0159 - val_loss: 0.0220 - val_accuracy: 0.0148 - 4s/epoch - 12ms/step\n",
      "Epoch 17/30\n",
      "373/373 - 4s - loss: 0.0028 - accuracy: 0.0159 - val_loss: 0.0220 - val_accuracy: 0.0148 - 4s/epoch - 11ms/step\n",
      "Epoch 18/30\n",
      "373/373 - 5s - loss: 0.0027 - accuracy: 0.0159 - val_loss: 0.0222 - val_accuracy: 0.0151 - 5s/epoch - 13ms/step\n",
      "Epoch 19/30\n",
      "373/373 - 4s - loss: 0.0026 - accuracy: 0.0158 - val_loss: 0.0222 - val_accuracy: 0.0158 - 4s/epoch - 11ms/step\n",
      "Epoch 20/30\n",
      "373/373 - 5s - loss: 0.0026 - accuracy: 0.0158 - val_loss: 0.0225 - val_accuracy: 0.0148 - 5s/epoch - 12ms/step\n",
      "Epoch 21/30\n",
      "373/373 - 5s - loss: 0.0026 - accuracy: 0.0159 - val_loss: 0.0221 - val_accuracy: 0.0151 - 5s/epoch - 12ms/step\n",
      "Epoch 22/30\n",
      "373/373 - 4s - loss: 0.0026 - accuracy: 0.0158 - val_loss: 0.0220 - val_accuracy: 0.0151 - 4s/epoch - 10ms/step\n",
      "Epoch 23/30\n",
      "373/373 - 5s - loss: 0.0025 - accuracy: 0.0158 - val_loss: 0.0223 - val_accuracy: 0.0151 - 5s/epoch - 12ms/step\n",
      "Epoch 24/30\n",
      "373/373 - 4s - loss: 0.0024 - accuracy: 0.0159 - val_loss: 0.0222 - val_accuracy: 0.0154 - 4s/epoch - 12ms/step\n",
      "Epoch 25/30\n",
      "373/373 - 4s - loss: 0.0024 - accuracy: 0.0159 - val_loss: 0.0224 - val_accuracy: 0.0151 - 4s/epoch - 12ms/step\n",
      "Epoch 26/30\n",
      "373/373 - 3s - loss: 0.0023 - accuracy: 0.0158 - val_loss: 0.0224 - val_accuracy: 0.0154 - 3s/epoch - 8ms/step\n",
      "Epoch 27/30\n",
      "373/373 - 4s - loss: 0.0023 - accuracy: 0.0159 - val_loss: 0.0224 - val_accuracy: 0.0151 - 4s/epoch - 12ms/step\n",
      "Epoch 28/30\n",
      "373/373 - 5s - loss: 0.0024 - accuracy: 0.0159 - val_loss: 0.0226 - val_accuracy: 0.0151 - 5s/epoch - 12ms/step\n",
      "Epoch 29/30\n",
      "373/373 - 5s - loss: 0.0024 - accuracy: 0.0159 - val_loss: 0.0225 - val_accuracy: 0.0154 - 5s/epoch - 13ms/step\n",
      "Epoch 30/30\n",
      "373/373 - 5s - loss: 0.0023 - accuracy: 0.0158 - val_loss: 0.0225 - val_accuracy: 0.0148 - 5s/epoch - 13ms/step\n",
      "Wall time: 2min 10s\n"
     ]
    }
   ],
   "source": [
    "%%time\n",
    "\n",
    "print('Building Popularity Model with Adam Optimizer..')\n",
    "\n",
    "popularitymodel = Sequential()\n",
    "\n",
    "popularitymodel.add(Dense(256, input_shape=(max_words,), activation='relu'))\n",
    "\n",
    "popularitymodel.add(Dense(256, activation='relu'))\n",
    "\n",
    "popularitymodel.add(Dense(1, activation='linear'))\n",
    "\n",
    "popularitymodel.compile(loss='mse', optimizer='adam', metrics=['accuracy'])\n",
    "\n",
    "historypopularity = popularitymodel.fit(x=X_train_enc.todense(),           \n",
    "    y=y_train_popularity, epochs=nb_epoch,batch_size=batch_size, verbose=2,\n",
    "    validation_data=(       \n",
    "    X_val_enc.todense(),\n",
    "    y_val_popularity))\n",
    "\n",
    "popularity_scores = popularitymodel.evaluate(X_test_enc.todense(),y_test_popularity, verbose=0)"
   ]
  },
  {
   "cell_type": "code",
   "execution_count": 41,
   "id": "8593ea83",
   "metadata": {
    "colab": {
     "base_uri": "https://localhost:8080/",
     "height": 791
    },
    "id": "8593ea83",
    "outputId": "e720a799-e639-4728-d9fd-a0773dfab229"
   },
   "outputs": [
    {
     "data": {
      "image/png": "[encoded data removed]",
      "text/plain": [
       "<Figure size 864x432 with 1 Axes>"
      ]
     },
     "metadata": {
      "needs_background": "light"
     },
     "output_type": "display_data"
    },
    {
     "data": {
      "image/png": "[encoded data removed]",
      "text/plain": [
       "<Figure size 864x432 with 1 Axes>"
      ]
     },
     "metadata": {
      "needs_background": "light"
     },
     "output_type": "display_data"
    }
   ],
   "source": [
    "plot_keras_history(historypopularity)"
   ]
  },
  {
   "cell_type": "code",
   "execution_count": 42,
   "id": "5eb021d3",
   "metadata": {
    "colab": {
     "base_uri": "https://localhost:8080/"
    },
    "id": "5eb021d3",
    "outputId": "391235fd-684e-4a77-a313-61615e791077"
   },
   "outputs": [
    {
     "name": "stdout",
     "output_type": "stream",
     "text": [
      "Building Popularity Model with SGD Optimizer..\n",
      "Epoch 1/30\n",
      "373/373 - 3s - loss: 0.0356 - accuracy: 0.0158 - val_loss: 0.0284 - val_accuracy: 0.0161 - 3s/epoch - 8ms/step\n",
      "Epoch 2/30\n",
      "373/373 - 5s - loss: 0.0273 - accuracy: 0.0158 - val_loss: 0.0278 - val_accuracy: 0.0161 - 5s/epoch - 14ms/step\n",
      "Epoch 3/30\n",
      "373/373 - 5s - loss: 0.0267 - accuracy: 0.0158 - val_loss: 0.0273 - val_accuracy: 0.0161 - 5s/epoch - 14ms/step\n",
      "Epoch 4/30\n",
      "373/373 - 5s - loss: 0.0262 - accuracy: 0.0158 - val_loss: 0.0267 - val_accuracy: 0.0161 - 5s/epoch - 14ms/step\n",
      "Epoch 5/30\n",
      "373/373 - 5s - loss: 0.0257 - accuracy: 0.0157 - val_loss: 0.0264 - val_accuracy: 0.0158 - 5s/epoch - 13ms/step\n",
      "Epoch 6/30\n",
      "373/373 - 5s - loss: 0.0252 - accuracy: 0.0157 - val_loss: 0.0258 - val_accuracy: 0.0158 - 5s/epoch - 14ms/step\n",
      "Epoch 7/30\n",
      "373/373 - 5s - loss: 0.0247 - accuracy: 0.0156 - val_loss: 0.0255 - val_accuracy: 0.0158 - 5s/epoch - 14ms/step\n",
      "Epoch 8/30\n",
      "373/373 - 5s - loss: 0.0243 - accuracy: 0.0156 - val_loss: 0.0249 - val_accuracy: 0.0158 - 5s/epoch - 14ms/step\n",
      "Epoch 9/30\n",
      "373/373 - 5s - loss: 0.0239 - accuracy: 0.0156 - val_loss: 0.0245 - val_accuracy: 0.0158 - 5s/epoch - 13ms/step\n",
      "Epoch 10/30\n",
      "373/373 - 4s - loss: 0.0235 - accuracy: 0.0156 - val_loss: 0.0243 - val_accuracy: 0.0154 - 4s/epoch - 12ms/step\n",
      "Epoch 11/30\n",
      "373/373 - 3s - loss: 0.0232 - accuracy: 0.0155 - val_loss: 0.0239 - val_accuracy: 0.0158 - 3s/epoch - 9ms/step\n",
      "Epoch 12/30\n",
      "373/373 - 5s - loss: 0.0229 - accuracy: 0.0154 - val_loss: 0.0236 - val_accuracy: 0.0154 - 5s/epoch - 13ms/step\n",
      "Epoch 13/30\n",
      "373/373 - 5s - loss: 0.0226 - accuracy: 0.0155 - val_loss: 0.0234 - val_accuracy: 0.0154 - 5s/epoch - 14ms/step\n",
      "Epoch 14/30\n",
      "373/373 - 5s - loss: 0.0224 - accuracy: 0.0153 - val_loss: 0.0232 - val_accuracy: 0.0154 - 5s/epoch - 14ms/step\n",
      "Epoch 15/30\n",
      "373/373 - 4s - loss: 0.0222 - accuracy: 0.0154 - val_loss: 0.0230 - val_accuracy: 0.0154 - 4s/epoch - 10ms/step\n",
      "Epoch 16/30\n",
      "373/373 - 2s - loss: 0.0220 - accuracy: 0.0154 - val_loss: 0.0229 - val_accuracy: 0.0154 - 2s/epoch - 6ms/step\n",
      "Epoch 17/30\n",
      "373/373 - 2s - loss: 0.0219 - accuracy: 0.0154 - val_loss: 0.0227 - val_accuracy: 0.0154 - 2s/epoch - 7ms/step\n",
      "Epoch 18/30\n",
      "373/373 - 2s - loss: 0.0217 - accuracy: 0.0154 - val_loss: 0.0227 - val_accuracy: 0.0154 - 2s/epoch - 6ms/step\n",
      "Epoch 19/30\n",
      "373/373 - 2s - loss: 0.0216 - accuracy: 0.0154 - val_loss: 0.0226 - val_accuracy: 0.0154 - 2s/epoch - 6ms/step\n",
      "Epoch 20/30\n",
      "373/373 - 2s - loss: 0.0215 - accuracy: 0.0155 - val_loss: 0.0224 - val_accuracy: 0.0154 - 2s/epoch - 6ms/step\n",
      "Epoch 21/30\n",
      "373/373 - 2s - loss: 0.0214 - accuracy: 0.0154 - val_loss: 0.0224 - val_accuracy: 0.0154 - 2s/epoch - 6ms/step\n",
      "Epoch 22/30\n",
      "373/373 - 2s - loss: 0.0213 - accuracy: 0.0154 - val_loss: 0.0223 - val_accuracy: 0.0154 - 2s/epoch - 6ms/step\n",
      "Epoch 23/30\n",
      "373/373 - 2s - loss: 0.0212 - accuracy: 0.0156 - val_loss: 0.0222 - val_accuracy: 0.0154 - 2s/epoch - 6ms/step\n",
      "Epoch 24/30\n",
      "373/373 - 2s - loss: 0.0211 - accuracy: 0.0154 - val_loss: 0.0221 - val_accuracy: 0.0154 - 2s/epoch - 6ms/step\n",
      "Epoch 25/30\n",
      "373/373 - 2s - loss: 0.0210 - accuracy: 0.0155 - val_loss: 0.0222 - val_accuracy: 0.0151 - 2s/epoch - 6ms/step\n",
      "Epoch 26/30\n",
      "373/373 - 2s - loss: 0.0209 - accuracy: 0.0155 - val_loss: 0.0221 - val_accuracy: 0.0151 - 2s/epoch - 6ms/step\n",
      "Epoch 27/30\n",
      "373/373 - 2s - loss: 0.0208 - accuracy: 0.0155 - val_loss: 0.0220 - val_accuracy: 0.0151 - 2s/epoch - 6ms/step\n",
      "Epoch 28/30\n",
      "373/373 - 2s - loss: 0.0207 - accuracy: 0.0155 - val_loss: 0.0220 - val_accuracy: 0.0151 - 2s/epoch - 6ms/step\n",
      "Epoch 29/30\n",
      "373/373 - 2s - loss: 0.0206 - accuracy: 0.0155 - val_loss: 0.0219 - val_accuracy: 0.0154 - 2s/epoch - 6ms/step\n",
      "Epoch 30/30\n",
      "373/373 - 2s - loss: 0.0205 - accuracy: 0.0155 - val_loss: 0.0219 - val_accuracy: 0.0151 - 2s/epoch - 6ms/step\n",
      "Wall time: 1min 45s\n"
     ]
    }
   ],
   "source": [
    "%%time\n",
    "\n",
    "print('Building Popularity Model with SGD Optimizer..')\n",
    "\n",
    "popularitymodelSGD = Sequential()\n",
    "\n",
    "popularitymodelSGD.add(Dense(256, input_shape=(max_words,), activation='relu'))\n",
    "\n",
    "popularitymodelSGD.add(Dense(256, activation='relu'))\n",
    "\n",
    "popularitymodelSGD.add(Dense(1, activation='linear'))\n",
    "\n",
    "popularitymodelSGD.compile(loss='mse', optimizer='sgd', metrics=['accuracy'])\n",
    "\n",
    "historypopularitySGD = popularitymodelSGD.fit(x=X_train_enc.todense(),           \n",
    "    y=y_train_popularity, epochs=nb_epoch,batch_size=batch_size, verbose=2,\n",
    "    validation_data=(       \n",
    "    X_val_enc.todense(),\n",
    "    y_val_popularity))\n",
    "\n",
    "popularity_scores_SGD = popularitymodelSGD.evaluate(X_test_enc.todense(),y_test_popularity, verbose=0)"
   ]
  },
  {
   "cell_type": "code",
   "execution_count": 43,
   "id": "5b923bad",
   "metadata": {
    "colab": {
     "base_uri": "https://localhost:8080/",
     "height": 791
    },
    "id": "5b923bad",
    "outputId": "7300c8e1-9b99-4417-ee24-a994bc464746"
   },
   "outputs": [
    {
     "data": {
      "image/png": "[encoded data removed]",
      "text/plain": [
       "<Figure size 864x432 with 1 Axes>"
      ]
     },
     "metadata": {
      "needs_background": "light"
     },
     "output_type": "display_data"
    },
    {
     "data": {
      "image/png": "[encoded data removed]",
      "text/plain": [
       "<Figure size 864x432 with 1 Axes>"
      ]
     },
     "metadata": {
      "needs_background": "light"
     },
     "output_type": "display_data"
    }
   ],
   "source": [
    "plot_keras_history(historypopularitySGD)"
   ]
  },
  {
   "cell_type": "markdown",
   "id": "9e82e143",
   "metadata": {
    "id": "9e82e143"
   },
   "source": [
    "# Danceability Model"
   ]
  },
  {
   "cell_type": "code",
   "execution_count": 44,
   "id": "5c558523",
   "metadata": {
    "colab": {
     "base_uri": "https://localhost:8080/"
    },
    "id": "5c558523",
    "outputId": "cb39bd38-981c-4c41-c3ad-2a83a51fb4c1"
   },
   "outputs": [
    {
     "name": "stdout",
     "output_type": "stream",
     "text": [
      "Building Danceability Model with Adam Optimizer..\n",
      "Epoch 1/30\n",
      "373/373 - 3s - loss: 0.0327 - accuracy: 0.0000e+00 - val_loss: 0.0274 - val_accuracy: 0.0000e+00 - 3s/epoch - 9ms/step\n",
      "Epoch 2/30\n",
      "373/373 - 3s - loss: 0.0210 - accuracy: 1.6777e-04 - val_loss: 0.0285 - val_accuracy: 0.0000e+00 - 3s/epoch - 7ms/step\n",
      "Epoch 3/30\n",
      "373/373 - 3s - loss: 0.0141 - accuracy: 1.6777e-04 - val_loss: 0.0295 - val_accuracy: 0.0000e+00 - 3s/epoch - 7ms/step\n",
      "Epoch 4/30\n",
      "373/373 - 3s - loss: 0.0095 - accuracy: 1.6777e-04 - val_loss: 0.0300 - val_accuracy: 0.0000e+00 - 3s/epoch - 7ms/step\n",
      "Epoch 5/30\n",
      "373/373 - 3s - loss: 0.0071 - accuracy: 1.6777e-04 - val_loss: 0.0304 - val_accuracy: 0.0000e+00 - 3s/epoch - 7ms/step\n",
      "Epoch 6/30\n",
      "373/373 - 3s - loss: 0.0057 - accuracy: 1.6777e-04 - val_loss: 0.0304 - val_accuracy: 0.0000e+00 - 3s/epoch - 7ms/step\n",
      "Epoch 7/30\n",
      "373/373 - 3s - loss: 0.0052 - accuracy: 1.6777e-04 - val_loss: 0.0303 - val_accuracy: 0.0000e+00 - 3s/epoch - 7ms/step\n",
      "Epoch 8/30\n",
      "373/373 - 3s - loss: 0.0049 - accuracy: 1.6777e-04 - val_loss: 0.0305 - val_accuracy: 0.0000e+00 - 3s/epoch - 7ms/step\n",
      "Epoch 9/30\n",
      "373/373 - 3s - loss: 0.0046 - accuracy: 1.6777e-04 - val_loss: 0.0304 - val_accuracy: 0.0000e+00 - 3s/epoch - 7ms/step\n",
      "Epoch 10/30\n",
      "373/373 - 3s - loss: 0.0045 - accuracy: 1.6777e-04 - val_loss: 0.0320 - val_accuracy: 0.0000e+00 - 3s/epoch - 7ms/step\n",
      "Epoch 11/30\n",
      "373/373 - 3s - loss: 0.0043 - accuracy: 1.6777e-04 - val_loss: 0.0306 - val_accuracy: 0.0000e+00 - 3s/epoch - 7ms/step\n",
      "Epoch 12/30\n",
      "373/373 - 3s - loss: 0.0043 - accuracy: 1.6777e-04 - val_loss: 0.0310 - val_accuracy: 0.0000e+00 - 3s/epoch - 7ms/step\n",
      "Epoch 13/30\n",
      "373/373 - 3s - loss: 0.0042 - accuracy: 1.6777e-04 - val_loss: 0.0310 - val_accuracy: 0.0000e+00 - 3s/epoch - 7ms/step\n",
      "Epoch 14/30\n",
      "373/373 - 3s - loss: 0.0039 - accuracy: 1.6777e-04 - val_loss: 0.0300 - val_accuracy: 0.0000e+00 - 3s/epoch - 7ms/step\n",
      "Epoch 15/30\n",
      "373/373 - 3s - loss: 0.0039 - accuracy: 1.6777e-04 - val_loss: 0.0302 - val_accuracy: 0.0000e+00 - 3s/epoch - 7ms/step\n",
      "Epoch 16/30\n",
      "373/373 - 3s - loss: 0.0039 - accuracy: 1.6777e-04 - val_loss: 0.0304 - val_accuracy: 0.0000e+00 - 3s/epoch - 7ms/step\n",
      "Epoch 17/30\n",
      "373/373 - 2s - loss: 0.0038 - accuracy: 1.6777e-04 - val_loss: 0.0308 - val_accuracy: 0.0000e+00 - 2s/epoch - 7ms/step\n",
      "Epoch 18/30\n",
      "373/373 - 2s - loss: 0.0037 - accuracy: 1.6777e-04 - val_loss: 0.0300 - val_accuracy: 0.0000e+00 - 2s/epoch - 7ms/step\n",
      "Epoch 19/30\n",
      "373/373 - 2s - loss: 0.0037 - accuracy: 1.6777e-04 - val_loss: 0.0307 - val_accuracy: 0.0000e+00 - 2s/epoch - 7ms/step\n",
      "Epoch 20/30\n",
      "373/373 - 3s - loss: 0.0037 - accuracy: 1.6777e-04 - val_loss: 0.0304 - val_accuracy: 0.0000e+00 - 3s/epoch - 7ms/step\n",
      "Epoch 21/30\n",
      "373/373 - 3s - loss: 0.0037 - accuracy: 1.6777e-04 - val_loss: 0.0304 - val_accuracy: 0.0000e+00 - 3s/epoch - 7ms/step\n",
      "Epoch 22/30\n",
      "373/373 - 3s - loss: 0.0035 - accuracy: 1.6777e-04 - val_loss: 0.0307 - val_accuracy: 0.0000e+00 - 3s/epoch - 7ms/step\n",
      "Epoch 23/30\n",
      "373/373 - 3s - loss: 0.0034 - accuracy: 1.6777e-04 - val_loss: 0.0309 - val_accuracy: 0.0000e+00 - 3s/epoch - 7ms/step\n",
      "Epoch 24/30\n",
      "373/373 - 3s - loss: 0.0033 - accuracy: 1.6777e-04 - val_loss: 0.0309 - val_accuracy: 0.0000e+00 - 3s/epoch - 7ms/step\n",
      "Epoch 25/30\n",
      "373/373 - 3s - loss: 0.0034 - accuracy: 1.6777e-04 - val_loss: 0.0300 - val_accuracy: 0.0000e+00 - 3s/epoch - 7ms/step\n",
      "Epoch 26/30\n",
      "373/373 - 3s - loss: 0.0034 - accuracy: 1.6777e-04 - val_loss: 0.0302 - val_accuracy: 0.0000e+00 - 3s/epoch - 7ms/step\n",
      "Epoch 27/30\n",
      "373/373 - 3s - loss: 0.0034 - accuracy: 1.6777e-04 - val_loss: 0.0304 - val_accuracy: 0.0000e+00 - 3s/epoch - 7ms/step\n",
      "Epoch 28/30\n",
      "373/373 - 2s - loss: 0.0033 - accuracy: 1.6777e-04 - val_loss: 0.0302 - val_accuracy: 0.0000e+00 - 2s/epoch - 7ms/step\n",
      "Epoch 29/30\n",
      "373/373 - 3s - loss: 0.0032 - accuracy: 1.6777e-04 - val_loss: 0.0303 - val_accuracy: 0.0000e+00 - 3s/epoch - 7ms/step\n",
      "Epoch 30/30\n",
      "373/373 - 3s - loss: 0.0032 - accuracy: 1.6777e-04 - val_loss: 0.0307 - val_accuracy: 0.0000e+00 - 3s/epoch - 7ms/step\n",
      "Wall time: 1min 19s\n"
     ]
    }
   ],
   "source": [
    "%%time\n",
    "\n",
    "print('Building Danceability Model with Adam Optimizer..')\n",
    "\n",
    "danceabilitymodel = Sequential()\n",
    "\n",
    "danceabilitymodel.add(Dense(256, input_shape=(max_words,), activation='relu'))\n",
    "\n",
    "danceabilitymodel.add(Dense(256, activation='relu'))\n",
    "\n",
    "danceabilitymodel.add(Dense(1, activation='linear'))\n",
    "\n",
    "danceabilitymodel.compile(loss='mse', optimizer='adam', metrics=['accuracy'])\n",
    "\n",
    "historydanceability = danceabilitymodel.fit(x=X_train_enc.todense(),           \n",
    "    y=y_train_danceability, epochs=nb_epoch,batch_size=batch_size, verbose=2,\n",
    "    validation_data=(       \n",
    "    X_val_enc.todense(),\n",
    "    y_val_danceability))\n",
    "\n",
    "danceability_scores= danceabilitymodel.evaluate(X_test_enc.todense(),y_test_danceability, verbose=0)"
   ]
  },
  {
   "cell_type": "code",
   "execution_count": 45,
   "id": "2d613759",
   "metadata": {
    "colab": {
     "base_uri": "https://localhost:8080/",
     "height": 791
    },
    "id": "2d613759",
    "outputId": "6ce73acf-169e-48a1-c7e1-4d6ab493e6d8"
   },
   "outputs": [
    {
     "data": {
      "image/png": "[encoded data removed]",
      "text/plain": [
       "<Figure size 864x432 with 1 Axes>"
      ]
     },
     "metadata": {
      "needs_background": "light"
     },
     "output_type": "display_data"
    },
    {
     "data": {
      "image/png": "[encoded data removed]",
      "text/plain": [
       "<Figure size 864x432 with 1 Axes>"
      ]
     },
     "metadata": {
      "needs_background": "light"
     },
     "output_type": "display_data"
    }
   ],
   "source": [
    "plot_keras_history(historydanceability)"
   ]
  },
  {
   "cell_type": "code",
   "execution_count": 46,
   "id": "af26826d",
   "metadata": {
    "colab": {
     "base_uri": "https://localhost:8080/"
    },
    "id": "af26826d",
    "outputId": "31c89a1c-66b3-4f6b-d015-2f7db76ee548"
   },
   "outputs": [
    {
     "name": "stdout",
     "output_type": "stream",
     "text": [
      "Building Danceability Model with SGD optimizer..\n",
      "Epoch 1/30\n",
      "373/373 - 3s - loss: 0.0444 - accuracy: 0.0000e+00 - val_loss: 0.0331 - val_accuracy: 0.0000e+00 - 3s/epoch - 8ms/step\n",
      "Epoch 2/30\n",
      "373/373 - 2s - loss: 0.0313 - accuracy: 0.0000e+00 - val_loss: 0.0326 - val_accuracy: 0.0000e+00 - 2s/epoch - 6ms/step\n",
      "Epoch 3/30\n",
      "373/373 - 2s - loss: 0.0308 - accuracy: 0.0000e+00 - val_loss: 0.0322 - val_accuracy: 0.0000e+00 - 2s/epoch - 6ms/step\n",
      "Epoch 4/30\n",
      "373/373 - 2s - loss: 0.0304 - accuracy: 0.0000e+00 - val_loss: 0.0319 - val_accuracy: 0.0000e+00 - 2s/epoch - 6ms/step\n",
      "Epoch 5/30\n",
      "373/373 - 2s - loss: 0.0300 - accuracy: 0.0000e+00 - val_loss: 0.0314 - val_accuracy: 0.0000e+00 - 2s/epoch - 6ms/step\n",
      "Epoch 6/30\n",
      "373/373 - 2s - loss: 0.0297 - accuracy: 0.0000e+00 - val_loss: 0.0311 - val_accuracy: 0.0000e+00 - 2s/epoch - 6ms/step\n",
      "Epoch 7/30\n",
      "373/373 - 2s - loss: 0.0294 - accuracy: 0.0000e+00 - val_loss: 0.0308 - val_accuracy: 0.0000e+00 - 2s/epoch - 6ms/step\n",
      "Epoch 8/30\n",
      "373/373 - 2s - loss: 0.0290 - accuracy: 0.0000e+00 - val_loss: 0.0305 - val_accuracy: 0.0000e+00 - 2s/epoch - 6ms/step\n",
      "Epoch 9/30\n",
      "373/373 - 2s - loss: 0.0288 - accuracy: 0.0000e+00 - val_loss: 0.0302 - val_accuracy: 0.0000e+00 - 2s/epoch - 6ms/step\n",
      "Epoch 10/30\n",
      "373/373 - 2s - loss: 0.0285 - accuracy: 0.0000e+00 - val_loss: 0.0300 - val_accuracy: 0.0000e+00 - 2s/epoch - 6ms/step\n",
      "Epoch 11/30\n",
      "373/373 - 2s - loss: 0.0283 - accuracy: 0.0000e+00 - val_loss: 0.0298 - val_accuracy: 0.0000e+00 - 2s/epoch - 6ms/step\n",
      "Epoch 12/30\n",
      "373/373 - 2s - loss: 0.0280 - accuracy: 0.0000e+00 - val_loss: 0.0297 - val_accuracy: 0.0000e+00 - 2s/epoch - 6ms/step\n",
      "Epoch 13/30\n",
      "373/373 - 2s - loss: 0.0278 - accuracy: 0.0000e+00 - val_loss: 0.0296 - val_accuracy: 0.0000e+00 - 2s/epoch - 6ms/step\n",
      "Epoch 14/30\n",
      "373/373 - 2s - loss: 0.0277 - accuracy: 0.0000e+00 - val_loss: 0.0293 - val_accuracy: 0.0000e+00 - 2s/epoch - 6ms/step\n",
      "Epoch 15/30\n",
      "373/373 - 2s - loss: 0.0275 - accuracy: 0.0000e+00 - val_loss: 0.0292 - val_accuracy: 0.0000e+00 - 2s/epoch - 6ms/step\n",
      "Epoch 16/30\n",
      "373/373 - 2s - loss: 0.0273 - accuracy: 0.0000e+00 - val_loss: 0.0290 - val_accuracy: 0.0000e+00 - 2s/epoch - 6ms/step\n",
      "Epoch 17/30\n",
      "373/373 - 2s - loss: 0.0272 - accuracy: 0.0000e+00 - val_loss: 0.0289 - val_accuracy: 0.0000e+00 - 2s/epoch - 6ms/step\n",
      "Epoch 18/30\n",
      "373/373 - 3s - loss: 0.0271 - accuracy: 8.3886e-05 - val_loss: 0.0288 - val_accuracy: 0.0000e+00 - 3s/epoch - 7ms/step\n",
      "Epoch 19/30\n",
      "373/373 - 2s - loss: 0.0269 - accuracy: 8.3886e-05 - val_loss: 0.0289 - val_accuracy: 0.0000e+00 - 2s/epoch - 6ms/step\n",
      "Epoch 20/30\n",
      "373/373 - 2s - loss: 0.0268 - accuracy: 8.3886e-05 - val_loss: 0.0287 - val_accuracy: 0.0000e+00 - 2s/epoch - 6ms/step\n",
      "Epoch 21/30\n",
      "373/373 - 2s - loss: 0.0267 - accuracy: 8.3886e-05 - val_loss: 0.0286 - val_accuracy: 0.0000e+00 - 2s/epoch - 7ms/step\n",
      "Epoch 22/30\n",
      "373/373 - 2s - loss: 0.0266 - accuracy: 1.6777e-04 - val_loss: 0.0286 - val_accuracy: 0.0000e+00 - 2s/epoch - 6ms/step\n",
      "Epoch 23/30\n",
      "373/373 - 2s - loss: 0.0265 - accuracy: 1.6777e-04 - val_loss: 0.0284 - val_accuracy: 0.0000e+00 - 2s/epoch - 6ms/step\n",
      "Epoch 24/30\n",
      "373/373 - 2s - loss: 0.0264 - accuracy: 1.6777e-04 - val_loss: 0.0285 - val_accuracy: 0.0000e+00 - 2s/epoch - 6ms/step\n",
      "Epoch 25/30\n",
      "373/373 - 2s - loss: 0.0263 - accuracy: 1.6777e-04 - val_loss: 0.0283 - val_accuracy: 0.0000e+00 - 2s/epoch - 6ms/step\n",
      "Epoch 26/30\n",
      "373/373 - 2s - loss: 0.0262 - accuracy: 1.6777e-04 - val_loss: 0.0283 - val_accuracy: 0.0000e+00 - 2s/epoch - 6ms/step\n",
      "Epoch 27/30\n",
      "373/373 - 2s - loss: 0.0261 - accuracy: 1.6777e-04 - val_loss: 0.0282 - val_accuracy: 0.0000e+00 - 2s/epoch - 6ms/step\n",
      "Epoch 28/30\n",
      "373/373 - 2s - loss: 0.0261 - accuracy: 1.6777e-04 - val_loss: 0.0282 - val_accuracy: 0.0000e+00 - 2s/epoch - 6ms/step\n",
      "Epoch 29/30\n",
      "373/373 - 2s - loss: 0.0260 - accuracy: 1.6777e-04 - val_loss: 0.0281 - val_accuracy: 0.0000e+00 - 2s/epoch - 6ms/step\n",
      "Epoch 30/30\n",
      "373/373 - 2s - loss: 0.0259 - accuracy: 1.6777e-04 - val_loss: 0.0281 - val_accuracy: 0.0000e+00 - 2s/epoch - 6ms/step\n",
      "Wall time: 1min 9s\n"
     ]
    }
   ],
   "source": [
    "%%time\n",
    "\n",
    "print('Building Danceability Model with SGD optimizer..')\n",
    "\n",
    "danceabilitymodelSGD = Sequential()\n",
    "\n",
    "danceabilitymodelSGD.add(Dense(256, input_shape=(max_words,), activation='relu'))\n",
    "\n",
    "danceabilitymodelSGD.add(Dense(256, activation='relu'))\n",
    "\n",
    "danceabilitymodelSGD.add(Dense(1, activation='linear'))\n",
    "\n",
    "danceabilitymodelSGD.compile(loss='mse', optimizer='sgd', metrics=['accuracy'])\n",
    "\n",
    "historydanceabilitySGD = danceabilitymodelSGD.fit(x=X_train_enc.todense(),           \n",
    "    y=y_train_danceability, epochs=nb_epoch,batch_size=batch_size, verbose=2,\n",
    "    validation_data=(       \n",
    "    X_val_enc.todense(),\n",
    "    y_val_danceability))\n",
    "\n",
    "danceability_scores_SGD = danceabilitymodelSGD.evaluate(X_test_enc.todense(),y_test_danceability, verbose=0)\t"
   ]
  },
  {
   "cell_type": "code",
   "execution_count": 47,
   "id": "a24aade7",
   "metadata": {
    "colab": {
     "base_uri": "https://localhost:8080/",
     "height": 791
    },
    "id": "a24aade7",
    "outputId": "9a5160b7-c8ab-4b50-efbe-3dc834522889"
   },
   "outputs": [
    {
     "data": {
      "image/png": "[encoded data removed]",
      "text/plain": [
       "<Figure size 864x432 with 1 Axes>"
      ]
     },
     "metadata": {
      "needs_background": "light"
     },
     "output_type": "display_data"
    },
    {
     "data": {
      "image/png": "[encoded data removed]",
      "text/plain": [
       "<Figure size 864x432 with 1 Axes>"
      ]
     },
     "metadata": {
      "needs_background": "light"
     },
     "output_type": "display_data"
    }
   ],
   "source": [
    "plot_keras_history(historydanceabilitySGD)"
   ]
  },
  {
   "cell_type": "markdown",
   "id": "5b739cb6",
   "metadata": {
    "id": "5b739cb6"
   },
   "source": [
    "# Valence Model"
   ]
  },
  {
   "cell_type": "code",
   "execution_count": 48,
   "id": "80c2ebc4",
   "metadata": {
    "colab": {
     "base_uri": "https://localhost:8080/"
    },
    "id": "80c2ebc4",
    "outputId": "c1617d18-172d-48f1-e05c-b299b8cfa5c4"
   },
   "outputs": [
    {
     "name": "stdout",
     "output_type": "stream",
     "text": [
      "Building Valence Model with Adam Optimizer..\n",
      "Epoch 1/30\n",
      "373/373 - 3s - loss: 0.0605 - accuracy: 8.3886e-05 - val_loss: 0.0560 - val_accuracy: 0.0000e+00 - 3s/epoch - 9ms/step\n",
      "Epoch 2/30\n",
      "373/373 - 3s - loss: 0.0437 - accuracy: 0.0000e+00 - val_loss: 0.0591 - val_accuracy: 0.0000e+00 - 3s/epoch - 7ms/step\n",
      "Epoch 3/30\n",
      "373/373 - 3s - loss: 0.0263 - accuracy: 8.3886e-05 - val_loss: 0.0618 - val_accuracy: 0.0000e+00 - 3s/epoch - 7ms/step\n",
      "Epoch 4/30\n",
      "373/373 - 3s - loss: 0.0166 - accuracy: 8.3886e-05 - val_loss: 0.0652 - val_accuracy: 0.0000e+00 - 3s/epoch - 7ms/step\n",
      "Epoch 5/30\n",
      "373/373 - 3s - loss: 0.0126 - accuracy: 8.3886e-05 - val_loss: 0.0641 - val_accuracy: 0.0000e+00 - 3s/epoch - 7ms/step\n",
      "Epoch 6/30\n",
      "373/373 - 3s - loss: 0.0105 - accuracy: 8.3886e-05 - val_loss: 0.0649 - val_accuracy: 0.0000e+00 - 3s/epoch - 7ms/step\n",
      "Epoch 7/30\n",
      "373/373 - 3s - loss: 0.0093 - accuracy: 8.3886e-05 - val_loss: 0.0641 - val_accuracy: 0.0000e+00 - 3s/epoch - 7ms/step\n",
      "Epoch 8/30\n",
      "373/373 - 3s - loss: 0.0087 - accuracy: 8.3886e-05 - val_loss: 0.0651 - val_accuracy: 0.0000e+00 - 3s/epoch - 7ms/step\n",
      "Epoch 9/30\n",
      "373/373 - 3s - loss: 0.0083 - accuracy: 8.3886e-05 - val_loss: 0.0655 - val_accuracy: 0.0000e+00 - 3s/epoch - 7ms/step\n",
      "Epoch 10/30\n",
      "373/373 - 3s - loss: 0.0078 - accuracy: 8.3886e-05 - val_loss: 0.0657 - val_accuracy: 0.0000e+00 - 3s/epoch - 7ms/step\n",
      "Epoch 11/30\n",
      "373/373 - 3s - loss: 0.0076 - accuracy: 0.0000e+00 - val_loss: 0.0655 - val_accuracy: 0.0000e+00 - 3s/epoch - 7ms/step\n",
      "Epoch 12/30\n",
      "373/373 - 3s - loss: 0.0073 - accuracy: 8.3886e-05 - val_loss: 0.0647 - val_accuracy: 0.0000e+00 - 3s/epoch - 7ms/step\n",
      "Epoch 13/30\n",
      "373/373 - 3s - loss: 0.0071 - accuracy: 8.3886e-05 - val_loss: 0.0648 - val_accuracy: 0.0000e+00 - 3s/epoch - 7ms/step\n",
      "Epoch 14/30\n",
      "373/373 - 3s - loss: 0.0070 - accuracy: 8.3886e-05 - val_loss: 0.0643 - val_accuracy: 0.0000e+00 - 3s/epoch - 7ms/step\n",
      "Epoch 15/30\n",
      "373/373 - 3s - loss: 0.0068 - accuracy: 8.3886e-05 - val_loss: 0.0649 - val_accuracy: 0.0000e+00 - 3s/epoch - 7ms/step\n",
      "Epoch 16/30\n",
      "373/373 - 3s - loss: 0.0068 - accuracy: 8.3886e-05 - val_loss: 0.0638 - val_accuracy: 0.0000e+00 - 3s/epoch - 7ms/step\n",
      "Epoch 17/30\n",
      "373/373 - 2s - loss: 0.0066 - accuracy: 8.3886e-05 - val_loss: 0.0650 - val_accuracy: 0.0000e+00 - 2s/epoch - 7ms/step\n",
      "Epoch 18/30\n",
      "373/373 - 3s - loss: 0.0065 - accuracy: 8.3886e-05 - val_loss: 0.0645 - val_accuracy: 0.0000e+00 - 3s/epoch - 7ms/step\n",
      "Epoch 19/30\n",
      "373/373 - 3s - loss: 0.0063 - accuracy: 0.0000e+00 - val_loss: 0.0644 - val_accuracy: 0.0000e+00 - 3s/epoch - 7ms/step\n",
      "Epoch 20/30\n",
      "373/373 - 3s - loss: 0.0063 - accuracy: 8.3886e-05 - val_loss: 0.0640 - val_accuracy: 0.0000e+00 - 3s/epoch - 7ms/step\n",
      "Epoch 21/30\n",
      "373/373 - 3s - loss: 0.0062 - accuracy: 8.3886e-05 - val_loss: 0.0635 - val_accuracy: 0.0000e+00 - 3s/epoch - 7ms/step\n",
      "Epoch 22/30\n",
      "373/373 - 3s - loss: 0.0061 - accuracy: 8.3886e-05 - val_loss: 0.0639 - val_accuracy: 0.0000e+00 - 3s/epoch - 7ms/step\n",
      "Epoch 23/30\n",
      "373/373 - 3s - loss: 0.0060 - accuracy: 8.3886e-05 - val_loss: 0.0647 - val_accuracy: 0.0000e+00 - 3s/epoch - 8ms/step\n",
      "Epoch 24/30\n",
      "373/373 - 3s - loss: 0.0061 - accuracy: 8.3886e-05 - val_loss: 0.0639 - val_accuracy: 0.0000e+00 - 3s/epoch - 7ms/step\n",
      "Epoch 25/30\n",
      "373/373 - 3s - loss: 0.0060 - accuracy: 8.3886e-05 - val_loss: 0.0644 - val_accuracy: 0.0000e+00 - 3s/epoch - 7ms/step\n",
      "Epoch 26/30\n",
      "373/373 - 3s - loss: 0.0059 - accuracy: 8.3886e-05 - val_loss: 0.0647 - val_accuracy: 0.0000e+00 - 3s/epoch - 7ms/step\n",
      "Epoch 27/30\n",
      "373/373 - 2s - loss: 0.0058 - accuracy: 8.3886e-05 - val_loss: 0.0637 - val_accuracy: 0.0000e+00 - 2s/epoch - 7ms/step\n",
      "Epoch 28/30\n",
      "373/373 - 3s - loss: 0.0056 - accuracy: 8.3886e-05 - val_loss: 0.0636 - val_accuracy: 0.0000e+00 - 3s/epoch - 7ms/step\n",
      "Epoch 29/30\n",
      "373/373 - 3s - loss: 0.0056 - accuracy: 8.3886e-05 - val_loss: 0.0636 - val_accuracy: 0.0000e+00 - 3s/epoch - 7ms/step\n",
      "Epoch 30/30\n",
      "373/373 - 3s - loss: 0.0056 - accuracy: 8.3886e-05 - val_loss: 0.0634 - val_accuracy: 0.0000e+00 - 3s/epoch - 7ms/step\n",
      "Wall time: 1min 20s\n"
     ]
    }
   ],
   "source": [
    "%%time\n",
    "\n",
    "print('Building Valence Model with Adam Optimizer..')\n",
    "\n",
    "valencemodel = Sequential()\n",
    "\n",
    "valencemodel.add(Dense(256, input_shape=(max_words,), activation='relu'))\n",
    "\n",
    "valencemodel.add(Dense(256, activation='relu'))\n",
    "\n",
    "valencemodel.add(Dense(1, activation='linear'))\n",
    "\n",
    "valencemodel.compile(loss='mse', optimizer='adam', metrics=['accuracy'])\n",
    "\n",
    "historyvalence = valencemodel.fit(x=X_train_enc.todense(),           \n",
    "    y=y_train_valence, epochs=nb_epoch,batch_size=batch_size, verbose=2,\n",
    "    validation_data=(       \n",
    "    X_val_enc.todense(),\n",
    "    y_val_valence))\n",
    "\n",
    "valence_scores = valencemodel.evaluate(X_test_enc.todense(),y_test_valence, verbose=0)"
   ]
  },
  {
   "cell_type": "code",
   "execution_count": 49,
   "id": "846f0ee2",
   "metadata": {
    "colab": {
     "base_uri": "https://localhost:8080/",
     "height": 791
    },
    "id": "846f0ee2",
    "outputId": "c3827501-4877-4c02-a390-fcc884c7a386"
   },
   "outputs": [
    {
     "data": {
      "image/png": "[encoded data removed]",
      "text/plain": [
       "<Figure size 864x432 with 1 Axes>"
      ]
     },
     "metadata": {
      "needs_background": "light"
     },
     "output_type": "display_data"
    },
    {
     "data": {
      "image/png": "[encoded data removed]",
      "text/plain": [
       "<Figure size 864x432 with 1 Axes>"
      ]
     },
     "metadata": {
      "needs_background": "light"
     },
     "output_type": "display_data"
    }
   ],
   "source": [
    "plot_keras_history(historyvalence)"
   ]
  },
  {
   "cell_type": "code",
   "execution_count": 50,
   "id": "279d63b9",
   "metadata": {
    "colab": {
     "base_uri": "https://localhost:8080/"
    },
    "id": "279d63b9",
    "outputId": "bbe2b6dc-248d-4d80-dfe8-f6ab86404ec0"
   },
   "outputs": [
    {
     "name": "stdout",
     "output_type": "stream",
     "text": [
      "Building Valence Model with SGD optimizer..\n",
      "Epoch 1/30\n",
      "373/373 - 3s - loss: 0.0699 - accuracy: 8.3886e-05 - val_loss: 0.0618 - val_accuracy: 0.0000e+00 - 3s/epoch - 9ms/step\n",
      "Epoch 2/30\n",
      "373/373 - 3s - loss: 0.0608 - accuracy: 8.3886e-05 - val_loss: 0.0614 - val_accuracy: 0.0000e+00 - 3s/epoch - 7ms/step\n",
      "Epoch 3/30\n",
      "373/373 - 3s - loss: 0.0603 - accuracy: 8.3886e-05 - val_loss: 0.0610 - val_accuracy: 0.0000e+00 - 3s/epoch - 7ms/step\n",
      "Epoch 4/30\n",
      "373/373 - 3s - loss: 0.0598 - accuracy: 8.3886e-05 - val_loss: 0.0606 - val_accuracy: 0.0000e+00 - 3s/epoch - 7ms/step\n",
      "Epoch 5/30\n",
      "373/373 - 3s - loss: 0.0594 - accuracy: 8.3886e-05 - val_loss: 0.0603 - val_accuracy: 0.0000e+00 - 3s/epoch - 7ms/step\n",
      "Epoch 6/30\n",
      "373/373 - 2s - loss: 0.0590 - accuracy: 8.3886e-05 - val_loss: 0.0600 - val_accuracy: 0.0000e+00 - 2s/epoch - 6ms/step\n",
      "Epoch 7/30\n",
      "373/373 - 2s - loss: 0.0587 - accuracy: 8.3886e-05 - val_loss: 0.0598 - val_accuracy: 0.0000e+00 - 2s/epoch - 6ms/step\n",
      "Epoch 8/30\n",
      "373/373 - 2s - loss: 0.0584 - accuracy: 8.3886e-05 - val_loss: 0.0596 - val_accuracy: 0.0000e+00 - 2s/epoch - 6ms/step\n",
      "Epoch 9/30\n",
      "373/373 - 2s - loss: 0.0581 - accuracy: 8.3886e-05 - val_loss: 0.0594 - val_accuracy: 0.0000e+00 - 2s/epoch - 6ms/step\n",
      "Epoch 10/30\n",
      "373/373 - 2s - loss: 0.0578 - accuracy: 8.3886e-05 - val_loss: 0.0592 - val_accuracy: 0.0000e+00 - 2s/epoch - 5ms/step\n",
      "Epoch 11/30\n",
      "373/373 - 2s - loss: 0.0575 - accuracy: 8.3886e-05 - val_loss: 0.0590 - val_accuracy: 0.0000e+00 - 2s/epoch - 5ms/step\n",
      "Epoch 12/30\n",
      "373/373 - 2s - loss: 0.0573 - accuracy: 8.3886e-05 - val_loss: 0.0589 - val_accuracy: 0.0000e+00 - 2s/epoch - 6ms/step\n",
      "Epoch 13/30\n",
      "373/373 - 2s - loss: 0.0570 - accuracy: 8.3886e-05 - val_loss: 0.0589 - val_accuracy: 0.0000e+00 - 2s/epoch - 5ms/step\n",
      "Epoch 14/30\n",
      "373/373 - 2s - loss: 0.0567 - accuracy: 8.3886e-05 - val_loss: 0.0587 - val_accuracy: 0.0000e+00 - 2s/epoch - 5ms/step\n",
      "Epoch 15/30\n",
      "373/373 - 2s - loss: 0.0564 - accuracy: 8.3886e-05 - val_loss: 0.0585 - val_accuracy: 0.0000e+00 - 2s/epoch - 6ms/step\n",
      "Epoch 16/30\n",
      "373/373 - 2s - loss: 0.0561 - accuracy: 8.3886e-05 - val_loss: 0.0583 - val_accuracy: 0.0000e+00 - 2s/epoch - 6ms/step\n",
      "Epoch 17/30\n",
      "373/373 - 2s - loss: 0.0559 - accuracy: 8.3886e-05 - val_loss: 0.0581 - val_accuracy: 0.0000e+00 - 2s/epoch - 6ms/step\n",
      "Epoch 18/30\n",
      "373/373 - 2s - loss: 0.0557 - accuracy: 8.3886e-05 - val_loss: 0.0581 - val_accuracy: 0.0000e+00 - 2s/epoch - 5ms/step\n",
      "Epoch 19/30\n",
      "373/373 - 2s - loss: 0.0554 - accuracy: 8.3886e-05 - val_loss: 0.0578 - val_accuracy: 0.0000e+00 - 2s/epoch - 5ms/step\n",
      "Epoch 20/30\n",
      "373/373 - 2s - loss: 0.0552 - accuracy: 8.3886e-05 - val_loss: 0.0579 - val_accuracy: 0.0000e+00 - 2s/epoch - 5ms/step\n",
      "Epoch 21/30\n",
      "373/373 - 2s - loss: 0.0549 - accuracy: 8.3886e-05 - val_loss: 0.0577 - val_accuracy: 0.0000e+00 - 2s/epoch - 6ms/step\n",
      "Epoch 22/30\n",
      "373/373 - 2s - loss: 0.0547 - accuracy: 8.3886e-05 - val_loss: 0.0575 - val_accuracy: 0.0000e+00 - 2s/epoch - 5ms/step\n",
      "Epoch 23/30\n",
      "373/373 - 2s - loss: 0.0544 - accuracy: 8.3886e-05 - val_loss: 0.0574 - val_accuracy: 0.0000e+00 - 2s/epoch - 5ms/step\n",
      "Epoch 24/30\n",
      "373/373 - 2s - loss: 0.0542 - accuracy: 8.3886e-05 - val_loss: 0.0573 - val_accuracy: 0.0000e+00 - 2s/epoch - 5ms/step\n",
      "Epoch 25/30\n",
      "373/373 - 2s - loss: 0.0540 - accuracy: 8.3886e-05 - val_loss: 0.0572 - val_accuracy: 0.0000e+00 - 2s/epoch - 6ms/step\n",
      "Epoch 26/30\n",
      "373/373 - 2s - loss: 0.0538 - accuracy: 8.3886e-05 - val_loss: 0.0571 - val_accuracy: 0.0000e+00 - 2s/epoch - 6ms/step\n",
      "Epoch 27/30\n",
      "373/373 - 2s - loss: 0.0535 - accuracy: 8.3886e-05 - val_loss: 0.0570 - val_accuracy: 0.0000e+00 - 2s/epoch - 6ms/step\n",
      "Epoch 28/30\n",
      "373/373 - 2s - loss: 0.0533 - accuracy: 8.3886e-05 - val_loss: 0.0570 - val_accuracy: 0.0000e+00 - 2s/epoch - 6ms/step\n",
      "Epoch 29/30\n",
      "373/373 - 2s - loss: 0.0531 - accuracy: 8.3886e-05 - val_loss: 0.0569 - val_accuracy: 0.0000e+00 - 2s/epoch - 5ms/step\n",
      "Epoch 30/30\n",
      "373/373 - 2s - loss: 0.0529 - accuracy: 8.3886e-05 - val_loss: 0.0570 - val_accuracy: 0.0000e+00 - 2s/epoch - 5ms/step\n",
      "Wall time: 1min 6s\n"
     ]
    }
   ],
   "source": [
    "%%time\n",
    "\n",
    "print('Building Valence Model with SGD optimizer..')\n",
    "\n",
    "valencemodelSGD = Sequential()\n",
    "\n",
    "valencemodelSGD.add(Dense(256, input_shape=(max_words,), activation='relu'))\n",
    "\n",
    "valencemodelSGD.add(Dense(256, activation='relu'))\n",
    "\n",
    "valencemodelSGD.add(Dense(1, activation='linear'))\n",
    "\n",
    "valencemodelSGD.compile(loss='mse', optimizer='sgd', metrics=['accuracy'])\n",
    "\n",
    "historyvalenceSGD = valencemodelSGD.fit(x=X_train_enc.todense(),           \n",
    "    y=y_train_valence, epochs=nb_epoch,batch_size=batch_size, verbose=2,\n",
    "    validation_data=(       \n",
    "    X_val_enc.todense(),\n",
    "    y_val_valence))\n",
    "\n",
    "valence_scores_SGD = valencemodelSGD.evaluate(X_test_enc.todense(),y_test_valence, verbose=0)\t"
   ]
  },
  {
   "cell_type": "code",
   "execution_count": 51,
   "id": "143a6069",
   "metadata": {
    "colab": {
     "base_uri": "https://localhost:8080/",
     "height": 791
    },
    "id": "143a6069",
    "outputId": "45e50764-610c-4de0-ce59-ebf94bfe0c6a"
   },
   "outputs": [
    {
     "data": {
      "image/png": "[encoded data removed]",
      "text/plain": [
       "<Figure size 864x432 with 1 Axes>"
      ]
     },
     "metadata": {
      "needs_background": "light"
     },
     "output_type": "display_data"
    },
    {
     "data": {
      "image/png": "[encoded data removed]",
      "text/plain": [
       "<Figure size 864x432 with 1 Axes>"
      ]
     },
     "metadata": {
      "needs_background": "light"
     },
     "output_type": "display_data"
    }
   ],
   "source": [
    "plot_keras_history(historyvalenceSGD)"
   ]
  },
  {
   "cell_type": "markdown",
   "id": "d3b659b6",
   "metadata": {
    "id": "d3b659b6"
   },
   "source": [
    "# Acousticness Model"
   ]
  },
  {
   "cell_type": "code",
   "execution_count": 52,
   "id": "9f749494",
   "metadata": {
    "colab": {
     "base_uri": "https://localhost:8080/"
    },
    "id": "9f749494",
    "outputId": "7bc647fe-b9ef-40f9-ae01-67fcd94701d3"
   },
   "outputs": [
    {
     "name": "stdout",
     "output_type": "stream",
     "text": [
      "Building Acousticness Model with Adam Optimizer..\n",
      "Epoch 1/30\n",
      "373/373 - 3s - loss: 0.0850 - accuracy: 2.5166e-04 - val_loss: 0.0812 - val_accuracy: 0.0000e+00 - 3s/epoch - 8ms/step\n",
      "Epoch 2/30\n",
      "373/373 - 2s - loss: 0.0631 - accuracy: 4.1943e-04 - val_loss: 0.0841 - val_accuracy: 0.0000e+00 - 2s/epoch - 6ms/step\n",
      "Epoch 3/30\n",
      "373/373 - 3s - loss: 0.0363 - accuracy: 4.1943e-04 - val_loss: 0.0895 - val_accuracy: 0.0000e+00 - 3s/epoch - 7ms/step\n",
      "Epoch 4/30\n",
      "373/373 - 3s - loss: 0.0228 - accuracy: 3.3554e-04 - val_loss: 0.0920 - val_accuracy: 0.0000e+00 - 3s/epoch - 7ms/step\n",
      "Epoch 5/30\n",
      "373/373 - 3s - loss: 0.0173 - accuracy: 4.1943e-04 - val_loss: 0.0929 - val_accuracy: 0.0000e+00 - 3s/epoch - 7ms/step\n",
      "Epoch 6/30\n",
      "373/373 - 3s - loss: 0.0148 - accuracy: 4.1943e-04 - val_loss: 0.0915 - val_accuracy: 0.0000e+00 - 3s/epoch - 8ms/step\n",
      "Epoch 7/30\n",
      "373/373 - 3s - loss: 0.0133 - accuracy: 4.1943e-04 - val_loss: 0.0960 - val_accuracy: 0.0000e+00 - 3s/epoch - 7ms/step\n",
      "Epoch 8/30\n",
      "373/373 - 3s - loss: 0.0125 - accuracy: 4.1943e-04 - val_loss: 0.0912 - val_accuracy: 0.0000e+00 - 3s/epoch - 7ms/step\n",
      "Epoch 9/30\n",
      "373/373 - 3s - loss: 0.0121 - accuracy: 4.1943e-04 - val_loss: 0.0918 - val_accuracy: 0.0000e+00 - 3s/epoch - 7ms/step\n",
      "Epoch 10/30\n",
      "373/373 - 3s - loss: 0.0118 - accuracy: 4.1943e-04 - val_loss: 0.0924 - val_accuracy: 0.0000e+00 - 3s/epoch - 9ms/step\n",
      "Epoch 11/30\n",
      "373/373 - 3s - loss: 0.0116 - accuracy: 4.1943e-04 - val_loss: 0.0929 - val_accuracy: 0.0000e+00 - 3s/epoch - 7ms/step\n",
      "Epoch 12/30\n",
      "373/373 - 3s - loss: 0.0113 - accuracy: 4.1943e-04 - val_loss: 0.0924 - val_accuracy: 0.0000e+00 - 3s/epoch - 7ms/step\n",
      "Epoch 13/30\n",
      "373/373 - 3s - loss: 0.0109 - accuracy: 4.1943e-04 - val_loss: 0.0917 - val_accuracy: 0.0000e+00 - 3s/epoch - 7ms/step\n",
      "Epoch 14/30\n",
      "373/373 - 3s - loss: 0.0109 - accuracy: 4.1943e-04 - val_loss: 0.0926 - val_accuracy: 0.0000e+00 - 3s/epoch - 7ms/step\n",
      "Epoch 15/30\n",
      "373/373 - 3s - loss: 0.0106 - accuracy: 4.1943e-04 - val_loss: 0.0917 - val_accuracy: 0.0000e+00 - 3s/epoch - 7ms/step\n",
      "Epoch 16/30\n",
      "373/373 - 3s - loss: 0.0106 - accuracy: 4.1943e-04 - val_loss: 0.0919 - val_accuracy: 0.0000e+00 - 3s/epoch - 7ms/step\n",
      "Epoch 17/30\n",
      "373/373 - 3s - loss: 0.0105 - accuracy: 4.1943e-04 - val_loss: 0.0915 - val_accuracy: 0.0000e+00 - 3s/epoch - 7ms/step\n",
      "Epoch 18/30\n",
      "373/373 - 3s - loss: 0.0102 - accuracy: 4.1943e-04 - val_loss: 0.0912 - val_accuracy: 0.0000e+00 - 3s/epoch - 7ms/step\n",
      "Epoch 19/30\n",
      "373/373 - 3s - loss: 0.0099 - accuracy: 4.1943e-04 - val_loss: 0.0927 - val_accuracy: 0.0000e+00 - 3s/epoch - 7ms/step\n",
      "Epoch 20/30\n",
      "373/373 - 3s - loss: 0.0096 - accuracy: 4.1943e-04 - val_loss: 0.0906 - val_accuracy: 0.0000e+00 - 3s/epoch - 7ms/step\n",
      "Epoch 21/30\n",
      "373/373 - 3s - loss: 0.0097 - accuracy: 4.1943e-04 - val_loss: 0.0920 - val_accuracy: 0.0000e+00 - 3s/epoch - 7ms/step\n",
      "Epoch 22/30\n",
      "373/373 - 3s - loss: 0.0097 - accuracy: 4.1943e-04 - val_loss: 0.0905 - val_accuracy: 0.0000e+00 - 3s/epoch - 7ms/step\n",
      "Epoch 23/30\n",
      "373/373 - 3s - loss: 0.0096 - accuracy: 4.1943e-04 - val_loss: 0.0940 - val_accuracy: 0.0000e+00 - 3s/epoch - 7ms/step\n",
      "Epoch 24/30\n",
      "373/373 - 3s - loss: 0.0093 - accuracy: 4.1943e-04 - val_loss: 0.0927 - val_accuracy: 0.0000e+00 - 3s/epoch - 8ms/step\n",
      "Epoch 25/30\n",
      "373/373 - 3s - loss: 0.0092 - accuracy: 4.1943e-04 - val_loss: 0.0913 - val_accuracy: 0.0000e+00 - 3s/epoch - 8ms/step\n",
      "Epoch 26/30\n",
      "373/373 - 3s - loss: 0.0093 - accuracy: 4.1943e-04 - val_loss: 0.0906 - val_accuracy: 0.0000e+00 - 3s/epoch - 7ms/step\n",
      "Epoch 27/30\n",
      "373/373 - 3s - loss: 0.0091 - accuracy: 4.1943e-04 - val_loss: 0.0920 - val_accuracy: 0.0000e+00 - 3s/epoch - 7ms/step\n",
      "Epoch 28/30\n",
      "373/373 - 3s - loss: 0.0091 - accuracy: 4.1943e-04 - val_loss: 0.0917 - val_accuracy: 0.0000e+00 - 3s/epoch - 7ms/step\n",
      "Epoch 29/30\n",
      "373/373 - 3s - loss: 0.0090 - accuracy: 4.1943e-04 - val_loss: 0.0913 - val_accuracy: 0.0000e+00 - 3s/epoch - 8ms/step\n",
      "Epoch 30/30\n",
      "373/373 - 3s - loss: 0.0090 - accuracy: 4.1943e-04 - val_loss: 0.0916 - val_accuracy: 0.0000e+00 - 3s/epoch - 7ms/step\n",
      "Wall time: 1min 22s\n"
     ]
    }
   ],
   "source": [
    "%%time\n",
    "\n",
    "print('Building Acousticness Model with Adam Optimizer..')\n",
    "\n",
    "acousticnessmodel = Sequential()\n",
    "\n",
    "acousticnessmodel.add(Dense(256, input_shape=(max_words,), activation='relu'))\n",
    "\n",
    "acousticnessmodel.add(Dense(256, activation='relu'))\n",
    "\n",
    "acousticnessmodel.add(Dense(1, activation='linear'))\n",
    "\n",
    "acousticnessmodel.compile(loss='mse', optimizer='adam', metrics=['accuracy'])\n",
    "\n",
    "historyacousticness = acousticnessmodel.fit(x=X_train_enc.todense(),           \n",
    "    y=y_train_acousticness, epochs=nb_epoch,batch_size=batch_size, verbose=2,\n",
    "    validation_data=(       \n",
    "    X_val_enc.todense(),\n",
    "    y_val_acousticness))\n",
    "\n",
    "acousticness_scores = acousticnessmodel.evaluate(X_test_enc.todense(),y_test_acousticness, verbose=0)\n"
   ]
  },
  {
   "cell_type": "code",
   "execution_count": 53,
   "id": "4704c314",
   "metadata": {
    "colab": {
     "base_uri": "https://localhost:8080/",
     "height": 791
    },
    "id": "4704c314",
    "outputId": "a7b03b08-4466-4a94-9026-ebfce98a863d"
   },
   "outputs": [
    {
     "data": {
      "image/png": "[encoded data removed]",
      "text/plain": [
       "<Figure size 864x432 with 1 Axes>"
      ]
     },
     "metadata": {
      "needs_background": "light"
     },
     "output_type": "display_data"
    },
    {
     "data": {
      "image/png": "[encoded data removed]",
      "text/plain": [
       "<Figure size 864x432 with 1 Axes>"
      ]
     },
     "metadata": {
      "needs_background": "light"
     },
     "output_type": "display_data"
    }
   ],
   "source": [
    "plot_keras_history(historyacousticness)"
   ]
  },
  {
   "cell_type": "code",
   "execution_count": 54,
   "id": "5b84aeb7",
   "metadata": {
    "colab": {
     "base_uri": "https://localhost:8080/"
    },
    "id": "5b84aeb7",
    "outputId": "1ef4d7be-27c9-4a82-a55f-6f4fdf797ebc",
    "scrolled": true
   },
   "outputs": [
    {
     "name": "stdout",
     "output_type": "stream",
     "text": [
      "Building Acousticness Model with SGD optimizer..\n",
      "Epoch 1/30\n",
      "373/373 - 3s - loss: 0.0985 - accuracy: 8.3886e-05 - val_loss: 0.0948 - val_accuracy: 0.0000e+00 - 3s/epoch - 7ms/step\n",
      "Epoch 2/30\n",
      "373/373 - 2s - loss: 0.0943 - accuracy: 8.3886e-05 - val_loss: 0.0944 - val_accuracy: 0.0000e+00 - 2s/epoch - 6ms/step\n",
      "Epoch 3/30\n",
      "373/373 - 2s - loss: 0.0934 - accuracy: 8.3886e-05 - val_loss: 0.0934 - val_accuracy: 0.0000e+00 - 2s/epoch - 6ms/step\n",
      "Epoch 4/30\n",
      "373/373 - 2s - loss: 0.0926 - accuracy: 8.3886e-05 - val_loss: 0.0927 - val_accuracy: 0.0000e+00 - 2s/epoch - 6ms/step\n",
      "Epoch 5/30\n",
      "373/373 - 2s - loss: 0.0917 - accuracy: 8.3886e-05 - val_loss: 0.0921 - val_accuracy: 0.0000e+00 - 2s/epoch - 6ms/step\n",
      "Epoch 6/30\n",
      "373/373 - 2s - loss: 0.0908 - accuracy: 8.3886e-05 - val_loss: 0.0913 - val_accuracy: 0.0000e+00 - 2s/epoch - 6ms/step\n",
      "Epoch 7/30\n",
      "373/373 - 2s - loss: 0.0900 - accuracy: 8.3886e-05 - val_loss: 0.0907 - val_accuracy: 0.0000e+00 - 2s/epoch - 6ms/step\n",
      "Epoch 8/30\n",
      "373/373 - 2s - loss: 0.0891 - accuracy: 8.3886e-05 - val_loss: 0.0899 - val_accuracy: 0.0000e+00 - 2s/epoch - 6ms/step\n",
      "Epoch 9/30\n",
      "373/373 - 2s - loss: 0.0882 - accuracy: 8.3886e-05 - val_loss: 0.0893 - val_accuracy: 0.0000e+00 - 2s/epoch - 6ms/step\n",
      "Epoch 10/30\n",
      "373/373 - 2s - loss: 0.0873 - accuracy: 8.3886e-05 - val_loss: 0.0887 - val_accuracy: 0.0000e+00 - 2s/epoch - 6ms/step\n",
      "Epoch 11/30\n",
      "373/373 - 2s - loss: 0.0865 - accuracy: 8.3886e-05 - val_loss: 0.0893 - val_accuracy: 0.0000e+00 - 2s/epoch - 6ms/step\n",
      "Epoch 12/30\n",
      "373/373 - 2s - loss: 0.0858 - accuracy: 1.6777e-04 - val_loss: 0.0881 - val_accuracy: 0.0000e+00 - 2s/epoch - 6ms/step\n",
      "Epoch 13/30\n",
      "373/373 - 2s - loss: 0.0852 - accuracy: 1.6777e-04 - val_loss: 0.0874 - val_accuracy: 0.0000e+00 - 2s/epoch - 6ms/step\n",
      "Epoch 14/30\n",
      "373/373 - 2s - loss: 0.0846 - accuracy: 1.6777e-04 - val_loss: 0.0871 - val_accuracy: 0.0000e+00 - 2s/epoch - 6ms/step\n",
      "Epoch 15/30\n",
      "373/373 - 2s - loss: 0.0840 - accuracy: 1.6777e-04 - val_loss: 0.0869 - val_accuracy: 0.0000e+00 - 2s/epoch - 6ms/step\n",
      "Epoch 16/30\n",
      "373/373 - 2s - loss: 0.0834 - accuracy: 1.6777e-04 - val_loss: 0.0865 - val_accuracy: 0.0000e+00 - 2s/epoch - 6ms/step\n",
      "Epoch 17/30\n",
      "373/373 - 2s - loss: 0.0830 - accuracy: 1.6777e-04 - val_loss: 0.0863 - val_accuracy: 0.0000e+00 - 2s/epoch - 6ms/step\n",
      "Epoch 18/30\n",
      "373/373 - 2s - loss: 0.0825 - accuracy: 1.6777e-04 - val_loss: 0.0861 - val_accuracy: 0.0000e+00 - 2s/epoch - 5ms/step\n",
      "Epoch 19/30\n",
      "373/373 - 2s - loss: 0.0820 - accuracy: 1.6777e-04 - val_loss: 0.0858 - val_accuracy: 0.0000e+00 - 2s/epoch - 5ms/step\n",
      "Epoch 20/30\n",
      "373/373 - 2s - loss: 0.0815 - accuracy: 1.6777e-04 - val_loss: 0.0856 - val_accuracy: 0.0000e+00 - 2s/epoch - 6ms/step\n",
      "Epoch 21/30\n",
      "373/373 - 2s - loss: 0.0811 - accuracy: 1.6777e-04 - val_loss: 0.0854 - val_accuracy: 0.0000e+00 - 2s/epoch - 6ms/step\n",
      "Epoch 22/30\n",
      "373/373 - 2s - loss: 0.0805 - accuracy: 1.6777e-04 - val_loss: 0.0852 - val_accuracy: 0.0000e+00 - 2s/epoch - 6ms/step\n",
      "Epoch 23/30\n",
      "373/373 - 2s - loss: 0.0801 - accuracy: 1.6777e-04 - val_loss: 0.0855 - val_accuracy: 0.0000e+00 - 2s/epoch - 6ms/step\n",
      "Epoch 24/30\n",
      "373/373 - 2s - loss: 0.0796 - accuracy: 1.6777e-04 - val_loss: 0.0849 - val_accuracy: 0.0000e+00 - 2s/epoch - 6ms/step\n",
      "Epoch 25/30\n",
      "373/373 - 2s - loss: 0.0792 - accuracy: 1.6777e-04 - val_loss: 0.0846 - val_accuracy: 0.0000e+00 - 2s/epoch - 7ms/step\n",
      "Epoch 26/30\n",
      "373/373 - 2s - loss: 0.0788 - accuracy: 1.6777e-04 - val_loss: 0.0845 - val_accuracy: 0.0000e+00 - 2s/epoch - 6ms/step\n",
      "Epoch 27/30\n",
      "373/373 - 2s - loss: 0.0783 - accuracy: 1.6777e-04 - val_loss: 0.0843 - val_accuracy: 0.0000e+00 - 2s/epoch - 6ms/step\n",
      "Epoch 28/30\n",
      "373/373 - 2s - loss: 0.0779 - accuracy: 1.6777e-04 - val_loss: 0.0844 - val_accuracy: 0.0000e+00 - 2s/epoch - 6ms/step\n",
      "Epoch 29/30\n",
      "373/373 - 2s - loss: 0.0774 - accuracy: 1.6777e-04 - val_loss: 0.0840 - val_accuracy: 0.0000e+00 - 2s/epoch - 6ms/step\n",
      "Epoch 30/30\n",
      "373/373 - 2s - loss: 0.0770 - accuracy: 1.6777e-04 - val_loss: 0.0842 - val_accuracy: 0.0000e+00 - 2s/epoch - 6ms/step\n",
      "Wall time: 1min 6s\n"
     ]
    }
   ],
   "source": [
    "%%time\n",
    "\n",
    "print('Building Acousticness Model with SGD optimizer..')\n",
    "\n",
    "acousticnessmodelSGD = Sequential()\n",
    "\n",
    "acousticnessmodelSGD.add(Dense(256, input_shape=(max_words,), activation='relu'))\n",
    "\n",
    "acousticnessmodelSGD.add(Dense(256, activation='relu'))\n",
    "\n",
    "acousticnessmodelSGD.add(Dense(1, activation='linear'))\n",
    "\n",
    "acousticnessmodelSGD.compile(loss='mse', optimizer='sgd', metrics=['accuracy'])\n",
    "\n",
    "historyacousticnessSGD = acousticnessmodelSGD.fit(x=X_train_enc.todense(),           \n",
    "    y=y_train_acousticness, epochs=nb_epoch,batch_size=batch_size, verbose=2,\n",
    "    validation_data=(       \n",
    "    X_val_enc.todense(),\n",
    "    y_val_acousticness))\n",
    "\n",
    "acousticness_scores_SGD = acousticnessmodelSGD.evaluate(X_test_enc.todense(),y_test_acousticness, verbose=0)\t"
   ]
  },
  {
   "cell_type": "code",
   "execution_count": 55,
   "id": "c3ef98e7",
   "metadata": {
    "colab": {
     "base_uri": "https://localhost:8080/",
     "height": 791
    },
    "id": "c3ef98e7",
    "outputId": "e0fabcce-7e63-46d7-86d2-381df7b3b38a"
   },
   "outputs": [
    {
     "data": {
      "image/png": "[encoded data removed]",
      "text/plain": [
       "<Figure size 864x432 with 1 Axes>"
      ]
     },
     "metadata": {
      "needs_background": "light"
     },
     "output_type": "display_data"
    },
    {
     "data": {
      "image/png": "[encoded data removed]",
      "text/plain": [
       "<Figure size 864x432 with 1 Axes>"
      ]
     },
     "metadata": {
      "needs_background": "light"
     },
     "output_type": "display_data"
    }
   ],
   "source": [
    "plot_keras_history(historyacousticnessSGD)"
   ]
  },
  {
   "cell_type": "markdown",
   "id": "d47d1596",
   "metadata": {
    "id": "d47d1596"
   },
   "source": [
    "# Liveness Model"
   ]
  },
  {
   "cell_type": "code",
   "execution_count": 56,
   "id": "38de1b6f",
   "metadata": {
    "colab": {
     "base_uri": "https://localhost:8080/"
    },
    "id": "38de1b6f",
    "outputId": "a098ad38-7aca-4b6b-bed8-cc56c4de9a2c"
   },
   "outputs": [
    {
     "name": "stdout",
     "output_type": "stream",
     "text": [
      "Building Liveness Model with Adam Optimizer ..\n",
      "Epoch 1/30\n",
      "373/373 - 3s - loss: 0.0355 - accuracy: 0.0000e+00 - val_loss: 0.0360 - val_accuracy: 0.0000e+00 - 3s/epoch - 9ms/step\n",
      "Epoch 2/30\n",
      "373/373 - 3s - loss: 0.0290 - accuracy: 0.0000e+00 - val_loss: 0.0379 - val_accuracy: 0.0000e+00 - 3s/epoch - 7ms/step\n",
      "Epoch 3/30\n",
      "373/373 - 3s - loss: 0.0176 - accuracy: 0.0000e+00 - val_loss: 0.0396 - val_accuracy: 0.0000e+00 - 3s/epoch - 7ms/step\n",
      "Epoch 4/30\n",
      "373/373 - 3s - loss: 0.0118 - accuracy: 8.3886e-05 - val_loss: 0.0410 - val_accuracy: 0.0000e+00 - 3s/epoch - 7ms/step\n",
      "Epoch 5/30\n",
      "373/373 - 3s - loss: 0.0095 - accuracy: 8.3886e-05 - val_loss: 0.0409 - val_accuracy: 0.0000e+00 - 3s/epoch - 8ms/step\n",
      "Epoch 6/30\n",
      "373/373 - 3s - loss: 0.0083 - accuracy: 8.3886e-05 - val_loss: 0.0411 - val_accuracy: 0.0000e+00 - 3s/epoch - 8ms/step\n",
      "Epoch 7/30\n",
      "373/373 - 3s - loss: 0.0075 - accuracy: 8.3886e-05 - val_loss: 0.0409 - val_accuracy: 0.0000e+00 - 3s/epoch - 7ms/step\n",
      "Epoch 8/30\n",
      "373/373 - 3s - loss: 0.0069 - accuracy: 8.3886e-05 - val_loss: 0.0396 - val_accuracy: 0.0000e+00 - 3s/epoch - 7ms/step\n",
      "Epoch 9/30\n",
      "373/373 - 2s - loss: 0.0067 - accuracy: 8.3886e-05 - val_loss: 0.0413 - val_accuracy: 0.0000e+00 - 2s/epoch - 7ms/step\n",
      "Epoch 10/30\n",
      "373/373 - 2s - loss: 0.0063 - accuracy: 8.3886e-05 - val_loss: 0.0413 - val_accuracy: 0.0000e+00 - 2s/epoch - 7ms/step\n",
      "Epoch 11/30\n",
      "373/373 - 2s - loss: 0.0063 - accuracy: 8.3886e-05 - val_loss: 0.0412 - val_accuracy: 0.0000e+00 - 2s/epoch - 6ms/step\n",
      "Epoch 12/30\n",
      "373/373 - 2s - loss: 0.0061 - accuracy: 8.3886e-05 - val_loss: 0.0411 - val_accuracy: 0.0000e+00 - 2s/epoch - 7ms/step\n",
      "Epoch 13/30\n",
      "373/373 - 2s - loss: 0.0059 - accuracy: 8.3886e-05 - val_loss: 0.0413 - val_accuracy: 0.0000e+00 - 2s/epoch - 6ms/step\n",
      "Epoch 14/30\n",
      "373/373 - 2s - loss: 0.0058 - accuracy: 8.3886e-05 - val_loss: 0.0405 - val_accuracy: 0.0000e+00 - 2s/epoch - 6ms/step\n",
      "Epoch 15/30\n",
      "373/373 - 3s - loss: 0.0058 - accuracy: 8.3886e-05 - val_loss: 0.0411 - val_accuracy: 0.0000e+00 - 3s/epoch - 7ms/step\n",
      "Epoch 16/30\n",
      "373/373 - 2s - loss: 0.0057 - accuracy: 8.3886e-05 - val_loss: 0.0409 - val_accuracy: 0.0000e+00 - 2s/epoch - 7ms/step\n",
      "Epoch 17/30\n",
      "373/373 - 3s - loss: 0.0055 - accuracy: 8.3886e-05 - val_loss: 0.0417 - val_accuracy: 0.0000e+00 - 3s/epoch - 7ms/step\n",
      "Epoch 18/30\n",
      "373/373 - 3s - loss: 0.0054 - accuracy: 8.3886e-05 - val_loss: 0.0411 - val_accuracy: 0.0000e+00 - 3s/epoch - 7ms/step\n",
      "Epoch 19/30\n",
      "373/373 - 3s - loss: 0.0054 - accuracy: 8.3886e-05 - val_loss: 0.0416 - val_accuracy: 0.0000e+00 - 3s/epoch - 8ms/step\n",
      "Epoch 20/30\n",
      "373/373 - 3s - loss: 0.0054 - accuracy: 8.3886e-05 - val_loss: 0.0410 - val_accuracy: 0.0000e+00 - 3s/epoch - 7ms/step\n",
      "Epoch 21/30\n",
      "373/373 - 3s - loss: 0.0053 - accuracy: 8.3886e-05 - val_loss: 0.0413 - val_accuracy: 0.0000e+00 - 3s/epoch - 7ms/step\n",
      "Epoch 22/30\n",
      "373/373 - 2s - loss: 0.0052 - accuracy: 8.3886e-05 - val_loss: 0.0417 - val_accuracy: 0.0000e+00 - 2s/epoch - 7ms/step\n",
      "Epoch 23/30\n",
      "373/373 - 3s - loss: 0.0052 - accuracy: 8.3886e-05 - val_loss: 0.0415 - val_accuracy: 0.0000e+00 - 3s/epoch - 7ms/step\n",
      "Epoch 24/30\n",
      "373/373 - 3s - loss: 0.0053 - accuracy: 8.3886e-05 - val_loss: 0.0412 - val_accuracy: 0.0000e+00 - 3s/epoch - 7ms/step\n",
      "Epoch 25/30\n",
      "373/373 - 3s - loss: 0.0052 - accuracy: 8.3886e-05 - val_loss: 0.0417 - val_accuracy: 0.0000e+00 - 3s/epoch - 8ms/step\n",
      "Epoch 26/30\n",
      "373/373 - 3s - loss: 0.0051 - accuracy: 8.3886e-05 - val_loss: 0.0404 - val_accuracy: 0.0000e+00 - 3s/epoch - 7ms/step\n",
      "Epoch 27/30\n",
      "373/373 - 3s - loss: 0.0050 - accuracy: 8.3886e-05 - val_loss: 0.0416 - val_accuracy: 0.0000e+00 - 3s/epoch - 7ms/step\n",
      "Epoch 28/30\n",
      "373/373 - 2s - loss: 0.0050 - accuracy: 8.3886e-05 - val_loss: 0.0410 - val_accuracy: 0.0000e+00 - 2s/epoch - 7ms/step\n",
      "Epoch 29/30\n",
      "373/373 - 3s - loss: 0.0050 - accuracy: 8.3886e-05 - val_loss: 0.0413 - val_accuracy: 0.0000e+00 - 3s/epoch - 7ms/step\n",
      "Epoch 30/30\n",
      "373/373 - 3s - loss: 0.0049 - accuracy: 8.3886e-05 - val_loss: 0.0411 - val_accuracy: 0.0000e+00 - 3s/epoch - 7ms/step\n",
      "Wall time: 1min 19s\n"
     ]
    }
   ],
   "source": [
    "%%time\n",
    "\n",
    "print('Building Liveness Model with Adam Optimizer ..')\n",
    "\n",
    "livenessmodel = Sequential()\n",
    "\n",
    "livenessmodel.add(Dense(256, input_shape=(max_words,), activation='relu'))\n",
    "\n",
    "livenessmodel.add(Dense(256, activation='relu'))\n",
    "\n",
    "livenessmodel.add(Dense(1, activation='linear'))\n",
    "\n",
    "livenessmodel.compile(loss='mse', optimizer='adam', metrics=['accuracy'])\n",
    "\n",
    "historyliveness = livenessmodel.fit(x=X_train_enc.todense(),           \n",
    "    y=y_train_liveness, epochs=nb_epoch,batch_size=batch_size, verbose=2,\n",
    "    validation_data=(       \n",
    "    X_val_enc.todense(),\n",
    "    y_val_liveness))\n",
    "\n",
    "liveness_scores = livenessmodel.evaluate(X_test_enc.todense(),y_test_liveness, verbose=0)\n"
   ]
  },
  {
   "cell_type": "code",
   "execution_count": 57,
   "id": "1710261e",
   "metadata": {
    "colab": {
     "base_uri": "https://localhost:8080/",
     "height": 791
    },
    "id": "1710261e",
    "outputId": "b8242158-9ba6-4f8a-a3c5-29dea2bb76bb"
   },
   "outputs": [
    {
     "data": {
      "image/png": "[encoded data removed]",
      "text/plain": [
       "<Figure size 864x432 with 1 Axes>"
      ]
     },
     "metadata": {
      "needs_background": "light"
     },
     "output_type": "display_data"
    },
    {
     "data": {
      "image/png": "[encoded data removed]",
      "text/plain": [
       "<Figure size 864x432 with 1 Axes>"
      ]
     },
     "metadata": {
      "needs_background": "light"
     },
     "output_type": "display_data"
    }
   ],
   "source": [
    "plot_keras_history(historyliveness)"
   ]
  },
  {
   "cell_type": "code",
   "execution_count": 58,
   "id": "f67808bf",
   "metadata": {
    "colab": {
     "base_uri": "https://localhost:8080/"
    },
    "id": "f67808bf",
    "outputId": "f906df9c-e018-475c-90f6-3fd33e6e1cc2"
   },
   "outputs": [
    {
     "name": "stdout",
     "output_type": "stream",
     "text": [
      "Building Liveness Model with SGD Optimizer..\n",
      "Epoch 1/30\n",
      "373/373 - 3s - loss: 0.0375 - accuracy: 0.0000e+00 - val_loss: 0.0366 - val_accuracy: 0.0000e+00 - 3s/epoch - 8ms/step\n",
      "Epoch 2/30\n",
      "373/373 - 2s - loss: 0.0360 - accuracy: 0.0000e+00 - val_loss: 0.0365 - val_accuracy: 0.0000e+00 - 2s/epoch - 6ms/step\n",
      "Epoch 3/30\n",
      "373/373 - 2s - loss: 0.0359 - accuracy: 0.0000e+00 - val_loss: 0.0364 - val_accuracy: 0.0000e+00 - 2s/epoch - 6ms/step\n",
      "Epoch 4/30\n",
      "373/373 - 2s - loss: 0.0358 - accuracy: 0.0000e+00 - val_loss: 0.0363 - val_accuracy: 0.0000e+00 - 2s/epoch - 6ms/step\n",
      "Epoch 5/30\n",
      "373/373 - 2s - loss: 0.0356 - accuracy: 0.0000e+00 - val_loss: 0.0362 - val_accuracy: 0.0000e+00 - 2s/epoch - 6ms/step\n",
      "Epoch 6/30\n",
      "373/373 - 2s - loss: 0.0355 - accuracy: 0.0000e+00 - val_loss: 0.0361 - val_accuracy: 0.0000e+00 - 2s/epoch - 6ms/step\n",
      "Epoch 7/30\n",
      "373/373 - 2s - loss: 0.0354 - accuracy: 0.0000e+00 - val_loss: 0.0360 - val_accuracy: 0.0000e+00 - 2s/epoch - 5ms/step\n",
      "Epoch 8/30\n",
      "373/373 - 2s - loss: 0.0353 - accuracy: 0.0000e+00 - val_loss: 0.0360 - val_accuracy: 0.0000e+00 - 2s/epoch - 6ms/step\n",
      "Epoch 9/30\n",
      "373/373 - 2s - loss: 0.0352 - accuracy: 0.0000e+00 - val_loss: 0.0359 - val_accuracy: 0.0000e+00 - 2s/epoch - 6ms/step\n",
      "Epoch 10/30\n",
      "373/373 - 2s - loss: 0.0351 - accuracy: 0.0000e+00 - val_loss: 0.0359 - val_accuracy: 0.0000e+00 - 2s/epoch - 5ms/step\n",
      "Epoch 11/30\n",
      "373/373 - 2s - loss: 0.0350 - accuracy: 0.0000e+00 - val_loss: 0.0358 - val_accuracy: 0.0000e+00 - 2s/epoch - 6ms/step\n",
      "Epoch 12/30\n",
      "373/373 - 2s - loss: 0.0350 - accuracy: 0.0000e+00 - val_loss: 0.0358 - val_accuracy: 0.0000e+00 - 2s/epoch - 6ms/step\n",
      "Epoch 13/30\n",
      "373/373 - 2s - loss: 0.0349 - accuracy: 0.0000e+00 - val_loss: 0.0357 - val_accuracy: 0.0000e+00 - 2s/epoch - 6ms/step\n",
      "Epoch 14/30\n",
      "373/373 - 2s - loss: 0.0348 - accuracy: 0.0000e+00 - val_loss: 0.0356 - val_accuracy: 0.0000e+00 - 2s/epoch - 6ms/step\n",
      "Epoch 15/30\n",
      "373/373 - 2s - loss: 0.0347 - accuracy: 0.0000e+00 - val_loss: 0.0356 - val_accuracy: 0.0000e+00 - 2s/epoch - 6ms/step\n",
      "Epoch 16/30\n",
      "373/373 - 2s - loss: 0.0346 - accuracy: 0.0000e+00 - val_loss: 0.0356 - val_accuracy: 0.0000e+00 - 2s/epoch - 6ms/step\n",
      "Epoch 17/30\n",
      "373/373 - 2s - loss: 0.0346 - accuracy: 0.0000e+00 - val_loss: 0.0356 - val_accuracy: 0.0000e+00 - 2s/epoch - 6ms/step\n",
      "Epoch 18/30\n",
      "373/373 - 2s - loss: 0.0345 - accuracy: 0.0000e+00 - val_loss: 0.0355 - val_accuracy: 0.0000e+00 - 2s/epoch - 6ms/step\n",
      "Epoch 19/30\n",
      "373/373 - 2s - loss: 0.0344 - accuracy: 0.0000e+00 - val_loss: 0.0354 - val_accuracy: 0.0000e+00 - 2s/epoch - 6ms/step\n",
      "Epoch 20/30\n",
      "373/373 - 2s - loss: 0.0344 - accuracy: 0.0000e+00 - val_loss: 0.0354 - val_accuracy: 0.0000e+00 - 2s/epoch - 6ms/step\n",
      "Epoch 21/30\n",
      "373/373 - 2s - loss: 0.0343 - accuracy: 0.0000e+00 - val_loss: 0.0354 - val_accuracy: 0.0000e+00 - 2s/epoch - 6ms/step\n",
      "Epoch 22/30\n",
      "373/373 - 2s - loss: 0.0342 - accuracy: 0.0000e+00 - val_loss: 0.0354 - val_accuracy: 0.0000e+00 - 2s/epoch - 6ms/step\n",
      "Epoch 23/30\n",
      "373/373 - 2s - loss: 0.0342 - accuracy: 0.0000e+00 - val_loss: 0.0354 - val_accuracy: 0.0000e+00 - 2s/epoch - 6ms/step\n",
      "Epoch 24/30\n",
      "373/373 - 2s - loss: 0.0341 - accuracy: 0.0000e+00 - val_loss: 0.0353 - val_accuracy: 0.0000e+00 - 2s/epoch - 6ms/step\n",
      "Epoch 25/30\n",
      "373/373 - 2s - loss: 0.0340 - accuracy: 0.0000e+00 - val_loss: 0.0353 - val_accuracy: 0.0000e+00 - 2s/epoch - 6ms/step\n",
      "Epoch 26/30\n",
      "373/373 - 2s - loss: 0.0340 - accuracy: 0.0000e+00 - val_loss: 0.0353 - val_accuracy: 0.0000e+00 - 2s/epoch - 6ms/step\n",
      "Epoch 27/30\n",
      "373/373 - 2s - loss: 0.0339 - accuracy: 0.0000e+00 - val_loss: 0.0353 - val_accuracy: 0.0000e+00 - 2s/epoch - 6ms/step\n",
      "Epoch 28/30\n",
      "373/373 - 2s - loss: 0.0338 - accuracy: 0.0000e+00 - val_loss: 0.0354 - val_accuracy: 0.0000e+00 - 2s/epoch - 6ms/step\n",
      "Epoch 29/30\n",
      "373/373 - 2s - loss: 0.0338 - accuracy: 0.0000e+00 - val_loss: 0.0353 - val_accuracy: 0.0000e+00 - 2s/epoch - 6ms/step\n",
      "Epoch 30/30\n",
      "373/373 - 2s - loss: 0.0337 - accuracy: 0.0000e+00 - val_loss: 0.0352 - val_accuracy: 0.0000e+00 - 2s/epoch - 6ms/step\n",
      "Wall time: 1min 6s\n"
     ]
    }
   ],
   "source": [
    "%%time\n",
    "\n",
    "print('Building Liveness Model with SGD Optimizer..')\n",
    "\n",
    "livenessmodelSGD = Sequential()\n",
    "\n",
    "livenessmodelSGD.add(Dense(256, input_shape=(max_words,), activation='relu'))\n",
    "\n",
    "livenessmodelSGD.add(Dense(256, activation='relu'))\n",
    "\n",
    "livenessmodelSGD.add(Dense(1, activation='linear'))\n",
    "\n",
    "livenessmodelSGD.compile(loss='mse', optimizer='sgd', metrics=['accuracy'])\n",
    "\n",
    "historylivenessSGD = livenessmodelSGD.fit(x=X_train_enc.todense(),           \n",
    "    y=y_train_liveness, epochs=nb_epoch,batch_size=batch_size, verbose=2,\n",
    "    validation_data=(       \n",
    "    X_val_enc.todense(),\n",
    "    y_val_liveness))\n",
    "\n",
    "liveness_scores_SGD = livenessmodelSGD.evaluate(X_test_enc.todense(),y_test_liveness, verbose=0)\t"
   ]
  },
  {
   "cell_type": "code",
   "execution_count": 59,
   "id": "59c1aab0",
   "metadata": {
    "colab": {
     "base_uri": "https://localhost:8080/",
     "height": 791
    },
    "id": "59c1aab0",
    "outputId": "edf4c316-7cee-4daa-e3e5-7edbf2356f06"
   },
   "outputs": [
    {
     "data": {
      "image/png": "[encoded data removed]",
      "text/plain": [
       "<Figure size 864x432 with 1 Axes>"
      ]
     },
     "metadata": {
      "needs_background": "light"
     },
     "output_type": "display_data"
    },
    {
     "data": {
      "image/png": "[encoded data removed]",
      "text/plain": [
       "<Figure size 864x432 with 1 Axes>"
      ]
     },
     "metadata": {
      "needs_background": "light"
     },
     "output_type": "display_data"
    }
   ],
   "source": [
    "plot_keras_history(historylivenessSGD)"
   ]
  },
  {
   "cell_type": "markdown",
   "id": "gKemNcDdCdPY",
   "metadata": {
    "id": "gKemNcDdCdPY"
   },
   "source": [
    "# Test Predictive Ability"
   ]
  },
  {
   "cell_type": "code",
   "execution_count": 60,
   "id": "eaa1f518",
   "metadata": {},
   "outputs": [],
   "source": [
    "import matplotlib.pyplot as plt"
   ]
  },
  {
   "cell_type": "code",
   "execution_count": 61,
   "id": "0afebec4",
   "metadata": {
    "scrolled": true
   },
   "outputs": [
    {
     "name": "stdout",
     "output_type": "stream",
     "text": [
      "For the Energy Model, with the Adam Optimizer, the Mean Squared Error is:\n",
      "0.0511\n",
      "For the Energy Model, with the SGD Optimizer, the Mean Squared Error is:\n",
      "0.0452\n"
     ]
    }
   ],
   "source": [
    "print('For the Energy Model, with the Adam Optimizer, the Mean Squared Error is:')\n",
    "print(round(energy_scores[0],4))\n",
    "print('For the Energy Model, with the SGD Optimizer, the Mean Squared Error is:')\n",
    "print(round(energy_scores_SGD[0],4))"
   ]
  },
  {
   "cell_type": "code",
   "execution_count": 62,
   "id": "aa504739",
   "metadata": {},
   "outputs": [],
   "source": [
    "energyweights = energymodelSGD.get_weights()\n",
    "energymodelSGD.save_weights('energyweights.h5')"
   ]
  },
  {
   "cell_type": "code",
   "execution_count": 63,
   "id": "1c6b0dab",
   "metadata": {},
   "outputs": [
    {
     "name": "stdout",
     "output_type": "stream",
     "text": [
      "For the Popularity Model, with the Adam Optimizer, the Mean Squared Error is:\n",
      "0.0239\n",
      "For the Popularity Model, with the SGD Optimizer, the Mean Squared Error is:\n",
      "0.0232\n"
     ]
    }
   ],
   "source": [
    "print('For the Popularity Model, with the Adam Optimizer, the Mean Squared Error is:')\n",
    "print(round(popularity_scores[0],4))\n",
    "print('For the Popularity Model, with the SGD Optimizer, the Mean Squared Error is:')\n",
    "print(round(popularity_scores_SGD[0],4))"
   ]
  },
  {
   "cell_type": "code",
   "execution_count": 64,
   "id": "931c002d",
   "metadata": {},
   "outputs": [],
   "source": [
    "popularityweights = popularitymodel.get_weights()\n",
    "popularitymodel.save_weights('popularityweights.h5')"
   ]
  },
  {
   "cell_type": "code",
   "execution_count": 65,
   "id": "1d0897f7",
   "metadata": {},
   "outputs": [
    {
     "name": "stdout",
     "output_type": "stream",
     "text": [
      "For the Danceability Model, with the Adam Optimizer, the Mean Squared Error is:\n",
      "0.0289\n",
      "For the Danceability Model, with the SGD Optimizer, the Mean Squared Error is:\n",
      "0.0265\n"
     ]
    }
   ],
   "source": [
    "print('For the Danceability Model, with the Adam Optimizer, the Mean Squared Error is:')\n",
    "print(round(danceability_scores[0],4))\n",
    "print('For the Danceability Model, with the SGD Optimizer, the Mean Squared Error is:')\n",
    "print(round(danceability_scores_SGD[0],4))"
   ]
  },
  {
   "cell_type": "code",
   "execution_count": 66,
   "id": "27f41f86",
   "metadata": {},
   "outputs": [],
   "source": [
    "danceabilityweights = danceabilitymodelSGD.get_weights()\n",
    "danceabilitymodelSGD.save_weights('danceabilityweights.h5')"
   ]
  },
  {
   "cell_type": "code",
   "execution_count": 67,
   "id": "0b97f5cc",
   "metadata": {},
   "outputs": [
    {
     "name": "stdout",
     "output_type": "stream",
     "text": [
      "For the Valence Model, with the Adam Optimizer, the Mean Squared Error is:\n",
      "0.0608\n",
      "For the Valence Model, with the SGD Optimizer, the Mean Squared Error is:\n",
      "0.0546\n"
     ]
    }
   ],
   "source": [
    "print('For the Valence Model, with the Adam Optimizer, the Mean Squared Error is:')\n",
    "print(round(valence_scores[0],4))\n",
    "print('For the Valence Model, with the SGD Optimizer, the Mean Squared Error is:')\n",
    "print(round(valence_scores_SGD[0],4))"
   ]
  },
  {
   "cell_type": "code",
   "execution_count": 68,
   "id": "d6667dd3",
   "metadata": {},
   "outputs": [],
   "source": [
    "valenceweights = valencemodelSGD.get_weights()\n",
    "valencemodelSGD.save_weights('valenceweights.h5')"
   ]
  },
  {
   "cell_type": "code",
   "execution_count": 69,
   "id": "27c3a50d",
   "metadata": {},
   "outputs": [
    {
     "name": "stdout",
     "output_type": "stream",
     "text": [
      "For the Acousticness Model, with the Adam Optimizer, the Mean Squared Error is:\n",
      "0.0929\n",
      "For the Acousticness Model, with the SGD Optimizer, the Mean Squared Error is:\n",
      "0.0838\n"
     ]
    }
   ],
   "source": [
    "print('For the Acousticness Model, with the Adam Optimizer, the Mean Squared Error is:')\n",
    "print(round(acousticness_scores[0],4))\n",
    "print('For the Acousticness Model, with the SGD Optimizer, the Mean Squared Error is:')\n",
    "print(round(acousticness_scores_SGD[0],4))"
   ]
  },
  {
   "cell_type": "code",
   "execution_count": 70,
   "id": "f7a62695",
   "metadata": {},
   "outputs": [],
   "source": [
    "acousticnessweights = acousticnessmodelSGD.get_weights()\n",
    "acousticnessmodelSGD.save_weights('acousticnessweights.h5')"
   ]
  },
  {
   "cell_type": "code",
   "execution_count": 71,
   "id": "8e22138b",
   "metadata": {},
   "outputs": [
    {
     "name": "stdout",
     "output_type": "stream",
     "text": [
      "For the Liveness Model, with the Adam Optimizer, the Mean Squared Error is:\n",
      "0.0408\n",
      "For the Liveness Model, with the SGD Optimizer, the Mean Squared Error is:\n",
      "0.0349\n"
     ]
    }
   ],
   "source": [
    "print('For the Liveness Model, with the Adam Optimizer, the Mean Squared Error is:')\n",
    "print(round(liveness_scores[0],4))\n",
    "print('For the Liveness Model, with the SGD Optimizer, the Mean Squared Error is:')\n",
    "print(round(liveness_scores_SGD[0],4))"
   ]
  },
  {
   "cell_type": "code",
   "execution_count": 72,
   "id": "56d28e5f",
   "metadata": {},
   "outputs": [],
   "source": [
    "livenessweights = livenessmodelSGD.get_weights()\n",
    "livenessmodelSGD.save_weights('livenessweights.h5')"
   ]
  },
  {
   "cell_type": "code",
   "execution_count": 73,
   "id": "361e2935",
   "metadata": {},
   "outputs": [],
   "source": [
    "df = pd.DataFrame(columns=['Audio Feature','Optimizer','MSE'])\n",
    "\n",
    "df = df.append({'Audio Feature': 'Energy', 'Optimizer': 'Adam', 'MSE': round(energy_scores[0],4)},ignore_index = True)\n",
    "df = df.append({'Audio Feature': 'Energy', 'Optimizer': 'SGD', 'MSE': round(energy_scores_SGD[0],4)},ignore_index = True)\n",
    "\n",
    "df = df.append({'Audio Feature': 'Popularity', 'Optimizer': 'Adam', 'MSE': round(popularity_scores[0],4)},ignore_index = True)\n",
    "df = df.append({'Audio Feature': 'Popularity', 'Optimizer': 'SGD', 'MSE': round(popularity_scores_SGD[0],4)},ignore_index = True)\n",
    "\n",
    "df = df.append({'Audio Feature': 'Danceability', 'Optimizer': 'Adam', 'MSE': round(danceability_scores[0],4)},ignore_index = True)\n",
    "df = df.append({'Audio Feature': 'Danceability', 'Optimizer': 'SGD', 'MSE': round(danceability_scores_SGD[0],4)},ignore_index = True)\n",
    "\n",
    "df = df.append({'Audio Feature': 'Valence', 'Optimizer': 'Adam', 'MSE': round(valence_scores[0],4)},ignore_index = True)\n",
    "df = df.append({'Audio Feature': 'Valence', 'Optimizer': 'SGD', 'MSE': round(valence_scores_SGD[0],4)},ignore_index = True)\n",
    "\n",
    "df = df.append({'Audio Feature': 'Acousticness', 'Optimizer': 'Adam', 'MSE': round(acousticness_scores[0],4)},ignore_index = True)\n",
    "df = df.append({'Audio Feature': 'Acousticness', 'Optimizer': 'SGD', 'MSE': round(acousticness_scores_SGD[0],4)},ignore_index = True)\n",
    "\n",
    "df = df.append({'Audio Feature': 'Liveness', 'Optimizer': 'Adam', 'MSE': round(liveness_scores[0],4)},ignore_index = True)\n",
    "df = df.append({'Audio Feature': 'Liveness', 'Optimizer': 'SGD', 'MSE': round(liveness_scores_SGD[0],4)},ignore_index = True)"
   ]
  },
  {
   "cell_type": "code",
   "execution_count": 74,
   "id": "64f752eb",
   "metadata": {},
   "outputs": [],
   "source": [
    "df['Audio Feature'] = df['Audio Feature'].astype('category')\n",
    "df['Optimizer'] = df['Optimizer'].astype('category')"
   ]
  },
  {
   "cell_type": "code",
   "execution_count": 75,
   "id": "b085418c",
   "metadata": {},
   "outputs": [],
   "source": [
    "dfen = df[df['Audio Feature']=='Energy']\n",
    "dfpop = df[df['Audio Feature']=='Popularity']\n",
    "dfdnc = df[df['Audio Feature']=='Danceability']\n",
    "dfval = df[df['Audio Feature']=='Valence']\n",
    "dfac = df[df['Audio Feature']=='Acousticness']\n",
    "dfliv = df[df['Audio Feature']=='Liveness']"
   ]
  },
  {
   "cell_type": "code",
   "execution_count": 77,
   "id": "02c90a67",
   "metadata": {},
   "outputs": [],
   "source": [
    "import seaborn as sns"
   ]
  },
  {
   "cell_type": "code",
   "execution_count": 78,
   "id": "da0b2235",
   "metadata": {},
   "outputs": [
    {
     "data": {
      "text/plain": [
       "Text(0.5, 1.0, 'Liveness Plot')"
      ]
     },
     "execution_count": 78,
     "metadata": {},
     "output_type": "execute_result"
    },
    {
     "data": {
      "image/png": "[encoded data removed]",
      "text/plain": [
       "<Figure size 1080x720 with 6 Axes>"
      ]
     },
     "metadata": {
      "needs_background": "light"
     },
     "output_type": "display_data"
    }
   ],
   "source": [
    "fig, axes = plt.subplots(2, 3, figsize=(15, 10), sharey=True)\n",
    "fig.suptitle('Mse per Optimizer per Audio Feature')\n",
    "sns.barplot(ax=axes[0,0],x=dfen['Optimizer'], y=dfen['MSE'], data=dfen, ci=0)\n",
    "axes[0,0].set_title('Energy Plot')\n",
    "sns.barplot(ax=axes[0,1],x=dfpop['Optimizer'], y=dfpop['MSE'], data=dfpop, ci=0)\n",
    "axes[0,1].set_title('Popularity Plot')\n",
    "sns.barplot(ax=axes[0,2],x=dfdnc['Optimizer'], y=dfdnc['MSE'], data=dfdnc, ci=0)\n",
    "axes[0,2].set_title('Danceability Plot')\n",
    "sns.barplot(ax=axes[1,0],x=dfval['Optimizer'], y=dfval['MSE'], data=dfval, ci=0)\n",
    "axes[1,0].set_title('Valence Plot')\n",
    "sns.barplot(ax=axes[1,1],x=dfac['Optimizer'], y=dfac['MSE'], data=dfac, ci=0)\n",
    "axes[1,1].set_title('Acousticness Plot')\n",
    "sns.barplot(ax=axes[1,2],x=dfliv['Optimizer'], y=dfliv['MSE'], data=dfliv, ci=0)\n",
    "axes[1,2].set_title('Liveness Plot')\n",
    "\n",
    "\n"
   ]
  },
  {
   "cell_type": "markdown",
   "id": "cea6c6af",
   "metadata": {
    "id": "cea6c6af"
   },
   "source": [
    "# Predict"
   ]
  },
  {
   "cell_type": "code",
   "execution_count": 79,
   "id": "Jh1rYSAcG6D5",
   "metadata": {
    "colab": {
     "base_uri": "https://localhost:8080/"
    },
    "id": "Jh1rYSAcG6D5",
    "outputId": "cb7ad4a5-18c4-4cc2-be00-00d6d547a8e2"
   },
   "outputs": [],
   "source": [
    "pool['comp'] = pool.iloc[:,4:10].values.tolist()"
   ]
  },
  {
   "cell_type": "code",
   "execution_count": 80,
   "id": "fca23842",
   "metadata": {
    "colab": {
     "base_uri": "https://localhost:8080/"
    },
    "id": "fca23842",
    "outputId": "1314cf38-02bf-4722-d639-47cfa653e63f"
   },
   "outputs": [
    {
     "name": "stdout",
     "output_type": "stream",
     "text": [
      "Input sentence\n",
      "----------------------------------------\n",
      "ADASDASA\n",
      "****************************************\n",
      "1/1 [==============================] - 0s 87ms/step\n",
      "1/1 [==============================] - 0s 66ms/step\n",
      "1/1 [==============================] - 0s 67ms/step\n",
      "1/1 [==============================] - 0s 49ms/step\n",
      "WARNING:tensorflow:5 out of the last 5 calls to <function Model.make_predict_function.<locals>.predict_function at 0x000001DFA3F10280> triggered tf.function retracing. Tracing is expensive and the excessive number of tracings could be due to (1) creating @tf.function repeatedly in a loop, (2) passing tensors with different shapes, (3) passing Python objects instead of tensors. For (1), please define your @tf.function outside of the loop. For (2), @tf.function has reduce_retracing=True option that can avoid unnecessary retracing. For (3), please refer to https://www.tensorflow.org/guide/function#controlling_retracing and https://www.tensorflow.org/api_docs/python/tf/function for  more details.\n",
      "1/1 [==============================] - 0s 46ms/step\n",
      "WARNING:tensorflow:6 out of the last 6 calls to <function Model.make_predict_function.<locals>.predict_function at 0x000001DFA3F10430> triggered tf.function retracing. Tracing is expensive and the excessive number of tracings could be due to (1) creating @tf.function repeatedly in a loop, (2) passing tensors with different shapes, (3) passing Python objects instead of tensors. For (1), please define your @tf.function outside of the loop. For (2), @tf.function has reduce_retracing=True option that can avoid unnecessary retracing. For (3), please refer to https://www.tensorflow.org/guide/function#controlling_retracing and https://www.tensorflow.org/api_docs/python/tf/function for  more details.\n",
      "1/1 [==============================] - 0s 54ms/step\n",
      "Energy Predicted:\n",
      "0.64802766\n",
      "Popularity Predicted:\n",
      "0.49386036\n",
      "Danceability Predicted:\n",
      "0.55005795\n",
      "Valence Predicted:\n",
      "0.45519486\n",
      "Acousticness Predicted:\n",
      "0.2401977\n",
      "Liveness Predicted:\n",
      "0.1797706\n"
     ]
    }
   ],
   "source": [
    "print('Input sentence')\n",
    "print(40*'-')\n",
    "input_text = input()\n",
    "print(40*'*')\n",
    "\n",
    "text_vectorized = vectorizer.transform([input_text])\n",
    "\n",
    "energypred = energymodelSGD.predict(text_vectorized.todense())\n",
    "popularitypred = popularitymodelSGD.predict(text_vectorized.todense())\n",
    "danceabilitypred = danceabilitymodelSGD.predict(text_vectorized.todense())\n",
    "valencepred = valencemodelSGD.predict(text_vectorized.todense())\n",
    "acousticnesspred = acousticnessmodelSGD.predict(text_vectorized.todense())\n",
    "livenesspred = livenessmodelSGD.predict(text_vectorized.todense())\n",
    "\n",
    "\n",
    "print('Energy Predicted:', end='\\n')\n",
    "print(energypred[0][0])\n",
    "\n",
    "print('Popularity Predicted:', end='\\n')\n",
    "print(popularitypred[0][0])\n",
    "\n",
    "print('Danceability Predicted:', end='\\n')\n",
    "print(danceabilitypred[0][0])\n",
    "\n",
    "print('Valence Predicted:', end='\\n')\n",
    "print(valencepred[0][0])\n",
    "\n",
    "print('Acousticness Predicted:', end='\\n')\n",
    "print(acousticnesspred[0][0])\n",
    "\n",
    "print('Liveness Predicted:', end='\\n')\n",
    "print(livenesspred[0][0])\n",
    "\n",
    "comparelist = [energypred[0][0],popularitypred[0][0],danceabilitypred[0][0],valencepred[0][0],acousticnesspred[0][0],livenesspred[0][0]]"
   ]
  },
  {
   "cell_type": "code",
   "execution_count": 81,
   "id": "43fead0c",
   "metadata": {
    "id": "43fead0c"
   },
   "outputs": [],
   "source": [
    "from scipy import spatial\n",
    "\n",
    "data=pool.copy()\n",
    "data=data[data['popularity']>0.60]\n",
    "s=data['comp'].apply(lambda x: spatial.distance.euclidean(x, comparelist) )\n",
    "data=data.assign(similarity=s)\n",
    "data = data[data['similarity']<.5]\n",
    "\n",
    "data['met']=data['similarity'].apply(lambda x: x*0.8)-(data['popularity']*0.9)\n",
    "\n",
    "final = data.sort_values('met',ascending=True)"
   ]
  },
  {
   "cell_type": "code",
   "execution_count": 82,
   "id": "793f37a7",
   "metadata": {
    "scrolled": false
   },
   "outputs": [
    {
     "data": {
      "text/html": [
       "<div>\n",
       "<style scoped>\n",
       "    .dataframe tbody tr th:only-of-type {\n",
       "        vertical-align: middle;\n",
       "    }\n",
       "\n",
       "    .dataframe tbody tr th {\n",
       "        vertical-align: top;\n",
       "    }\n",
       "\n",
       "    .dataframe thead th {\n",
       "        text-align: right;\n",
       "    }\n",
       "</style>\n",
       "<table border=\"1\" class=\"dataframe\">\n",
       "  <thead>\n",
       "    <tr style=\"text-align: right;\">\n",
       "      <th></th>\n",
       "      <th>release_date</th>\n",
       "      <th>id</th>\n",
       "      <th>name</th>\n",
       "      <th>artists</th>\n",
       "      <th>energy</th>\n",
       "      <th>popularity</th>\n",
       "      <th>danceability</th>\n",
       "      <th>valence</th>\n",
       "      <th>acousticness</th>\n",
       "      <th>liveness</th>\n",
       "      <th>comp</th>\n",
       "      <th>Y</th>\n",
       "      <th>similarity</th>\n",
       "      <th>met</th>\n",
       "    </tr>\n",
       "  </thead>\n",
       "  <tbody>\n",
       "    <tr>\n",
       "      <th>93978</th>\n",
       "      <td>2021-01-29</td>\n",
       "      <td>6u3CPnFMKANYgfdiifFOiJ</td>\n",
       "      <td>Gravity (feat. Tyler, The Creator)</td>\n",
       "      <td>Brent Faiyaz, DJ Dahi, Tyler, The Creator</td>\n",
       "      <td>0.615</td>\n",
       "      <td>0.81</td>\n",
       "      <td>0.543895</td>\n",
       "      <td>0.493</td>\n",
       "      <td>0.173695</td>\n",
       "      <td>0.1440</td>\n",
       "      <td>[0.615, 0.81, 0.5438950554994955, 0.493, 0.173...</td>\n",
       "      <td>2021</td>\n",
       "      <td>0.328944</td>\n",
       "      <td>-0.465844</td>\n",
       "    </tr>\n",
       "    <tr>\n",
       "      <th>94024</th>\n",
       "      <td>2021-03-10</td>\n",
       "      <td>45kgqMRkC29qjBlzeaJcad</td>\n",
       "      <td>Street Runner</td>\n",
       "      <td>Rod Wave</td>\n",
       "      <td>0.610</td>\n",
       "      <td>0.80</td>\n",
       "      <td>0.618567</td>\n",
       "      <td>0.433</td>\n",
       "      <td>0.211847</td>\n",
       "      <td>0.1520</td>\n",
       "      <td>[0.61, 0.8, 0.6185671039354187, 0.433, 0.21184...</td>\n",
       "      <td>2021</td>\n",
       "      <td>0.319263</td>\n",
       "      <td>-0.464590</td>\n",
       "    </tr>\n",
       "    <tr>\n",
       "      <th>93141</th>\n",
       "      <td>2020-10-23</td>\n",
       "      <td>6IBcOGPsniK3Pso1wHIhew</td>\n",
       "      <td>Forever After All</td>\n",
       "      <td>Luke Combs</td>\n",
       "      <td>0.650</td>\n",
       "      <td>0.82</td>\n",
       "      <td>0.491423</td>\n",
       "      <td>0.456</td>\n",
       "      <td>0.191767</td>\n",
       "      <td>0.0933</td>\n",
       "      <td>[0.65, 0.8200000000000001, 0.491422805247225, ...</td>\n",
       "      <td>2020</td>\n",
       "      <td>0.345879</td>\n",
       "      <td>-0.461297</td>\n",
       "    </tr>\n",
       "    <tr>\n",
       "      <th>86018</th>\n",
       "      <td>2013-09-09</td>\n",
       "      <td>5FVd6KXrgO9B3JPmC8OPst</td>\n",
       "      <td>Do I Wanna Know?</td>\n",
       "      <td>Arctic Monkeys</td>\n",
       "      <td>0.532</td>\n",
       "      <td>0.87</td>\n",
       "      <td>0.552977</td>\n",
       "      <td>0.405</td>\n",
       "      <td>0.186747</td>\n",
       "      <td>0.2170</td>\n",
       "      <td>[0.532, 0.87, 0.5529767911200808, 0.405, 0.186...</td>\n",
       "      <td>2013</td>\n",
       "      <td>0.402137</td>\n",
       "      <td>-0.461290</td>\n",
       "    </tr>\n",
       "    <tr>\n",
       "      <th>93888</th>\n",
       "      <td>2021-03-26</td>\n",
       "      <td>2FSGUA0gFgGeQdprjtGM2M</td>\n",
       "      <td>EL MAKINON</td>\n",
       "      <td>KAROL G, Mariah Angeliq</td>\n",
       "      <td>0.706</td>\n",
       "      <td>0.84</td>\n",
       "      <td>0.640767</td>\n",
       "      <td>0.443</td>\n",
       "      <td>0.257028</td>\n",
       "      <td>0.1080</td>\n",
       "      <td>[0.706, 0.84, 0.6407669021190716, 0.443, 0.257...</td>\n",
       "      <td>2021</td>\n",
       "      <td>0.370114</td>\n",
       "      <td>-0.459909</td>\n",
       "    </tr>\n",
       "    <tr>\n",
       "      <th>85063</th>\n",
       "      <td>2012-09-04</td>\n",
       "      <td>5qaEfEh1AtSdrdrByCP7qR</td>\n",
       "      <td>Demons</td>\n",
       "      <td>Imagine Dragons</td>\n",
       "      <td>0.710</td>\n",
       "      <td>0.82</td>\n",
       "      <td>0.509586</td>\n",
       "      <td>0.428</td>\n",
       "      <td>0.190763</td>\n",
       "      <td>0.2690</td>\n",
       "      <td>[0.71, 0.8200000000000001, 0.5095862764883955,...</td>\n",
       "      <td>2012</td>\n",
       "      <td>0.350700</td>\n",
       "      <td>-0.457440</td>\n",
       "    </tr>\n",
       "    <tr>\n",
       "      <th>92451</th>\n",
       "      <td>2019-09-06</td>\n",
       "      <td>2C6WXnmZ66tHhHlnvwePiK</td>\n",
       "      <td>Die For Me (feat. Future &amp; Halsey)</td>\n",
       "      <td>Post Malone, Halsey, Future</td>\n",
       "      <td>0.660</td>\n",
       "      <td>0.75</td>\n",
       "      <td>0.619576</td>\n",
       "      <td>0.452</td>\n",
       "      <td>0.190763</td>\n",
       "      <td>0.2110</td>\n",
       "      <td>[0.66, 0.75, 0.6195761856710393, 0.452, 0.1907...</td>\n",
       "      <td>2019</td>\n",
       "      <td>0.272053</td>\n",
       "      <td>-0.457358</td>\n",
       "    </tr>\n",
       "    <tr>\n",
       "      <th>92043</th>\n",
       "      <td>2019-12-27</td>\n",
       "      <td>40mjsnRjCpycdUw3xhS20g</td>\n",
       "      <td>GATTI</td>\n",
       "      <td>JACKBOYS, Pop Smoke, Travis Scott</td>\n",
       "      <td>0.676</td>\n",
       "      <td>0.80</td>\n",
       "      <td>0.599395</td>\n",
       "      <td>0.472</td>\n",
       "      <td>0.135542</td>\n",
       "      <td>0.1630</td>\n",
       "      <td>[0.676, 0.8, 0.5993945509586276, 0.472, 0.1355...</td>\n",
       "      <td>2019</td>\n",
       "      <td>0.329324</td>\n",
       "      <td>-0.456541</td>\n",
       "    </tr>\n",
       "    <tr>\n",
       "      <th>158717</th>\n",
       "      <td>2020-12-15</td>\n",
       "      <td>4hnwfhQbZKaNpC1q9zgB4A</td>\n",
       "      <td>Extasy</td>\n",
       "      <td>Myke Towers</td>\n",
       "      <td>0.667</td>\n",
       "      <td>0.73</td>\n",
       "      <td>0.531786</td>\n",
       "      <td>0.463</td>\n",
       "      <td>0.288153</td>\n",
       "      <td>0.1130</td>\n",
       "      <td>[0.667, 0.73, 0.5317860746720484, 0.463, 0.288...</td>\n",
       "      <td>2020</td>\n",
       "      <td>0.251545</td>\n",
       "      <td>-0.455764</td>\n",
       "    </tr>\n",
       "    <tr>\n",
       "      <th>74448</th>\n",
       "      <td>2001-03-27</td>\n",
       "      <td>2hKdd3qO7cWr2Jo0Bcs0MA</td>\n",
       "      <td>Drops of Jupiter (Tell Me)</td>\n",
       "      <td>Train</td>\n",
       "      <td>0.638</td>\n",
       "      <td>0.79</td>\n",
       "      <td>0.485368</td>\n",
       "      <td>0.497</td>\n",
       "      <td>0.153614</td>\n",
       "      <td>0.1540</td>\n",
       "      <td>[0.638, 0.79, 0.48536831483350146, 0.497, 0.15...</td>\n",
       "      <td>2001</td>\n",
       "      <td>0.319206</td>\n",
       "      <td>-0.455635</td>\n",
       "    </tr>\n",
       "    <tr>\n",
       "      <th>468699</th>\n",
       "      <td>2021-03-26</td>\n",
       "      <td>3JYxIozjRsvEmHrIvfFhud</td>\n",
       "      <td>Street Runner</td>\n",
       "      <td>Rod Wave</td>\n",
       "      <td>0.610</td>\n",
       "      <td>0.73</td>\n",
       "      <td>0.618567</td>\n",
       "      <td>0.433</td>\n",
       "      <td>0.211847</td>\n",
       "      <td>0.1520</td>\n",
       "      <td>[0.61, 0.73, 0.6185671039354187, 0.433, 0.2118...</td>\n",
       "      <td>2021</td>\n",
       "      <td>0.252921</td>\n",
       "      <td>-0.454663</td>\n",
       "    </tr>\n",
       "    <tr>\n",
       "      <th>88948</th>\n",
       "      <td>2016-04-08</td>\n",
       "      <td>5NvOZCjZaGGGL597exlQWv</td>\n",
       "      <td>Line Without a Hook</td>\n",
       "      <td>Ricky Montgomery</td>\n",
       "      <td>0.652</td>\n",
       "      <td>0.84</td>\n",
       "      <td>0.435923</td>\n",
       "      <td>0.507</td>\n",
       "      <td>0.263052</td>\n",
       "      <td>0.2580</td>\n",
       "      <td>[0.652, 0.84, 0.4359233097880928, 0.507, 0.263...</td>\n",
       "      <td>2016</td>\n",
       "      <td>0.377069</td>\n",
       "      <td>-0.454345</td>\n",
       "    </tr>\n",
       "    <tr>\n",
       "      <th>65438</th>\n",
       "      <td>1992-01-01</td>\n",
       "      <td>0jWgAnTrNZmOGmqgvHhZEm</td>\n",
       "      <td>What's Up?</td>\n",
       "      <td>4 Non Blondes</td>\n",
       "      <td>0.564</td>\n",
       "      <td>0.81</td>\n",
       "      <td>0.570131</td>\n",
       "      <td>0.454</td>\n",
       "      <td>0.161647</td>\n",
       "      <td>0.1140</td>\n",
       "      <td>[0.564, 0.81, 0.5701311806256306, 0.454, 0.161...</td>\n",
       "      <td>1992</td>\n",
       "      <td>0.343373</td>\n",
       "      <td>-0.454301</td>\n",
       "    </tr>\n",
       "    <tr>\n",
       "      <th>91904</th>\n",
       "      <td>2019-10-04</td>\n",
       "      <td>2wrJq5XKLnmhRXHIAf9xBa</td>\n",
       "      <td>10,000 Hours (with Justin Bieber)</td>\n",
       "      <td>Dan + Shay, Justin Bieber</td>\n",
       "      <td>0.630</td>\n",
       "      <td>0.85</td>\n",
       "      <td>0.659939</td>\n",
       "      <td>0.430</td>\n",
       "      <td>0.153614</td>\n",
       "      <td>0.1110</td>\n",
       "      <td>[0.63, 0.85, 0.6599394550958627, 0.43, 0.15361...</td>\n",
       "      <td>2019</td>\n",
       "      <td>0.389994</td>\n",
       "      <td>-0.453005</td>\n",
       "    </tr>\n",
       "    <tr>\n",
       "      <th>93839</th>\n",
       "      <td>2021-04-09</td>\n",
       "      <td>7eResoqEJJAVTkQYSqvO3P</td>\n",
       "      <td>That’s When (feat. Keith Urban) (Taylor’s Vers...</td>\n",
       "      <td>Taylor Swift, Keith Urban</td>\n",
       "      <td>0.608</td>\n",
       "      <td>0.77</td>\n",
       "      <td>0.593340</td>\n",
       "      <td>0.508</td>\n",
       "      <td>0.225904</td>\n",
       "      <td>0.0920</td>\n",
       "      <td>[0.608, 0.77, 0.5933400605449041, 0.508, 0.225...</td>\n",
       "      <td>2021</td>\n",
       "      <td>0.300708</td>\n",
       "      <td>-0.452434</td>\n",
       "    </tr>\n",
       "    <tr>\n",
       "      <th>75441</th>\n",
       "      <td>2002-01-01</td>\n",
       "      <td>4llK75pXNWZz6KAho2Gp16</td>\n",
       "      <td>She Will Be Loved - Radio Mix</td>\n",
       "      <td>Maroon 5</td>\n",
       "      <td>0.663</td>\n",
       "      <td>0.80</td>\n",
       "      <td>0.656912</td>\n",
       "      <td>0.465</td>\n",
       "      <td>0.228916</td>\n",
       "      <td>0.0994</td>\n",
       "      <td>[0.663, 0.8, 0.656912209889001, 0.465, 0.22891...</td>\n",
       "      <td>2002</td>\n",
       "      <td>0.334733</td>\n",
       "      <td>-0.452213</td>\n",
       "    </tr>\n",
       "    <tr>\n",
       "      <th>400215</th>\n",
       "      <td>2021-02-17</td>\n",
       "      <td>32SclbEhaMKvlMbncpy8W2</td>\n",
       "      <td>tutta la notte</td>\n",
       "      <td>sangiovanni</td>\n",
       "      <td>0.668</td>\n",
       "      <td>0.74</td>\n",
       "      <td>0.610494</td>\n",
       "      <td>0.442</td>\n",
       "      <td>0.213855</td>\n",
       "      <td>0.1010</td>\n",
       "      <td>[0.668, 0.74, 0.610494450050454, 0.442, 0.2138...</td>\n",
       "      <td>2021</td>\n",
       "      <td>0.267785</td>\n",
       "      <td>-0.451772</td>\n",
       "    </tr>\n",
       "    <tr>\n",
       "      <th>89930</th>\n",
       "      <td>2017-10-06</td>\n",
       "      <td>52okn5MNA47tk87PeZJLEL</td>\n",
       "      <td>Let You Down</td>\n",
       "      <td>NF</td>\n",
       "      <td>0.714</td>\n",
       "      <td>0.83</td>\n",
       "      <td>0.668012</td>\n",
       "      <td>0.464</td>\n",
       "      <td>0.313253</td>\n",
       "      <td>0.1790</td>\n",
       "      <td>[0.714, 0.8300000000000001, 0.6680121089808274...</td>\n",
       "      <td>2017</td>\n",
       "      <td>0.369690</td>\n",
       "      <td>-0.451248</td>\n",
       "    </tr>\n",
       "    <tr>\n",
       "      <th>94139</th>\n",
       "      <td>2021-02-05</td>\n",
       "      <td>6m187iACTSAZDYMaV0klqj</td>\n",
       "      <td>Freio da Blazer</td>\n",
       "      <td>L7NNON</td>\n",
       "      <td>0.630</td>\n",
       "      <td>0.78</td>\n",
       "      <td>0.519677</td>\n",
       "      <td>0.367</td>\n",
       "      <td>0.275100</td>\n",
       "      <td>0.1000</td>\n",
       "      <td>[0.63, 0.78, 0.5196770938446014, 0.367, 0.2751...</td>\n",
       "      <td>2021</td>\n",
       "      <td>0.313821</td>\n",
       "      <td>-0.450943</td>\n",
       "    </tr>\n",
       "    <tr>\n",
       "      <th>112914</th>\n",
       "      <td>2012-12-07</td>\n",
       "      <td>3UN6cIn3VIyg0z1LCuFSum</td>\n",
       "      <td>Without You (feat. Usher)</td>\n",
       "      <td>David Guetta, Usher</td>\n",
       "      <td>0.614</td>\n",
       "      <td>0.71</td>\n",
       "      <td>0.613522</td>\n",
       "      <td>0.402</td>\n",
       "      <td>0.227912</td>\n",
       "      <td>0.1570</td>\n",
       "      <td>[0.614, 0.71, 0.6135216952573158, 0.402, 0.227...</td>\n",
       "      <td>2012</td>\n",
       "      <td>0.235374</td>\n",
       "      <td>-0.450701</td>\n",
       "    </tr>\n",
       "    <tr>\n",
       "      <th>92829</th>\n",
       "      <td>2020-10-30</td>\n",
       "      <td>6ft4hAq6yde8jPZY2i5zLr</td>\n",
       "      <td>Paradise (feat. Dermot Kennedy)</td>\n",
       "      <td>MEDUZA, Dermot Kennedy</td>\n",
       "      <td>0.595</td>\n",
       "      <td>0.92</td>\n",
       "      <td>0.637740</td>\n",
       "      <td>0.435</td>\n",
       "      <td>0.069177</td>\n",
       "      <td>0.2090</td>\n",
       "      <td>[0.595, 0.92, 0.6377396569122099, 0.435, 0.069...</td>\n",
       "      <td>2020</td>\n",
       "      <td>0.471811</td>\n",
       "      <td>-0.450551</td>\n",
       "    </tr>\n",
       "    <tr>\n",
       "      <th>585032</th>\n",
       "      <td>2020-01-24</td>\n",
       "      <td>3o1CUVeHIid49sabk6A6Nf</td>\n",
       "      <td>Forever Yours - Avicii Tribute</td>\n",
       "      <td>Kygo, Avicii, Sandro Cavazza</td>\n",
       "      <td>0.612</td>\n",
       "      <td>0.68</td>\n",
       "      <td>0.533804</td>\n",
       "      <td>0.434</td>\n",
       "      <td>0.254016</td>\n",
       "      <td>0.2460</td>\n",
       "      <td>[0.612, 0.68, 0.5338042381432896, 0.434, 0.254...</td>\n",
       "      <td>2020</td>\n",
       "      <td>0.203068</td>\n",
       "      <td>-0.449546</td>\n",
       "    </tr>\n",
       "    <tr>\n",
       "      <th>90465</th>\n",
       "      <td>2017-11-17</td>\n",
       "      <td>5AnSllIrgGsCZzZJkVnApx</td>\n",
       "      <td>Eyes On You</td>\n",
       "      <td>Chase Rice</td>\n",
       "      <td>0.652</td>\n",
       "      <td>0.73</td>\n",
       "      <td>0.611504</td>\n",
       "      <td>0.476</td>\n",
       "      <td>0.324297</td>\n",
       "      <td>0.2010</td>\n",
       "      <td>[0.652, 0.73, 0.6115035317860746, 0.476, 0.324...</td>\n",
       "      <td>2017</td>\n",
       "      <td>0.259826</td>\n",
       "      <td>-0.449139</td>\n",
       "    </tr>\n",
       "    <tr>\n",
       "      <th>78409</th>\n",
       "      <td>2005-10-24</td>\n",
       "      <td>0HBrtXJohbIW4IhPZ50GmH</td>\n",
       "      <td>The Bidding</td>\n",
       "      <td>Tally Hall</td>\n",
       "      <td>0.607</td>\n",
       "      <td>0.73</td>\n",
       "      <td>0.542886</td>\n",
       "      <td>0.515</td>\n",
       "      <td>0.248996</td>\n",
       "      <td>0.0999</td>\n",
       "      <td>[0.607, 0.73, 0.5428859737638749, 0.515, 0.248...</td>\n",
       "      <td>2005</td>\n",
       "      <td>0.259865</td>\n",
       "      <td>-0.449108</td>\n",
       "    </tr>\n",
       "    <tr>\n",
       "      <th>90475</th>\n",
       "      <td>2017-03-18</td>\n",
       "      <td>2KvHC9z14GSl4YpkNMX384</td>\n",
       "      <td>Do Not Disturb</td>\n",
       "      <td>Drake</td>\n",
       "      <td>0.693</td>\n",
       "      <td>0.73</td>\n",
       "      <td>0.623613</td>\n",
       "      <td>0.454</td>\n",
       "      <td>0.246988</td>\n",
       "      <td>0.1120</td>\n",
       "      <td>[0.693, 0.73, 0.6236125126135217, 0.454, 0.246...</td>\n",
       "      <td>2017</td>\n",
       "      <td>0.260452</td>\n",
       "      <td>-0.448639</td>\n",
       "    </tr>\n",
       "    <tr>\n",
       "      <th>91176</th>\n",
       "      <td>2018-12-14</td>\n",
       "      <td>0lks2Kt9veMOFEAPN0fsqN</td>\n",
       "      <td>Lily</td>\n",
       "      <td>Alan Walker, K-391, Emelie Hollow</td>\n",
       "      <td>0.634</td>\n",
       "      <td>0.77</td>\n",
       "      <td>0.426842</td>\n",
       "      <td>0.467</td>\n",
       "      <td>0.196787</td>\n",
       "      <td>0.1890</td>\n",
       "      <td>[0.634, 0.77, 0.42684157416750756, 0.467, 0.19...</td>\n",
       "      <td>2018</td>\n",
       "      <td>0.306172</td>\n",
       "      <td>-0.448063</td>\n",
       "    </tr>\n",
       "    <tr>\n",
       "      <th>93760</th>\n",
       "      <td>2020-01-10</td>\n",
       "      <td>61ZM92T2zaXIVsqncThQzC</td>\n",
       "      <td>In Your Eyes (feat. Alida)</td>\n",
       "      <td>Robin Schulz, Alida</td>\n",
       "      <td>0.672</td>\n",
       "      <td>0.76</td>\n",
       "      <td>0.575177</td>\n",
       "      <td>0.461</td>\n",
       "      <td>0.172691</td>\n",
       "      <td>0.0768</td>\n",
       "      <td>[0.672, 0.76, 0.5751765893037335, 0.461, 0.172...</td>\n",
       "      <td>2020</td>\n",
       "      <td>0.295347</td>\n",
       "      <td>-0.447723</td>\n",
       "    </tr>\n",
       "    <tr>\n",
       "      <th>94002</th>\n",
       "      <td>2021-02-05</td>\n",
       "      <td>4Agtk2MrapdZAVN7v6PuFO</td>\n",
       "      <td>Roadtrip</td>\n",
       "      <td>Dream, PmBata</td>\n",
       "      <td>0.581</td>\n",
       "      <td>0.80</td>\n",
       "      <td>0.463169</td>\n",
       "      <td>0.490</td>\n",
       "      <td>0.317269</td>\n",
       "      <td>0.1240</td>\n",
       "      <td>[0.581, 0.8, 0.46316851664984865, 0.49, 0.3172...</td>\n",
       "      <td>2021</td>\n",
       "      <td>0.340625</td>\n",
       "      <td>-0.447500</td>\n",
       "    </tr>\n",
       "    <tr>\n",
       "      <th>88083</th>\n",
       "      <td>2015-07-09</td>\n",
       "      <td>4B2kkxg3wKSTZw5JPaUtzQ</td>\n",
       "      <td>On &amp; On</td>\n",
       "      <td>Cartoon, Daniel Levi</td>\n",
       "      <td>0.696</td>\n",
       "      <td>0.76</td>\n",
       "      <td>0.462159</td>\n",
       "      <td>0.418</td>\n",
       "      <td>0.286145</td>\n",
       "      <td>0.1230</td>\n",
       "      <td>[0.696, 0.76, 0.46215943491422806, 0.418, 0.28...</td>\n",
       "      <td>2015</td>\n",
       "      <td>0.295931</td>\n",
       "      <td>-0.447255</td>\n",
       "    </tr>\n",
       "    <tr>\n",
       "      <th>93628</th>\n",
       "      <td>2020-02-27</td>\n",
       "      <td>4RVtBlHFKj51Ipvpfv5ER4</td>\n",
       "      <td>Drown (feat. Clinton Kane)</td>\n",
       "      <td>Martin Garrix, Clinton Kane</td>\n",
       "      <td>0.739</td>\n",
       "      <td>0.77</td>\n",
       "      <td>0.578204</td>\n",
       "      <td>0.363</td>\n",
       "      <td>0.212851</td>\n",
       "      <td>0.1750</td>\n",
       "      <td>[0.739, 0.77, 0.5782038345105953, 0.363, 0.212...</td>\n",
       "      <td>2020</td>\n",
       "      <td>0.307558</td>\n",
       "      <td>-0.446954</td>\n",
       "    </tr>\n",
       "    <tr>\n",
       "      <th>439343</th>\n",
       "      <td>2021-01-15</td>\n",
       "      <td>6niGCULksHzD0NHyX3zCuB</td>\n",
       "      <td>Foi por Conveniência</td>\n",
       "      <td>Marília Mendonça</td>\n",
       "      <td>0.616</td>\n",
       "      <td>0.71</td>\n",
       "      <td>0.510595</td>\n",
       "      <td>0.511</td>\n",
       "      <td>0.166667</td>\n",
       "      <td>0.1740</td>\n",
       "      <td>[0.616, 0.71, 0.5105953582240161, 0.511, 0.166...</td>\n",
       "      <td>2021</td>\n",
       "      <td>0.240528</td>\n",
       "      <td>-0.446578</td>\n",
       "    </tr>\n",
       "    <tr>\n",
       "      <th>87075</th>\n",
       "      <td>2014-04-01</td>\n",
       "      <td>1MJ5f5EYBC92ADD6xcz7nb</td>\n",
       "      <td>Chamber Of Reflection</td>\n",
       "      <td>Mac DeMarco</td>\n",
       "      <td>0.558</td>\n",
       "      <td>0.76</td>\n",
       "      <td>0.541877</td>\n",
       "      <td>0.505</td>\n",
       "      <td>0.264056</td>\n",
       "      <td>0.1020</td>\n",
       "      <td>[0.558, 0.76, 0.5418768920282543, 0.505, 0.264...</td>\n",
       "      <td>2014</td>\n",
       "      <td>0.296817</td>\n",
       "      <td>-0.446546</td>\n",
       "    </tr>\n",
       "    <tr>\n",
       "      <th>400327</th>\n",
       "      <td>2021-03-18</td>\n",
       "      <td>28YIUCbsjIlA5L05SfQQ9B</td>\n",
       "      <td>VERGOGNA</td>\n",
       "      <td>Madame</td>\n",
       "      <td>0.677</td>\n",
       "      <td>0.63</td>\n",
       "      <td>0.596367</td>\n",
       "      <td>0.429</td>\n",
       "      <td>0.241968</td>\n",
       "      <td>0.2020</td>\n",
       "      <td>[0.677, 0.63, 0.5963673057517659, 0.429, 0.241...</td>\n",
       "      <td>2021</td>\n",
       "      <td>0.150670</td>\n",
       "      <td>-0.446464</td>\n",
       "    </tr>\n",
       "    <tr>\n",
       "      <th>305223</th>\n",
       "      <td>2020-06-19</td>\n",
       "      <td>5cYFwgA5dHoqR3xGnlr9ew</td>\n",
       "      <td>I Hope (feat. Charlie Puth)</td>\n",
       "      <td>Gabby Barrett, Charlie Puth</td>\n",
       "      <td>0.576</td>\n",
       "      <td>0.72</td>\n",
       "      <td>0.559031</td>\n",
       "      <td>0.409</td>\n",
       "      <td>0.171687</td>\n",
       "      <td>0.1590</td>\n",
       "      <td>[0.576, 0.72, 0.5590312815338042, 0.409, 0.171...</td>\n",
       "      <td>2020</td>\n",
       "      <td>0.252323</td>\n",
       "      <td>-0.446142</td>\n",
       "    </tr>\n",
       "    <tr>\n",
       "      <th>93598</th>\n",
       "      <td>2020-09-25</td>\n",
       "      <td>170DNUSnQRp1tGpppF26pA</td>\n",
       "      <td>Epidemic</td>\n",
       "      <td>Polo G</td>\n",
       "      <td>0.617</td>\n",
       "      <td>0.77</td>\n",
       "      <td>0.621594</td>\n",
       "      <td>0.476</td>\n",
       "      <td>0.128514</td>\n",
       "      <td>0.1770</td>\n",
       "      <td>[0.617, 0.77, 0.6215943491422805, 0.476, 0.128...</td>\n",
       "      <td>2020</td>\n",
       "      <td>0.308621</td>\n",
       "      <td>-0.446103</td>\n",
       "    </tr>\n",
       "    <tr>\n",
       "      <th>93814</th>\n",
       "      <td>2021-01-15</td>\n",
       "      <td>5YaskwnGDZFDRipaqzbwQx</td>\n",
       "      <td>Your Love (9PM)</td>\n",
       "      <td>ATB, Topic, A7S</td>\n",
       "      <td>0.784</td>\n",
       "      <td>0.91</td>\n",
       "      <td>0.675076</td>\n",
       "      <td>0.517</td>\n",
       "      <td>0.194779</td>\n",
       "      <td>0.1150</td>\n",
       "      <td>[0.784, 0.91, 0.6750756811301716, 0.517, 0.194...</td>\n",
       "      <td>2021</td>\n",
       "      <td>0.466227</td>\n",
       "      <td>-0.446018</td>\n",
       "    </tr>\n",
       "    <tr>\n",
       "      <th>88942</th>\n",
       "      <td>2016-11-25</td>\n",
       "      <td>7MXVkk9YMctZqd1Srtv4MB</td>\n",
       "      <td>Starboy</td>\n",
       "      <td>The Weeknd, Daft Punk</td>\n",
       "      <td>0.587</td>\n",
       "      <td>0.86</td>\n",
       "      <td>0.685166</td>\n",
       "      <td>0.486</td>\n",
       "      <td>0.141566</td>\n",
       "      <td>0.1370</td>\n",
       "      <td>[0.587, 0.86, 0.6851664984863775, 0.486, 0.141...</td>\n",
       "      <td>2016</td>\n",
       "      <td>0.410540</td>\n",
       "      <td>-0.445568</td>\n",
       "    </tr>\n",
       "    <tr>\n",
       "      <th>92885</th>\n",
       "      <td>2020-09-18</td>\n",
       "      <td>5u1n1kITHCxxp8twBcZxWy</td>\n",
       "      <td>Holy (feat. Chance The Rapper)</td>\n",
       "      <td>Justin Bieber, Chance the Rapper</td>\n",
       "      <td>0.704</td>\n",
       "      <td>0.87</td>\n",
       "      <td>0.679112</td>\n",
       "      <td>0.372</td>\n",
       "      <td>0.196787</td>\n",
       "      <td>0.0898</td>\n",
       "      <td>[0.704, 0.87, 0.6791120080726539, 0.372, 0.196...</td>\n",
       "      <td>2020</td>\n",
       "      <td>0.422101</td>\n",
       "      <td>-0.445319</td>\n",
       "    </tr>\n",
       "    <tr>\n",
       "      <th>93279</th>\n",
       "      <td>2020-03-06</td>\n",
       "      <td>4vjpLMyL3ZO6aphdYr8XYw</td>\n",
       "      <td>i'm so tired...</td>\n",
       "      <td>Lauv, Troye Sivan</td>\n",
       "      <td>0.733</td>\n",
       "      <td>0.80</td>\n",
       "      <td>0.604440</td>\n",
       "      <td>0.534</td>\n",
       "      <td>0.176707</td>\n",
       "      <td>0.2420</td>\n",
       "      <td>[0.733, 0.8, 0.6044399596367306, 0.534, 0.1767...</td>\n",
       "      <td>2020</td>\n",
       "      <td>0.343530</td>\n",
       "      <td>-0.445176</td>\n",
       "    </tr>\n",
       "    <tr>\n",
       "      <th>93165</th>\n",
       "      <td>2020-10-15</td>\n",
       "      <td>7E2C5rBLpCKwQlhJPVFBRS</td>\n",
       "      <td>You’re Mines Still (feat. Drake)</td>\n",
       "      <td>Yung Bleu, Drake</td>\n",
       "      <td>0.609</td>\n",
       "      <td>0.82</td>\n",
       "      <td>0.580222</td>\n",
       "      <td>0.339</td>\n",
       "      <td>0.318273</td>\n",
       "      <td>0.1050</td>\n",
       "      <td>[0.609, 0.8200000000000001, 0.5802219979818365...</td>\n",
       "      <td>2020</td>\n",
       "      <td>0.366043</td>\n",
       "      <td>-0.445165</td>\n",
       "    </tr>\n",
       "    <tr>\n",
       "      <th>90697</th>\n",
       "      <td>2017-03-03</td>\n",
       "      <td>0Ev562zA4pmUsBqjxsxxdx</td>\n",
       "      <td>Feel Good (feat. Daya)</td>\n",
       "      <td>Gryffin, ILLENIUM, Daya</td>\n",
       "      <td>0.707</td>\n",
       "      <td>0.71</td>\n",
       "      <td>0.630676</td>\n",
       "      <td>0.479</td>\n",
       "      <td>0.220884</td>\n",
       "      <td>0.2130</td>\n",
       "      <td>[0.707, 0.71, 0.6306760847628657, 0.479, 0.220...</td>\n",
       "      <td>2017</td>\n",
       "      <td>0.242358</td>\n",
       "      <td>-0.445114</td>\n",
       "    </tr>\n",
       "    <tr>\n",
       "      <th>300803</th>\n",
       "      <td>1995-10-10</td>\n",
       "      <td>6urCAbunOQI4bLhmGpX7iS</td>\n",
       "      <td>Don't Speak</td>\n",
       "      <td>No Doubt</td>\n",
       "      <td>0.709</td>\n",
       "      <td>0.70</td>\n",
       "      <td>0.524723</td>\n",
       "      <td>0.536</td>\n",
       "      <td>0.247992</td>\n",
       "      <td>0.1800</td>\n",
       "      <td>[0.709, 0.7000000000000001, 0.5247225025227044...</td>\n",
       "      <td>1995</td>\n",
       "      <td>0.231178</td>\n",
       "      <td>-0.445057</td>\n",
       "    </tr>\n",
       "    <tr>\n",
       "      <th>488737</th>\n",
       "      <td>2020-11-06</td>\n",
       "      <td>45Q6RNX1yeHpGZpR0RjpKI</td>\n",
       "      <td>Lost</td>\n",
       "      <td>Blake Rose</td>\n",
       "      <td>0.687</td>\n",
       "      <td>0.71</td>\n",
       "      <td>0.602422</td>\n",
       "      <td>0.502</td>\n",
       "      <td>0.216867</td>\n",
       "      <td>0.1070</td>\n",
       "      <td>[0.687, 0.71, 0.6024217961654894, 0.502, 0.216...</td>\n",
       "      <td>2020</td>\n",
       "      <td>0.242915</td>\n",
       "      <td>-0.444668</td>\n",
       "    </tr>\n",
       "    <tr>\n",
       "      <th>88956</th>\n",
       "      <td>2016-04-08</td>\n",
       "      <td>2IVsRhKrx8hlQBOWy4qebo</td>\n",
       "      <td>Mr Loverman</td>\n",
       "      <td>Ricky Montgomery</td>\n",
       "      <td>0.526</td>\n",
       "      <td>0.83</td>\n",
       "      <td>0.644803</td>\n",
       "      <td>0.488</td>\n",
       "      <td>0.245984</td>\n",
       "      <td>0.2500</td>\n",
       "      <td>[0.526, 0.8300000000000001, 0.644803229061554,...</td>\n",
       "      <td>2016</td>\n",
       "      <td>0.378020</td>\n",
       "      <td>-0.444584</td>\n",
       "    </tr>\n",
       "    <tr>\n",
       "      <th>87166</th>\n",
       "      <td>2014-01-01</td>\n",
       "      <td>5Y6nVaayzitvsD5F7nr3DV</td>\n",
       "      <td>West Coast</td>\n",
       "      <td>Lana Del Rey</td>\n",
       "      <td>0.591</td>\n",
       "      <td>0.72</td>\n",
       "      <td>0.531786</td>\n",
       "      <td>0.461</td>\n",
       "      <td>0.194779</td>\n",
       "      <td>0.0907</td>\n",
       "      <td>[0.591, 0.72, 0.5317860746720484, 0.461, 0.194...</td>\n",
       "      <td>2014</td>\n",
       "      <td>0.254471</td>\n",
       "      <td>-0.444424</td>\n",
       "    </tr>\n",
       "    <tr>\n",
       "      <th>88336</th>\n",
       "      <td>2015-08-14</td>\n",
       "      <td>3K1tdhoeE6koNnWgAxEK9Y</td>\n",
       "      <td>Mrs. Potato Head</td>\n",
       "      <td>Melanie Martinez</td>\n",
       "      <td>0.622</td>\n",
       "      <td>0.70</td>\n",
       "      <td>0.521695</td>\n",
       "      <td>0.463</td>\n",
       "      <td>0.174699</td>\n",
       "      <td>0.1050</td>\n",
       "      <td>[0.622, 0.7000000000000001, 0.5216952573158425...</td>\n",
       "      <td>2015</td>\n",
       "      <td>0.232201</td>\n",
       "      <td>-0.444240</td>\n",
       "    </tr>\n",
       "    <tr>\n",
       "      <th>72441</th>\n",
       "      <td>1999-05-18</td>\n",
       "      <td>47BBI51FKFwOMlIiX6m8ya</td>\n",
       "      <td>I Want It That Way</td>\n",
       "      <td>Backstreet Boys</td>\n",
       "      <td>0.694</td>\n",
       "      <td>0.80</td>\n",
       "      <td>0.695257</td>\n",
       "      <td>0.482</td>\n",
       "      <td>0.258032</td>\n",
       "      <td>0.1480</td>\n",
       "      <td>[0.694, 0.8, 0.6952573158425832, 0.482, 0.2580...</td>\n",
       "      <td>1999</td>\n",
       "      <td>0.344911</td>\n",
       "      <td>-0.444071</td>\n",
       "    </tr>\n",
       "    <tr>\n",
       "      <th>86242</th>\n",
       "      <td>2013-11-25</td>\n",
       "      <td>6nIE1oCE4udqMGv3bqVNVb</td>\n",
       "      <td>Half a Heart</td>\n",
       "      <td>One Direction</td>\n",
       "      <td>0.714</td>\n",
       "      <td>0.71</td>\n",
       "      <td>0.519677</td>\n",
       "      <td>0.495</td>\n",
       "      <td>0.287149</td>\n",
       "      <td>0.1180</td>\n",
       "      <td>[0.714, 0.71, 0.5196770938446014, 0.495, 0.287...</td>\n",
       "      <td>2013</td>\n",
       "      <td>0.244123</td>\n",
       "      <td>-0.443701</td>\n",
       "    </tr>\n",
       "    <tr>\n",
       "      <th>132187</th>\n",
       "      <td>2020-01-29</td>\n",
       "      <td>0oHEteATZnAZuA9dl1dXF3</td>\n",
       "      <td>Sensitive</td>\n",
       "      <td>Serena Isioma</td>\n",
       "      <td>0.649</td>\n",
       "      <td>0.76</td>\n",
       "      <td>0.606458</td>\n",
       "      <td>0.351</td>\n",
       "      <td>0.166667</td>\n",
       "      <td>0.1650</td>\n",
       "      <td>[0.649, 0.76, 0.6064581231079716, 0.351, 0.166...</td>\n",
       "      <td>2020</td>\n",
       "      <td>0.300822</td>\n",
       "      <td>-0.443343</td>\n",
       "    </tr>\n",
       "    <tr>\n",
       "      <th>91091</th>\n",
       "      <td>2018-05-11</td>\n",
       "      <td>2BJSMvOGABRxokHKB0OI8i</td>\n",
       "      <td>Shoota (feat. Lil Uzi Vert)</td>\n",
       "      <td>Playboi Carti, Lil Uzi Vert</td>\n",
       "      <td>0.649</td>\n",
       "      <td>0.78</td>\n",
       "      <td>0.679112</td>\n",
       "      <td>0.470</td>\n",
       "      <td>0.188755</td>\n",
       "      <td>0.1220</td>\n",
       "      <td>[0.649, 0.78, 0.6791120080726539, 0.47, 0.1887...</td>\n",
       "      <td>2018</td>\n",
       "      <td>0.323628</td>\n",
       "      <td>-0.443098</td>\n",
       "    </tr>\n",
       "  </tbody>\n",
       "</table>\n",
       "</div>"
      ],
      "text/plain": [
       "       release_date                      id  \\\n",
       "93978    2021-01-29  6u3CPnFMKANYgfdiifFOiJ   \n",
       "94024    2021-03-10  45kgqMRkC29qjBlzeaJcad   \n",
       "93141    2020-10-23  6IBcOGPsniK3Pso1wHIhew   \n",
       "86018    2013-09-09  5FVd6KXrgO9B3JPmC8OPst   \n",
       "93888    2021-03-26  2FSGUA0gFgGeQdprjtGM2M   \n",
       "85063    2012-09-04  5qaEfEh1AtSdrdrByCP7qR   \n",
       "92451    2019-09-06  2C6WXnmZ66tHhHlnvwePiK   \n",
       "92043    2019-12-27  40mjsnRjCpycdUw3xhS20g   \n",
       "158717   2020-12-15  4hnwfhQbZKaNpC1q9zgB4A   \n",
       "74448    2001-03-27  2hKdd3qO7cWr2Jo0Bcs0MA   \n",
       "468699   2021-03-26  3JYxIozjRsvEmHrIvfFhud   \n",
       "88948    2016-04-08  5NvOZCjZaGGGL597exlQWv   \n",
       "65438    1992-01-01  0jWgAnTrNZmOGmqgvHhZEm   \n",
       "91904    2019-10-04  2wrJq5XKLnmhRXHIAf9xBa   \n",
       "93839    2021-04-09  7eResoqEJJAVTkQYSqvO3P   \n",
       "75441    2002-01-01  4llK75pXNWZz6KAho2Gp16   \n",
       "400215   2021-02-17  32SclbEhaMKvlMbncpy8W2   \n",
       "89930    2017-10-06  52okn5MNA47tk87PeZJLEL   \n",
       "94139    2021-02-05  6m187iACTSAZDYMaV0klqj   \n",
       "112914   2012-12-07  3UN6cIn3VIyg0z1LCuFSum   \n",
       "92829    2020-10-30  6ft4hAq6yde8jPZY2i5zLr   \n",
       "585032   2020-01-24  3o1CUVeHIid49sabk6A6Nf   \n",
       "90465    2017-11-17  5AnSllIrgGsCZzZJkVnApx   \n",
       "78409    2005-10-24  0HBrtXJohbIW4IhPZ50GmH   \n",
       "90475    2017-03-18  2KvHC9z14GSl4YpkNMX384   \n",
       "91176    2018-12-14  0lks2Kt9veMOFEAPN0fsqN   \n",
       "93760    2020-01-10  61ZM92T2zaXIVsqncThQzC   \n",
       "94002    2021-02-05  4Agtk2MrapdZAVN7v6PuFO   \n",
       "88083    2015-07-09  4B2kkxg3wKSTZw5JPaUtzQ   \n",
       "93628    2020-02-27  4RVtBlHFKj51Ipvpfv5ER4   \n",
       "439343   2021-01-15  6niGCULksHzD0NHyX3zCuB   \n",
       "87075    2014-04-01  1MJ5f5EYBC92ADD6xcz7nb   \n",
       "400327   2021-03-18  28YIUCbsjIlA5L05SfQQ9B   \n",
       "305223   2020-06-19  5cYFwgA5dHoqR3xGnlr9ew   \n",
       "93598    2020-09-25  170DNUSnQRp1tGpppF26pA   \n",
       "93814    2021-01-15  5YaskwnGDZFDRipaqzbwQx   \n",
       "88942    2016-11-25  7MXVkk9YMctZqd1Srtv4MB   \n",
       "92885    2020-09-18  5u1n1kITHCxxp8twBcZxWy   \n",
       "93279    2020-03-06  4vjpLMyL3ZO6aphdYr8XYw   \n",
       "93165    2020-10-15  7E2C5rBLpCKwQlhJPVFBRS   \n",
       "90697    2017-03-03  0Ev562zA4pmUsBqjxsxxdx   \n",
       "300803   1995-10-10  6urCAbunOQI4bLhmGpX7iS   \n",
       "488737   2020-11-06  45Q6RNX1yeHpGZpR0RjpKI   \n",
       "88956    2016-04-08  2IVsRhKrx8hlQBOWy4qebo   \n",
       "87166    2014-01-01  5Y6nVaayzitvsD5F7nr3DV   \n",
       "88336    2015-08-14  3K1tdhoeE6koNnWgAxEK9Y   \n",
       "72441    1999-05-18  47BBI51FKFwOMlIiX6m8ya   \n",
       "86242    2013-11-25  6nIE1oCE4udqMGv3bqVNVb   \n",
       "132187   2020-01-29  0oHEteATZnAZuA9dl1dXF3   \n",
       "91091    2018-05-11  2BJSMvOGABRxokHKB0OI8i   \n",
       "\n",
       "                                                     name  \\\n",
       "93978                  Gravity (feat. Tyler, The Creator)   \n",
       "94024                                       Street Runner   \n",
       "93141                                   Forever After All   \n",
       "86018                                    Do I Wanna Know?   \n",
       "93888                                          EL MAKINON   \n",
       "85063                                              Demons   \n",
       "92451                  Die For Me (feat. Future & Halsey)   \n",
       "92043                                               GATTI   \n",
       "158717                                             Extasy   \n",
       "74448                          Drops of Jupiter (Tell Me)   \n",
       "468699                                      Street Runner   \n",
       "88948                                 Line Without a Hook   \n",
       "65438                                          What's Up?   \n",
       "91904                   10,000 Hours (with Justin Bieber)   \n",
       "93839   That’s When (feat. Keith Urban) (Taylor’s Vers...   \n",
       "75441                       She Will Be Loved - Radio Mix   \n",
       "400215                                     tutta la notte   \n",
       "89930                                        Let You Down   \n",
       "94139                                     Freio da Blazer   \n",
       "112914                          Without You (feat. Usher)   \n",
       "92829                     Paradise (feat. Dermot Kennedy)   \n",
       "585032                     Forever Yours - Avicii Tribute   \n",
       "90465                                         Eyes On You   \n",
       "78409                                         The Bidding   \n",
       "90475                                      Do Not Disturb   \n",
       "91176                                                Lily   \n",
       "93760                          In Your Eyes (feat. Alida)   \n",
       "94002                                            Roadtrip   \n",
       "88083                                             On & On   \n",
       "93628                          Drown (feat. Clinton Kane)   \n",
       "439343                               Foi por Conveniência   \n",
       "87075                               Chamber Of Reflection   \n",
       "400327                                           VERGOGNA   \n",
       "305223                        I Hope (feat. Charlie Puth)   \n",
       "93598                                            Epidemic   \n",
       "93814                                     Your Love (9PM)   \n",
       "88942                                             Starboy   \n",
       "92885                      Holy (feat. Chance The Rapper)   \n",
       "93279                                     i'm so tired...   \n",
       "93165                    You’re Mines Still (feat. Drake)   \n",
       "90697                              Feel Good (feat. Daya)   \n",
       "300803                                        Don't Speak   \n",
       "488737                                               Lost   \n",
       "88956                                         Mr Loverman   \n",
       "87166                                          West Coast   \n",
       "88336                                    Mrs. Potato Head   \n",
       "72441                                  I Want It That Way   \n",
       "86242                                        Half a Heart   \n",
       "132187                                          Sensitive   \n",
       "91091                         Shoota (feat. Lil Uzi Vert)   \n",
       "\n",
       "                                          artists  energy  popularity  \\\n",
       "93978   Brent Faiyaz, DJ Dahi, Tyler, The Creator   0.615        0.81   \n",
       "94024                                    Rod Wave   0.610        0.80   \n",
       "93141                                  Luke Combs   0.650        0.82   \n",
       "86018                              Arctic Monkeys   0.532        0.87   \n",
       "93888                     KAROL G, Mariah Angeliq   0.706        0.84   \n",
       "85063                             Imagine Dragons   0.710        0.82   \n",
       "92451                 Post Malone, Halsey, Future   0.660        0.75   \n",
       "92043           JACKBOYS, Pop Smoke, Travis Scott   0.676        0.80   \n",
       "158717                                Myke Towers   0.667        0.73   \n",
       "74448                                       Train   0.638        0.79   \n",
       "468699                                   Rod Wave   0.610        0.73   \n",
       "88948                            Ricky Montgomery   0.652        0.84   \n",
       "65438                               4 Non Blondes   0.564        0.81   \n",
       "91904                   Dan + Shay, Justin Bieber   0.630        0.85   \n",
       "93839                   Taylor Swift, Keith Urban   0.608        0.77   \n",
       "75441                                    Maroon 5   0.663        0.80   \n",
       "400215                                sangiovanni   0.668        0.74   \n",
       "89930                                          NF   0.714        0.83   \n",
       "94139                                      L7NNON   0.630        0.78   \n",
       "112914                        David Guetta, Usher   0.614        0.71   \n",
       "92829                      MEDUZA, Dermot Kennedy   0.595        0.92   \n",
       "585032               Kygo, Avicii, Sandro Cavazza   0.612        0.68   \n",
       "90465                                  Chase Rice   0.652        0.73   \n",
       "78409                                  Tally Hall   0.607        0.73   \n",
       "90475                                       Drake   0.693        0.73   \n",
       "91176           Alan Walker, K-391, Emelie Hollow   0.634        0.77   \n",
       "93760                         Robin Schulz, Alida   0.672        0.76   \n",
       "94002                               Dream, PmBata   0.581        0.80   \n",
       "88083                        Cartoon, Daniel Levi   0.696        0.76   \n",
       "93628                 Martin Garrix, Clinton Kane   0.739        0.77   \n",
       "439343                           Marília Mendonça   0.616        0.71   \n",
       "87075                                 Mac DeMarco   0.558        0.76   \n",
       "400327                                     Madame   0.677        0.63   \n",
       "305223                Gabby Barrett, Charlie Puth   0.576        0.72   \n",
       "93598                                      Polo G   0.617        0.77   \n",
       "93814                             ATB, Topic, A7S   0.784        0.91   \n",
       "88942                       The Weeknd, Daft Punk   0.587        0.86   \n",
       "92885            Justin Bieber, Chance the Rapper   0.704        0.87   \n",
       "93279                           Lauv, Troye Sivan   0.733        0.80   \n",
       "93165                            Yung Bleu, Drake   0.609        0.82   \n",
       "90697                     Gryffin, ILLENIUM, Daya   0.707        0.71   \n",
       "300803                                   No Doubt   0.709        0.70   \n",
       "488737                                 Blake Rose   0.687        0.71   \n",
       "88956                            Ricky Montgomery   0.526        0.83   \n",
       "87166                                Lana Del Rey   0.591        0.72   \n",
       "88336                            Melanie Martinez   0.622        0.70   \n",
       "72441                             Backstreet Boys   0.694        0.80   \n",
       "86242                               One Direction   0.714        0.71   \n",
       "132187                              Serena Isioma   0.649        0.76   \n",
       "91091                 Playboi Carti, Lil Uzi Vert   0.649        0.78   \n",
       "\n",
       "        danceability  valence  acousticness  liveness  \\\n",
       "93978       0.543895    0.493      0.173695    0.1440   \n",
       "94024       0.618567    0.433      0.211847    0.1520   \n",
       "93141       0.491423    0.456      0.191767    0.0933   \n",
       "86018       0.552977    0.405      0.186747    0.2170   \n",
       "93888       0.640767    0.443      0.257028    0.1080   \n",
       "85063       0.509586    0.428      0.190763    0.2690   \n",
       "92451       0.619576    0.452      0.190763    0.2110   \n",
       "92043       0.599395    0.472      0.135542    0.1630   \n",
       "158717      0.531786    0.463      0.288153    0.1130   \n",
       "74448       0.485368    0.497      0.153614    0.1540   \n",
       "468699      0.618567    0.433      0.211847    0.1520   \n",
       "88948       0.435923    0.507      0.263052    0.2580   \n",
       "65438       0.570131    0.454      0.161647    0.1140   \n",
       "91904       0.659939    0.430      0.153614    0.1110   \n",
       "93839       0.593340    0.508      0.225904    0.0920   \n",
       "75441       0.656912    0.465      0.228916    0.0994   \n",
       "400215      0.610494    0.442      0.213855    0.1010   \n",
       "89930       0.668012    0.464      0.313253    0.1790   \n",
       "94139       0.519677    0.367      0.275100    0.1000   \n",
       "112914      0.613522    0.402      0.227912    0.1570   \n",
       "92829       0.637740    0.435      0.069177    0.2090   \n",
       "585032      0.533804    0.434      0.254016    0.2460   \n",
       "90465       0.611504    0.476      0.324297    0.2010   \n",
       "78409       0.542886    0.515      0.248996    0.0999   \n",
       "90475       0.623613    0.454      0.246988    0.1120   \n",
       "91176       0.426842    0.467      0.196787    0.1890   \n",
       "93760       0.575177    0.461      0.172691    0.0768   \n",
       "94002       0.463169    0.490      0.317269    0.1240   \n",
       "88083       0.462159    0.418      0.286145    0.1230   \n",
       "93628       0.578204    0.363      0.212851    0.1750   \n",
       "439343      0.510595    0.511      0.166667    0.1740   \n",
       "87075       0.541877    0.505      0.264056    0.1020   \n",
       "400327      0.596367    0.429      0.241968    0.2020   \n",
       "305223      0.559031    0.409      0.171687    0.1590   \n",
       "93598       0.621594    0.476      0.128514    0.1770   \n",
       "93814       0.675076    0.517      0.194779    0.1150   \n",
       "88942       0.685166    0.486      0.141566    0.1370   \n",
       "92885       0.679112    0.372      0.196787    0.0898   \n",
       "93279       0.604440    0.534      0.176707    0.2420   \n",
       "93165       0.580222    0.339      0.318273    0.1050   \n",
       "90697       0.630676    0.479      0.220884    0.2130   \n",
       "300803      0.524723    0.536      0.247992    0.1800   \n",
       "488737      0.602422    0.502      0.216867    0.1070   \n",
       "88956       0.644803    0.488      0.245984    0.2500   \n",
       "87166       0.531786    0.461      0.194779    0.0907   \n",
       "88336       0.521695    0.463      0.174699    0.1050   \n",
       "72441       0.695257    0.482      0.258032    0.1480   \n",
       "86242       0.519677    0.495      0.287149    0.1180   \n",
       "132187      0.606458    0.351      0.166667    0.1650   \n",
       "91091       0.679112    0.470      0.188755    0.1220   \n",
       "\n",
       "                                                     comp     Y  similarity  \\\n",
       "93978   [0.615, 0.81, 0.5438950554994955, 0.493, 0.173...  2021    0.328944   \n",
       "94024   [0.61, 0.8, 0.6185671039354187, 0.433, 0.21184...  2021    0.319263   \n",
       "93141   [0.65, 0.8200000000000001, 0.491422805247225, ...  2020    0.345879   \n",
       "86018   [0.532, 0.87, 0.5529767911200808, 0.405, 0.186...  2013    0.402137   \n",
       "93888   [0.706, 0.84, 0.6407669021190716, 0.443, 0.257...  2021    0.370114   \n",
       "85063   [0.71, 0.8200000000000001, 0.5095862764883955,...  2012    0.350700   \n",
       "92451   [0.66, 0.75, 0.6195761856710393, 0.452, 0.1907...  2019    0.272053   \n",
       "92043   [0.676, 0.8, 0.5993945509586276, 0.472, 0.1355...  2019    0.329324   \n",
       "158717  [0.667, 0.73, 0.5317860746720484, 0.463, 0.288...  2020    0.251545   \n",
       "74448   [0.638, 0.79, 0.48536831483350146, 0.497, 0.15...  2001    0.319206   \n",
       "468699  [0.61, 0.73, 0.6185671039354187, 0.433, 0.2118...  2021    0.252921   \n",
       "88948   [0.652, 0.84, 0.4359233097880928, 0.507, 0.263...  2016    0.377069   \n",
       "65438   [0.564, 0.81, 0.5701311806256306, 0.454, 0.161...  1992    0.343373   \n",
       "91904   [0.63, 0.85, 0.6599394550958627, 0.43, 0.15361...  2019    0.389994   \n",
       "93839   [0.608, 0.77, 0.5933400605449041, 0.508, 0.225...  2021    0.300708   \n",
       "75441   [0.663, 0.8, 0.656912209889001, 0.465, 0.22891...  2002    0.334733   \n",
       "400215  [0.668, 0.74, 0.610494450050454, 0.442, 0.2138...  2021    0.267785   \n",
       "89930   [0.714, 0.8300000000000001, 0.6680121089808274...  2017    0.369690   \n",
       "94139   [0.63, 0.78, 0.5196770938446014, 0.367, 0.2751...  2021    0.313821   \n",
       "112914  [0.614, 0.71, 0.6135216952573158, 0.402, 0.227...  2012    0.235374   \n",
       "92829   [0.595, 0.92, 0.6377396569122099, 0.435, 0.069...  2020    0.471811   \n",
       "585032  [0.612, 0.68, 0.5338042381432896, 0.434, 0.254...  2020    0.203068   \n",
       "90465   [0.652, 0.73, 0.6115035317860746, 0.476, 0.324...  2017    0.259826   \n",
       "78409   [0.607, 0.73, 0.5428859737638749, 0.515, 0.248...  2005    0.259865   \n",
       "90475   [0.693, 0.73, 0.6236125126135217, 0.454, 0.246...  2017    0.260452   \n",
       "91176   [0.634, 0.77, 0.42684157416750756, 0.467, 0.19...  2018    0.306172   \n",
       "93760   [0.672, 0.76, 0.5751765893037335, 0.461, 0.172...  2020    0.295347   \n",
       "94002   [0.581, 0.8, 0.46316851664984865, 0.49, 0.3172...  2021    0.340625   \n",
       "88083   [0.696, 0.76, 0.46215943491422806, 0.418, 0.28...  2015    0.295931   \n",
       "93628   [0.739, 0.77, 0.5782038345105953, 0.363, 0.212...  2020    0.307558   \n",
       "439343  [0.616, 0.71, 0.5105953582240161, 0.511, 0.166...  2021    0.240528   \n",
       "87075   [0.558, 0.76, 0.5418768920282543, 0.505, 0.264...  2014    0.296817   \n",
       "400327  [0.677, 0.63, 0.5963673057517659, 0.429, 0.241...  2021    0.150670   \n",
       "305223  [0.576, 0.72, 0.5590312815338042, 0.409, 0.171...  2020    0.252323   \n",
       "93598   [0.617, 0.77, 0.6215943491422805, 0.476, 0.128...  2020    0.308621   \n",
       "93814   [0.784, 0.91, 0.6750756811301716, 0.517, 0.194...  2021    0.466227   \n",
       "88942   [0.587, 0.86, 0.6851664984863775, 0.486, 0.141...  2016    0.410540   \n",
       "92885   [0.704, 0.87, 0.6791120080726539, 0.372, 0.196...  2020    0.422101   \n",
       "93279   [0.733, 0.8, 0.6044399596367306, 0.534, 0.1767...  2020    0.343530   \n",
       "93165   [0.609, 0.8200000000000001, 0.5802219979818365...  2020    0.366043   \n",
       "90697   [0.707, 0.71, 0.6306760847628657, 0.479, 0.220...  2017    0.242358   \n",
       "300803  [0.709, 0.7000000000000001, 0.5247225025227044...  1995    0.231178   \n",
       "488737  [0.687, 0.71, 0.6024217961654894, 0.502, 0.216...  2020    0.242915   \n",
       "88956   [0.526, 0.8300000000000001, 0.644803229061554,...  2016    0.378020   \n",
       "87166   [0.591, 0.72, 0.5317860746720484, 0.461, 0.194...  2014    0.254471   \n",
       "88336   [0.622, 0.7000000000000001, 0.5216952573158425...  2015    0.232201   \n",
       "72441   [0.694, 0.8, 0.6952573158425832, 0.482, 0.2580...  1999    0.344911   \n",
       "86242   [0.714, 0.71, 0.5196770938446014, 0.495, 0.287...  2013    0.244123   \n",
       "132187  [0.649, 0.76, 0.6064581231079716, 0.351, 0.166...  2020    0.300822   \n",
       "91091   [0.649, 0.78, 0.6791120080726539, 0.47, 0.1887...  2018    0.323628   \n",
       "\n",
       "             met  \n",
       "93978  -0.465844  \n",
       "94024  -0.464590  \n",
       "93141  -0.461297  \n",
       "86018  -0.461290  \n",
       "93888  -0.459909  \n",
       "85063  -0.457440  \n",
       "92451  -0.457358  \n",
       "92043  -0.456541  \n",
       "158717 -0.455764  \n",
       "74448  -0.455635  \n",
       "468699 -0.454663  \n",
       "88948  -0.454345  \n",
       "65438  -0.454301  \n",
       "91904  -0.453005  \n",
       "93839  -0.452434  \n",
       "75441  -0.452213  \n",
       "400215 -0.451772  \n",
       "89930  -0.451248  \n",
       "94139  -0.450943  \n",
       "112914 -0.450701  \n",
       "92829  -0.450551  \n",
       "585032 -0.449546  \n",
       "90465  -0.449139  \n",
       "78409  -0.449108  \n",
       "90475  -0.448639  \n",
       "91176  -0.448063  \n",
       "93760  -0.447723  \n",
       "94002  -0.447500  \n",
       "88083  -0.447255  \n",
       "93628  -0.446954  \n",
       "439343 -0.446578  \n",
       "87075  -0.446546  \n",
       "400327 -0.446464  \n",
       "305223 -0.446142  \n",
       "93598  -0.446103  \n",
       "93814  -0.446018  \n",
       "88942  -0.445568  \n",
       "92885  -0.445319  \n",
       "93279  -0.445176  \n",
       "93165  -0.445165  \n",
       "90697  -0.445114  \n",
       "300803 -0.445057  \n",
       "488737 -0.444668  \n",
       "88956  -0.444584  \n",
       "87166  -0.444424  \n",
       "88336  -0.444240  \n",
       "72441  -0.444071  \n",
       "86242  -0.443701  \n",
       "132187 -0.443343  \n",
       "91091  -0.443098  "
      ]
     },
     "execution_count": 82,
     "metadata": {},
     "output_type": "execute_result"
    }
   ],
   "source": [
    "final.head(50)"
   ]
  },
  {
   "cell_type": "code",
   "execution_count": 83,
   "id": "ab858859",
   "metadata": {
    "colab": {
     "base_uri": "https://localhost:8080/",
     "height": 1000
    },
    "id": "ab858859",
    "outputId": "f9419f50-4cfc-48fb-d3cd-d79915b6f4c7"
   },
   "outputs": [],
   "source": [
    "tracks = final['id'].head(50)"
   ]
  },
  {
   "cell_type": "markdown",
   "id": "ca355e34",
   "metadata": {
    "id": "ca355e34"
   },
   "source": [
    "# Spotify"
   ]
  },
  {
   "cell_type": "code",
   "execution_count": 84,
   "id": "81154f44",
   "metadata": {
    "id": "81154f44"
   },
   "outputs": [],
   "source": [
    "import spotipy\n",
    "from spotipy.oauth2 import SpotifyClientCredentials\n",
    "import spotipy.util as util\n",
    "from spotipy.oauth2 import SpotifyOAuth\n",
    "from spotipy import oauth2"
   ]
  },
  {
   "cell_type": "code",
   "execution_count": 85,
   "id": "27fe3de7",
   "metadata": {
    "id": "27fe3de7"
   },
   "outputs": [],
   "source": [
    "    import spotconfig as conf\n",
    "\n",
    "    scopelist = ['ugc-image-upload',\n",
    "    'user-modify-playback-state',\n",
    "    'user-follow-modify',\n",
    "    'user-read-recently-played',\n",
    "    'user-read-playback-position',\n",
    "    'playlist-read-collaborative',\n",
    "    'app-remote-control',\n",
    "    'user-read-playback-state',\n",
    "    'user-read-email',\n",
    "    'streaming',\n",
    "    'user-top-read',\n",
    "    'playlist-modify-public',\n",
    "    'user-library-modify',\n",
    "    'user-follow-read',\n",
    "    'user-read-currently-playing',\n",
    "    'user-library-read',\n",
    "    'playlist-read-private',\n",
    "    'user-read-private',\n",
    "    'playlist-modify-private']\n"
   ]
  },
  {
   "cell_type": "code",
   "execution_count": 86,
   "id": "53e76ba2",
   "metadata": {
    "id": "53e76ba2"
   },
   "outputs": [],
   "source": [
    "# Insert your Spotify username and the credentials that you obtained from spotify developer\n",
    "cid = conf.Client_ID\n",
    "secret = conf.Client_Secret\n",
    "redirect_kostas='https://www.google.com/'\n",
    "username = 'kharzzz'"
   ]
  },
  {
   "cell_type": "code",
   "execution_count": 87,
   "id": "d40ada3f",
   "metadata": {
    "colab": {
     "base_uri": "https://localhost:8080/",
     "height": 323
    },
    "id": "d40ada3f",
    "outputId": "338e98e0-96e5-4f1c-d37a-a30656ef584a"
   },
   "outputs": [],
   "source": [
    "sp = spotipy.Spotify(auth_manager=SpotifyOAuth(client_id=cid,client_secret=secret,redirect_uri=redirect_kostas,scope=scopelist))"
   ]
  },
  {
   "cell_type": "code",
   "execution_count": 89,
   "id": "d3db8706",
   "metadata": {},
   "outputs": [],
   "source": [
    "user = me['id']"
   ]
  },
  {
   "cell_type": "markdown",
   "id": "40a06282",
   "metadata": {},
   "source": [
    "# The Desired Function"
   ]
  },
  {
   "cell_type": "code",
   "execution_count": 94,
   "id": "2b45cefd",
   "metadata": {
    "id": "2b45cefd"
   },
   "outputs": [],
   "source": [
    "def get_playlist():\n",
    "    print('How do you feel today?')\n",
    "    print(40*'-')\n",
    "    input_text = input()\n",
    "    print(40*'*')\n",
    "\n",
    "    text_vectorized = vectorizer.transform([input_text])\n",
    "\n",
    "    energypred = energymodelSGD.predict(text_vectorized.todense())\n",
    "    popularitypred = popularitymodelSGD.predict(text_vectorized.todense())\n",
    "    danceabilitypred = danceabilitymodelSGD.predict(text_vectorized.todense())\n",
    "    valencepred = valencemodelSGD.predict(text_vectorized.todense())\n",
    "    acousticnesspred = acousticnessmodelSGD.predict(text_vectorized.todense())\n",
    "    livenesspred = livenessmodelSGD.predict(text_vectorized.todense())\n",
    "    comparelist = [energypred[0][0],popularitypred[0][0],danceabilitypred[0][0],valencepred[0][0],acousticnesspred[0][0],livenesspred[0][0]]\n",
    "    \n",
    "    from scipy import spatial\n",
    "\n",
    "    data=pool.copy()\n",
    "    data=data[data['popularity']>0.60]\n",
    "    s=data['comp'].apply(lambda x: spatial.distance.euclidean(x, comparelist) )\n",
    "    data=data.assign(similarity=s)\n",
    "    data = data[data['similarity']<.5]\n",
    "\n",
    "    data['met']=data['similarity'].apply(lambda x: x*0.8)-(data['popularity']*0.9)\n",
    "\n",
    "    final = data.sort_values('met',ascending=True)\n",
    "    \n",
    "    tracks = final['id'].head(50)\n",
    "    \n",
    "    # Insert your Spotify username and the credentials that you obtained from spotify developer\n",
    "    cid = conf.Client_ID\n",
    "    secret = conf.Client_Secret\n",
    "    redirect_kostas='https://www.google.com/'\n",
    "    username = 'kharzzz'\n",
    "    \n",
    "    print('Please insert the desired name for your playlist:')\n",
    "    playname = input()\n",
    "    user = me['id']\n",
    "    playlist = sp.user_playlist_create(user = user,\n",
    "                        name=playname,\n",
    "                        description=f\"{input_text}\",)\n",
    "    \n",
    "    playlist_id = playlist['id']\n",
    "    \n",
    "    sp.user_playlist_add_tracks(user, playlist_id=playlist_id, tracks=tracks)"
   ]
  },
  {
   "cell_type": "code",
   "execution_count": 95,
   "id": "83360391",
   "metadata": {
    "scrolled": true
   },
   "outputs": [
    {
     "name": "stdout",
     "output_type": "stream",
     "text": [
      "How do you feel today?\n",
      "----------------------------------------\n",
      "Today I feel great, went for a walk in the park and then came back home to listen to my favorite songs and to drink a glass of wine\n",
      "****************************************\n",
      "1/1 [==============================] - 0s 21ms/step\n",
      "1/1 [==============================] - 0s 17ms/step\n",
      "1/1 [==============================] - 0s 18ms/step\n",
      "1/1 [==============================] - 0s 18ms/step\n",
      "1/1 [==============================] - 0s 17ms/step\n",
      "1/1 [==============================] - 0s 17ms/step\n",
      "Please insert the desired name for your playlist:\n",
      "Post Sunday Walk list\n"
     ]
    }
   ],
   "source": [
    "get_playlist()"
   ]
  },
  {
   "cell_type": "code",
   "execution_count": null,
   "id": "e5d5063b",
   "metadata": {},
   "outputs": [],
   "source": []
  }
 ],
 "metadata": {
  "accelerator": "GPU",
  "colab": {
   "collapsed_sections": [],
   "provenance": []
  },
  "gpuClass": "standard",
  "kernelspec": {
   "display_name": "Python 3",
   "language": "python",
   "name": "python3"
  },
  "language_info": {
   "codemirror_mode": {
    "name": "ipython",
    "version": 3
   },
   "file_extension": ".py",
   "mimetype": "text/x-python",
   "name": "python",
   "nbconvert_exporter": "python",
   "pygments_lexer": "ipython3",
   "version": "3.8.8"
  }
 },
 "nbformat": 4,
 "nbformat_minor": 5
}
